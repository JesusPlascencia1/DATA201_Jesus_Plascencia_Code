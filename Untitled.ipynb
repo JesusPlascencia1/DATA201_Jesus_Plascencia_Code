{
 "cells": [
  {
   "cell_type": "code",
   "execution_count": null,
   "id": "c7377f33-0a91-4d8e-b14b-43ab1328494b",
   "metadata": {},
   "outputs": [],
   "source": []
  }
 ],
 "metadata": {
  "kernelspec": {
   "display_name": "Python [conda env:base] *",
   "language": "python",
   "name": "conda-base-py"
  },
  "language_info": {
   "codemirror_mode": {
    "name": "ipython",
    "version": 3
   },
   "file_extension": ".py",
   "mimetype": "text/x-python",
   "name": "python",
   "nbconvert_exporter": "python",
   "pygments_lexer": "ipython3",
   "version": "3.12.2"
  }
 },
 "nbformat": 4,
 "nbformat_minor": 5
}
