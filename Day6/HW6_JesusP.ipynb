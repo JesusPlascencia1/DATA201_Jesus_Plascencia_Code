{
 "cells": [
  {
   "cell_type": "markdown",
   "id": "a949b12b-8630-4cbc-9dd7-9d74a6025b32",
   "metadata": {},
   "source": [
    "## Intermediate Data Science\n",
    "\n",
    "#### University of Redlands - DATA 201\n",
    "#### Author: Jesus Plascencia\n",
    "#### 9/22/2025"
   ]
  },
  {
   "cell_type": "code",
   "execution_count": 13,
   "id": "de98e579-f5a2-4f93-8911-5a2b04c75b0e",
   "metadata": {},
   "outputs": [
    {
     "name": "stderr",
     "output_type": "stream",
     "text": [
      "/opt/anaconda3/lib/python3.12/site-packages/kaleido/_sync_server.py:11: UserWarning:\n",
      "\n",
      "\n",
      "\n",
      "Warning: You have Plotly version 5.24.1, which is not compatible with this version of Kaleido (1.1.0).\n",
      "\n",
      "This means that static image generation (e.g. `fig.write_image()`) will not work.\n",
      "\n",
      "Please upgrade Plotly to version 6.1.1 or greater, or downgrade Kaleido to version 0.2.1.\n",
      "\n",
      "\n"
     ]
    }
   ],
   "source": [
    "# Some basic package imports\n",
    "import os\n",
    "import numpy as np\n",
    "import pandas as pd\n",
    "\n",
    "# Visualization packages\n",
    "import matplotlib.pyplot as plt\n",
    "import plotly.express as px\n",
    "from plotly.subplots import make_subplots\n",
    "import plotly.io as pio\n",
    "pio.renderers.defaule = 'colab'\n",
    "import seaborn as sns\n",
    "\n",
    "from bokeh.plotting import figure, show\n",
    "from bokeh.io import output_notebook\n",
    "from bokeh.models import HoverTool"
   ]
  },
  {
   "cell_type": "markdown",
   "id": "32e2350e-b373-4cac-b10a-8debb61d37cc",
   "metadata": {},
   "source": [
    "---------------\n",
    "## Visualization - Day6 HW\n",
    "\n",
    "## Homework 6\n",
    "\n",
    "Import the medical costs dataset:\n",
    "\n",
    "https://www.kaggle.com/datasets/mirichoi0218/insurance\n",
    "\n",
    "at this point you should be able to write code using what is provided on kagglehub and pandas to read in the data as a DataFrame. Remember one helpful command\n",
    "\n",
    "    os.listdir(path)\n",
    "\n",
    "to list the names of the files that you downloaded.\n",
    "\n",
    "You job is to:\n",
    "\n",
    "1.  Do basic EDA - value counts, nan counts, and statistics\n",
    "2.  Try out a pairplot - comment on any trends, outliers, or interesting distributions.\n",
    "3. Make a few plots of your own exploring the data. For example:\n",
    "\n",
    "- Age vs Charges - comment on what you see: correlation, groups, etc\n",
    "- Age vs BMI - make a plot for men and women separately or smokers vs non-smokers.\n",
    "- Visualization of who is charged more on average: men, women, smokers, non-smokers? \n",
    "- Visualization of the max or min or total or average charges across age bins: children, young adults, adults, or elderly. You choose the cutoffs.\n",
    "- Visualization of how the regions might affect your graphs above.\n",
    "\n",
    "For part 3, your goal is to make multiple plots. You don't have to answer every question, but really try to practice all of the ideas from lecture. You must use each of the following at least once:\n",
    "\n",
    "1. Plotly\n",
    "2. Matlplotlib\n",
    "3. Seaborn\n",
    "\n",
    "(extra) Pandas\n",
    "\n",
    "(extra) Bokeh\n",
    "    \n",
    "------------------------------------\n",
    "\n",
    "Your final notebooks should:\n",
    "\n",
    "- [ ] Be a completely new notebook with just the Day6 stuff in it: Read in the data, make the plots. Make sure to discuss what you see and comment on why your plots are great!\n",
    "- [ ] Be reproducible with junk code removed.\n",
    "- [ ] Have lots of language describing what you are doing, especially for questions you are asking or things that you find interesting about the data. Use complete sentences, nice headings, and good markdown formatting: https://www.markdownguide.org/cheat-sheet/\n",
    "- [ ] It should run without errors from start to finish."
   ]
  },
  {
   "cell_type": "code",
   "execution_count": 11,
   "id": "bf8646af-378e-4dbb-b100-ad5fc3e0a4bd",
   "metadata": {},
   "outputs": [
    {
     "name": "stdout",
     "output_type": "stream",
     "text": [
      "Warning: Looks like you're using an outdated `kagglehub` version (installed: 0.3.8), please consider upgrading to the latest version (0.3.13).\n",
      "Downloading from https://www.kaggle.com/api/v1/datasets/download/mirichoi0218/insurance?dataset_version_number=1...\n"
     ]
    },
    {
     "name": "stderr",
     "output_type": "stream",
     "text": [
      "100%|███████████████████████████████████████| 16.0k/16.0k [00:00<00:00, 910kB/s]"
     ]
    },
    {
     "name": "stdout",
     "output_type": "stream",
     "text": [
      "Extracting files...\n",
      "Path to dataset files: /home/bellajagu/.cache/kagglehub/datasets/mirichoi0218/insurance/versions/1\n"
     ]
    },
    {
     "name": "stderr",
     "output_type": "stream",
     "text": [
      "\n"
     ]
    }
   ],
   "source": [
    "import kagglehub\n",
    "\n",
    "# Download latest version\n",
    "path = kagglehub.dataset_download(\"mirichoi0218/insurance\")\n",
    "\n",
    "print(\"Path to dataset files:\", path)"
   ]
  },
  {
   "cell_type": "code",
   "execution_count": null,
   "id": "76058014-38fd-4b62-a796-95dd7b713c98",
   "metadata": {},
   "outputs": [],
   "source": []
  }
 ],
 "metadata": {
  "kernelspec": {
   "display_name": "Python [conda env:base] *",
   "language": "python",
   "name": "conda-base-py"
  },
  "language_info": {
   "codemirror_mode": {
    "name": "ipython",
    "version": 3
   },
   "file_extension": ".py",
   "mimetype": "text/x-python",
   "name": "python",
   "nbconvert_exporter": "python",
   "pygments_lexer": "ipython3",
   "version": "3.12.2"
  }
 },
 "nbformat": 4,
 "nbformat_minor": 5
}
