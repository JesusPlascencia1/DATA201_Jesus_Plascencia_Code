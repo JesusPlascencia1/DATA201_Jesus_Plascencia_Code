{
 "cells": [
  {
   "cell_type": "markdown",
   "id": "b89ff64c-fd19-406a-9ed2-3cdf13d3b113",
   "metadata": {},
   "source": [
    "## Intermediate Data Science\n",
    "\n",
    "#### Jesus Plascencia \n",
    "#### October 15, 2025\n",
    "#### Purpose: To answer questions regarding the data ethics reading"
   ]
  },
  {
   "cell_type": "markdown",
   "id": "3093a585-a00e-496e-ac70-9fb95b7bb54e",
   "metadata": {},
   "source": [
    "---------------\n",
    "## Ethics and Data Management - Day11 HW\n",
    "\n",
    "**FIRST**\n",
    "\n",
    "Go back through your data science projects. \n",
    "\n",
    "- How have you been doing with data and project management? Are things clearly labeled and organized? Could you add README files to some of your folders?\n",
    "- What might you change in the future to be a more responsible data manager?\n",
    "- Look back at a recent homework assignment, did you follow best practices for data management, referencing data sources and licenses, and reproducibility? What could you do better?\n",
    "    \n",
    "\n",
    "*There is nothing to hand in for this first part, but please reflect on your current data and code management practices*\n",
    "\n",
    "\n",
    "**SECOND**\n",
    "\n",
    "1. Read the case study: [https://bdes.datasociety.net/wp-content/uploads/2016/10/Patreon-Case-Study.pdf](https://bdes.datasociety.net/wp-content/uploads/2016/10/Patreon-Case-Study.pdf)\n",
    "\n",
    "2. Reflect on each of the questions on page 6. Write down some talking points for each question. See if you can think about both sides of the argument:\n",
    "\n",
    "    - In what instances would this be ethical?\n",
    "    - In what instances would this be unethical?\n",
    "    - Where is the grey area?\n",
    "      \n",
    "3. In groups of 2-3 come to class prepared to lead a discussion on one of the questions. Do a little research and see if you can find more examples to think about. Here are some prompts that might help you search:\n",
    "\n",
    "    - Q1 What are some other examples of illegal data collection? How was the resulting data used/abused?\n",
    "    - Q2 Find some more examples of when Scientists, Companies or Journalists were operating in the grey area of the expectation of privacy\n",
    "    - Q3 What are some ways the ethics might be the same or different for Scientists, Companies, Governments, or Journalists?\n",
    "    - Q4 What are some examples where researchers claimed a net benefit to society but where this was not really clear?\n",
    "\n",
    "\n",
    "What you should submit on Canvas:\n",
    "\n",
    "- [ ] Your notes about the reading and your responses to each of the questions. This can be photos of your writing, digital notes, or typed up notes.\n",
    "- [ ] You groups final \"presentation\" - in whatever form you prepare.\n",
    "- [ ] **Please submit this before class!**\n"
   ]
  },
  {
   "cell_type": "markdown",
   "id": "a17d5613-0dd9-49e5-8dae-c328c3008830",
   "metadata": {},
   "source": [
    "### First\n",
    "\n",
    "#### 1] I have been pretty good with some of folders. I typically do not mess with the master document and create a copy of that. I markdown every file, and provide README's for each respository. \n",
    "\n",
    "#### 2] To be a more responsible data manager I can definetely explain my code more throughly. I often answer a question but I do not explain the intent of my code. Also, I can ensure that my pathways (to read in files) are the same for each computer regardless of where we are at. Another thing that I want to do is to have significant headings for my files. I was to have headings that explain what the purpose of the document is so im not just wasting time. \n",
    "\n",
    "#### 3] Yes in a recent homework assignment I do mention data sources, licenses, and have reproducable code. It is worth mentioning that I have this because it was explicity asked for. For further code, I want to make functions, and produce more efficient code."
   ]
  },
  {
   "cell_type": "markdown",
   "id": "d6edbea4-40c9-4e71-b2f7-a5d36ffabf60",
   "metadata": {},
   "source": [
    "### Second\n",
    "\n",
    "#### 1] If a use has the expectation that their data will not be used in a specific way, it is not ethical to use their data, ever. The counterarguement is that if the data was hacked, and the intent of using that data is strictly to further research, then it may be a valid reason. But generally speaking, it is not ethical to use someone else's data when they expect it to be used a certain  way, even if it was publicly available because of hackers\n",
    "\n",
    "#### The grey area here is that once its hacked the data is in the public domain. It is easy to use the data, but as a researcher, we have a ethical obligation to make sure our data comes from reliable sources. \n",
    "\n"
   ]
  },
  {
   "cell_type": "markdown",
   "id": "3ed93e76-baf2-4b88-96a3-792960749860",
   "metadata": {},
   "source": [
    "### 3] I believe we were asked to only answer Q2 which we answered using a powerpoint. I answered the other questions on a google doc already submitted for the class."
   ]
  }
 ],
 "metadata": {
  "kernelspec": {
   "display_name": "Python [conda env:base] *",
   "language": "python",
   "name": "conda-base-py"
  },
  "language_info": {
   "codemirror_mode": {
    "name": "ipython",
    "version": 3
   },
   "file_extension": ".py",
   "mimetype": "text/x-python",
   "name": "python",
   "nbconvert_exporter": "python",
   "pygments_lexer": "ipython3",
   "version": "3.12.2"
  }
 },
 "nbformat": 4,
 "nbformat_minor": 5
}
