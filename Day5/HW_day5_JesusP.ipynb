{
 "cells": [
  {
   "cell_type": "markdown",
   "id": "3ee4f51c-e4db-4665-a559-c701fdbf47b5",
   "metadata": {},
   "source": [
    "## Intermediate Data Science\n",
    "\n",
    "#### University of Redlands - DATA 201\n",
    "#### Prof: Joanna Bieri [joanna_bieri@redlands.edu](mailto:joanna_bieri@redlands.edu)\n",
    "#### [Class Website: data201.joannabieri.com](https://joannabieri.com/data201_intermediate.html)"
   ]
  },
  {
   "cell_type": "code",
   "execution_count": 251,
   "id": "7e9fdce6-e271-45a8-b39d-2cbb635d4a12",
   "metadata": {},
   "outputs": [],
   "source": [
    "# Some basic package imports\n",
    "import os\n",
    "import numpy as np\n",
    "import pandas as pd\n",
    "\n",
    "import matplotlib.pyplot as plt\n",
    "import plotly.express as px\n",
    "from plotly.subplots import make_subplots\n",
    "import plotly.io as pio\n",
    "pio.renderers.defaule = 'colab'"
   ]
  },
  {
   "cell_type": "markdown",
   "id": "c67a98c1-f6c6-4915-9faf-7c878e0cd4fc",
   "metadata": {},
   "source": [
    "### You Try - 4 Warm-Up Problems From Lecture\n",
    "\n",
    "## You try\n",
    "\n",
    "What does frame.unstack() do in this case. Go ahead and run the command and see if you can understand the results."
   ]
  },
  {
   "cell_type": "code",
   "execution_count": 254,
   "id": "0788fbab-a720-43cb-92eb-84a6f3e95534",
   "metadata": {},
   "outputs": [
    {
     "data": {
      "text/html": [
       "<div>\n",
       "<style scoped>\n",
       "    .dataframe tbody tr th:only-of-type {\n",
       "        vertical-align: middle;\n",
       "    }\n",
       "\n",
       "    .dataframe tbody tr th {\n",
       "        vertical-align: top;\n",
       "    }\n",
       "\n",
       "    .dataframe thead tr th {\n",
       "        text-align: left;\n",
       "    }\n",
       "\n",
       "    .dataframe thead tr:last-of-type th {\n",
       "        text-align: right;\n",
       "    }\n",
       "</style>\n",
       "<table border=\"1\" class=\"dataframe\">\n",
       "  <thead>\n",
       "    <tr>\n",
       "      <th></th>\n",
       "      <th>state</th>\n",
       "      <th colspan=\"2\" halign=\"left\">Ohio</th>\n",
       "      <th>Colorado</th>\n",
       "    </tr>\n",
       "    <tr>\n",
       "      <th></th>\n",
       "      <th>color</th>\n",
       "      <th>Green</th>\n",
       "      <th>Red</th>\n",
       "      <th>Green</th>\n",
       "    </tr>\n",
       "    <tr>\n",
       "      <th>key1</th>\n",
       "      <th>key2</th>\n",
       "      <th></th>\n",
       "      <th></th>\n",
       "      <th></th>\n",
       "    </tr>\n",
       "  </thead>\n",
       "  <tbody>\n",
       "    <tr>\n",
       "      <th rowspan=\"2\" valign=\"top\">a</th>\n",
       "      <th>1</th>\n",
       "      <td>0</td>\n",
       "      <td>1</td>\n",
       "      <td>2</td>\n",
       "    </tr>\n",
       "    <tr>\n",
       "      <th>2</th>\n",
       "      <td>3</td>\n",
       "      <td>4</td>\n",
       "      <td>5</td>\n",
       "    </tr>\n",
       "    <tr>\n",
       "      <th rowspan=\"2\" valign=\"top\">b</th>\n",
       "      <th>1</th>\n",
       "      <td>6</td>\n",
       "      <td>7</td>\n",
       "      <td>8</td>\n",
       "    </tr>\n",
       "    <tr>\n",
       "      <th>2</th>\n",
       "      <td>9</td>\n",
       "      <td>10</td>\n",
       "      <td>11</td>\n",
       "    </tr>\n",
       "  </tbody>\n",
       "</table>\n",
       "</div>"
      ],
      "text/plain": [
       "state      Ohio     Colorado\n",
       "color     Green Red    Green\n",
       "key1 key2                   \n",
       "a    1        0   1        2\n",
       "     2        3   4        5\n",
       "b    1        6   7        8\n",
       "     2        9  10       11"
      ]
     },
     "execution_count": 254,
     "metadata": {},
     "output_type": "execute_result"
    }
   ],
   "source": [
    "frame = pd.DataFrame(np.arange(12).reshape((4, 3)),\n",
    "                     index=[[\"a\", \"a\", \"b\", \"b\"], [1, 2, 1, 2]],\n",
    "                     columns=[[\"Ohio\", \"Ohio\", \"Colorado\"],\n",
    "                              [\"Green\", \"Red\", \"Green\"]])\n",
    "frame.index.names = [\"key1\", \"key2\"]\n",
    "frame.columns.names = [\"state\", \"color\"]\n",
    "\n",
    "frame"
   ]
  },
  {
   "cell_type": "code",
   "execution_count": 256,
   "id": "df8c9f7a-bbf8-4f43-bbe5-11eaf3059d3d",
   "metadata": {},
   "outputs": [
    {
     "data": {
      "text/html": [
       "<div>\n",
       "<style scoped>\n",
       "    .dataframe tbody tr th:only-of-type {\n",
       "        vertical-align: middle;\n",
       "    }\n",
       "\n",
       "    .dataframe tbody tr th {\n",
       "        vertical-align: top;\n",
       "    }\n",
       "\n",
       "    .dataframe thead tr th {\n",
       "        text-align: left;\n",
       "    }\n",
       "\n",
       "    .dataframe thead tr:last-of-type th {\n",
       "        text-align: right;\n",
       "    }\n",
       "</style>\n",
       "<table border=\"1\" class=\"dataframe\">\n",
       "  <thead>\n",
       "    <tr>\n",
       "      <th>state</th>\n",
       "      <th colspan=\"4\" halign=\"left\">Ohio</th>\n",
       "      <th colspan=\"2\" halign=\"left\">Colorado</th>\n",
       "    </tr>\n",
       "    <tr>\n",
       "      <th>color</th>\n",
       "      <th colspan=\"2\" halign=\"left\">Green</th>\n",
       "      <th colspan=\"2\" halign=\"left\">Red</th>\n",
       "      <th colspan=\"2\" halign=\"left\">Green</th>\n",
       "    </tr>\n",
       "    <tr>\n",
       "      <th>key2</th>\n",
       "      <th>1</th>\n",
       "      <th>2</th>\n",
       "      <th>1</th>\n",
       "      <th>2</th>\n",
       "      <th>1</th>\n",
       "      <th>2</th>\n",
       "    </tr>\n",
       "    <tr>\n",
       "      <th>key1</th>\n",
       "      <th></th>\n",
       "      <th></th>\n",
       "      <th></th>\n",
       "      <th></th>\n",
       "      <th></th>\n",
       "      <th></th>\n",
       "    </tr>\n",
       "  </thead>\n",
       "  <tbody>\n",
       "    <tr>\n",
       "      <th>a</th>\n",
       "      <td>0</td>\n",
       "      <td>3</td>\n",
       "      <td>1</td>\n",
       "      <td>4</td>\n",
       "      <td>2</td>\n",
       "      <td>5</td>\n",
       "    </tr>\n",
       "    <tr>\n",
       "      <th>b</th>\n",
       "      <td>6</td>\n",
       "      <td>9</td>\n",
       "      <td>7</td>\n",
       "      <td>10</td>\n",
       "      <td>8</td>\n",
       "      <td>11</td>\n",
       "    </tr>\n",
       "  </tbody>\n",
       "</table>\n",
       "</div>"
      ],
      "text/plain": [
       "state  Ohio            Colorado    \n",
       "color Green    Red        Green    \n",
       "key2      1  2   1   2        1   2\n",
       "key1                               \n",
       "a         0  3   1   4        2   5\n",
       "b         6  9   7  10        8  11"
      ]
     },
     "execution_count": 256,
     "metadata": {},
     "output_type": "execute_result"
    }
   ],
   "source": [
    "# Your code here\n",
    "frame.unstack()\n",
    "\n",
    "#The unstack function essentially combines multiple layers. It moves multiple columns and combines them to one\n",
    "#column label. In other words, it moves the outer level of the row and the intter/outer levels of columns to become \n",
    "# inner rows. "
   ]
  },
  {
   "cell_type": "markdown",
   "id": "218b6722-fdac-48c8-b0da-68c8ce8775bc",
   "metadata": {},
   "source": [
    "-------------------------------------\n",
    "## You Try\n",
    "\n",
    "How would you swap the index keys? See if you can swap key1 and key2 in the new_frame.\n"
   ]
  },
  {
   "cell_type": "code",
   "execution_count": 259,
   "id": "703a1c0f-3479-4f57-a94d-4873c709a26c",
   "metadata": {},
   "outputs": [
    {
     "data": {
      "text/html": [
       "<div>\n",
       "<style scoped>\n",
       "    .dataframe tbody tr th:only-of-type {\n",
       "        vertical-align: middle;\n",
       "    }\n",
       "\n",
       "    .dataframe tbody tr th {\n",
       "        vertical-align: top;\n",
       "    }\n",
       "\n",
       "    .dataframe thead tr th {\n",
       "        text-align: left;\n",
       "    }\n",
       "\n",
       "    .dataframe thead tr:last-of-type th {\n",
       "        text-align: right;\n",
       "    }\n",
       "</style>\n",
       "<table border=\"1\" class=\"dataframe\">\n",
       "  <thead>\n",
       "    <tr>\n",
       "      <th></th>\n",
       "      <th>color</th>\n",
       "      <th>Green</th>\n",
       "      <th>Red</th>\n",
       "      <th>Green</th>\n",
       "    </tr>\n",
       "    <tr>\n",
       "      <th></th>\n",
       "      <th>state</th>\n",
       "      <th>Ohio</th>\n",
       "      <th>Ohio</th>\n",
       "      <th>Colorado</th>\n",
       "    </tr>\n",
       "    <tr>\n",
       "      <th>key1</th>\n",
       "      <th>key2</th>\n",
       "      <th></th>\n",
       "      <th></th>\n",
       "      <th></th>\n",
       "    </tr>\n",
       "  </thead>\n",
       "  <tbody>\n",
       "    <tr>\n",
       "      <th rowspan=\"2\" valign=\"top\">a</th>\n",
       "      <th>1</th>\n",
       "      <td>0</td>\n",
       "      <td>1</td>\n",
       "      <td>2</td>\n",
       "    </tr>\n",
       "    <tr>\n",
       "      <th>2</th>\n",
       "      <td>3</td>\n",
       "      <td>4</td>\n",
       "      <td>5</td>\n",
       "    </tr>\n",
       "    <tr>\n",
       "      <th rowspan=\"2\" valign=\"top\">b</th>\n",
       "      <th>1</th>\n",
       "      <td>6</td>\n",
       "      <td>7</td>\n",
       "      <td>8</td>\n",
       "    </tr>\n",
       "    <tr>\n",
       "      <th>2</th>\n",
       "      <td>9</td>\n",
       "      <td>10</td>\n",
       "      <td>11</td>\n",
       "    </tr>\n",
       "  </tbody>\n",
       "</table>\n",
       "</div>"
      ],
      "text/plain": [
       "color     Green  Red    Green\n",
       "state      Ohio Ohio Colorado\n",
       "key1 key2                    \n",
       "a    1        0    1        2\n",
       "     2        3    4        5\n",
       "b    1        6    7        8\n",
       "     2        9   10       11"
      ]
     },
     "execution_count": 259,
     "metadata": {},
     "output_type": "execute_result"
    }
   ],
   "source": [
    "new_frame = frame.swaplevel('state','color', axis=1)\n",
    "new_frame"
   ]
  },
  {
   "cell_type": "code",
   "execution_count": 261,
   "id": "b6473271-44ec-400f-8126-7684f48c8bdf",
   "metadata": {},
   "outputs": [
    {
     "data": {
      "text/html": [
       "<div>\n",
       "<style scoped>\n",
       "    .dataframe tbody tr th:only-of-type {\n",
       "        vertical-align: middle;\n",
       "    }\n",
       "\n",
       "    .dataframe tbody tr th {\n",
       "        vertical-align: top;\n",
       "    }\n",
       "\n",
       "    .dataframe thead tr th {\n",
       "        text-align: left;\n",
       "    }\n",
       "\n",
       "    .dataframe thead tr:last-of-type th {\n",
       "        text-align: right;\n",
       "    }\n",
       "</style>\n",
       "<table border=\"1\" class=\"dataframe\">\n",
       "  <thead>\n",
       "    <tr>\n",
       "      <th></th>\n",
       "      <th>state</th>\n",
       "      <th colspan=\"2\" halign=\"left\">Ohio</th>\n",
       "      <th>Colorado</th>\n",
       "    </tr>\n",
       "    <tr>\n",
       "      <th></th>\n",
       "      <th>color</th>\n",
       "      <th>Green</th>\n",
       "      <th>Red</th>\n",
       "      <th>Green</th>\n",
       "    </tr>\n",
       "    <tr>\n",
       "      <th>key2</th>\n",
       "      <th>key1</th>\n",
       "      <th></th>\n",
       "      <th></th>\n",
       "      <th></th>\n",
       "    </tr>\n",
       "  </thead>\n",
       "  <tbody>\n",
       "    <tr>\n",
       "      <th>1</th>\n",
       "      <th>a</th>\n",
       "      <td>0</td>\n",
       "      <td>1</td>\n",
       "      <td>2</td>\n",
       "    </tr>\n",
       "    <tr>\n",
       "      <th>2</th>\n",
       "      <th>a</th>\n",
       "      <td>3</td>\n",
       "      <td>4</td>\n",
       "      <td>5</td>\n",
       "    </tr>\n",
       "    <tr>\n",
       "      <th>1</th>\n",
       "      <th>b</th>\n",
       "      <td>6</td>\n",
       "      <td>7</td>\n",
       "      <td>8</td>\n",
       "    </tr>\n",
       "    <tr>\n",
       "      <th>2</th>\n",
       "      <th>b</th>\n",
       "      <td>9</td>\n",
       "      <td>10</td>\n",
       "      <td>11</td>\n",
       "    </tr>\n",
       "  </tbody>\n",
       "</table>\n",
       "</div>"
      ],
      "text/plain": [
       "state      Ohio     Colorado\n",
       "color     Green Red    Green\n",
       "key2 key1                   \n",
       "1    a        0   1        2\n",
       "2    a        3   4        5\n",
       "1    b        6   7        8\n",
       "2    b        9  10       11"
      ]
     },
     "metadata": {},
     "output_type": "display_data"
    }
   ],
   "source": [
    "# Your code here\n",
    "# If axis = 1 is for columns axis = 0 is for rows. and Key 1 and key 2 represent inner/outer rows.\n",
    "new_frame = frame.swaplevel('key2','key1', axis=0)\n",
    "display(new_frame)"
   ]
  },
  {
   "cell_type": "markdown",
   "id": "2e560f28-ea72-49e6-9691-15d1055b473e",
   "metadata": {},
   "source": [
    "-------------------------------------------------------\n",
    "## You Try\n",
    "\n",
    "Merge the following data sets using all for ways: inner, left, right, and outer. See if you can predict before running the code what the output will be!"
   ]
  },
  {
   "cell_type": "code",
   "execution_count": 264,
   "id": "81bf0a04-84b4-4192-a32b-e95827f80b09",
   "metadata": {},
   "outputs": [
    {
     "data": {
      "text/html": [
       "<div>\n",
       "<style scoped>\n",
       "    .dataframe tbody tr th:only-of-type {\n",
       "        vertical-align: middle;\n",
       "    }\n",
       "\n",
       "    .dataframe tbody tr th {\n",
       "        vertical-align: top;\n",
       "    }\n",
       "\n",
       "    .dataframe thead th {\n",
       "        text-align: right;\n",
       "    }\n",
       "</style>\n",
       "<table border=\"1\" class=\"dataframe\">\n",
       "  <thead>\n",
       "    <tr style=\"text-align: right;\">\n",
       "      <th></th>\n",
       "      <th>animal_id</th>\n",
       "      <th>name</th>\n",
       "      <th>type</th>\n",
       "    </tr>\n",
       "  </thead>\n",
       "  <tbody>\n",
       "    <tr>\n",
       "      <th>0</th>\n",
       "      <td>1</td>\n",
       "      <td>Leo</td>\n",
       "      <td>Lion</td>\n",
       "    </tr>\n",
       "    <tr>\n",
       "      <th>1</th>\n",
       "      <td>2</td>\n",
       "      <td>Stripes</td>\n",
       "      <td>Tiger</td>\n",
       "    </tr>\n",
       "    <tr>\n",
       "      <th>2</th>\n",
       "      <td>3</td>\n",
       "      <td>Spot</td>\n",
       "      <td>Cheetah</td>\n",
       "    </tr>\n",
       "    <tr>\n",
       "      <th>3</th>\n",
       "      <td>4</td>\n",
       "      <td>Fluffy</td>\n",
       "      <td>Cat</td>\n",
       "    </tr>\n",
       "  </tbody>\n",
       "</table>\n",
       "</div>"
      ],
      "text/plain": [
       "   animal_id     name     type\n",
       "0          1      Leo     Lion\n",
       "1          2  Stripes    Tiger\n",
       "2          3     Spot  Cheetah\n",
       "3          4   Fluffy      Cat"
      ]
     },
     "metadata": {},
     "output_type": "display_data"
    },
    {
     "data": {
      "text/html": [
       "<div>\n",
       "<style scoped>\n",
       "    .dataframe tbody tr th:only-of-type {\n",
       "        vertical-align: middle;\n",
       "    }\n",
       "\n",
       "    .dataframe tbody tr th {\n",
       "        vertical-align: top;\n",
       "    }\n",
       "\n",
       "    .dataframe thead th {\n",
       "        text-align: right;\n",
       "    }\n",
       "</style>\n",
       "<table border=\"1\" class=\"dataframe\">\n",
       "  <thead>\n",
       "    <tr style=\"text-align: right;\">\n",
       "      <th></th>\n",
       "      <th>animal_id</th>\n",
       "      <th>habitat</th>\n",
       "      <th>population_estimate</th>\n",
       "    </tr>\n",
       "  </thead>\n",
       "  <tbody>\n",
       "    <tr>\n",
       "      <th>0</th>\n",
       "      <td>1</td>\n",
       "      <td>Savannah</td>\n",
       "      <td>25000</td>\n",
       "    </tr>\n",
       "    <tr>\n",
       "      <th>1</th>\n",
       "      <td>2</td>\n",
       "      <td>Jungle</td>\n",
       "      <td>3200</td>\n",
       "    </tr>\n",
       "    <tr>\n",
       "      <th>2</th>\n",
       "      <td>5</td>\n",
       "      <td>Mountains</td>\n",
       "      <td>120</td>\n",
       "    </tr>\n",
       "    <tr>\n",
       "      <th>3</th>\n",
       "      <td>4</td>\n",
       "      <td>Domestic</td>\n",
       "      <td>50000000</td>\n",
       "    </tr>\n",
       "  </tbody>\n",
       "</table>\n",
       "</div>"
      ],
      "text/plain": [
       "   animal_id    habitat  population_estimate\n",
       "0          1   Savannah                25000\n",
       "1          2     Jungle                 3200\n",
       "2          5  Mountains                  120\n",
       "3          4   Domestic             50000000"
      ]
     },
     "metadata": {},
     "output_type": "display_data"
    }
   ],
   "source": [
    "df_animals = pd.DataFrame({\n",
    "    'animal_id': [1, 2, 3, 4],\n",
    "    'name': ['Leo', 'Stripes', 'Spot', 'Fluffy'],\n",
    "    'type': ['Lion', 'Tiger', 'Cheetah', 'Cat']\n",
    "})\n",
    "\n",
    "df_habitats = pd.DataFrame({\n",
    "    'animal_id': [1, 2, 5, 4],\n",
    "    'habitat': ['Savannah', 'Jungle', 'Mountains', 'Domestic'],\n",
    "    'population_estimate': [25000, 3200, 120, 50000000]\n",
    "})\n",
    "\n",
    "display(df_animals)\n",
    "display(df_habitats)"
   ]
  },
  {
   "cell_type": "code",
   "execution_count": 266,
   "id": "2b8e103d-6536-4b3d-9d5d-3a6fd4026aef",
   "metadata": {},
   "outputs": [],
   "source": [
    "## Your Prediction\n",
    "#For Inner, I predict only things that reapeat once for the animal ID will appear. So numbers 1,2,4.\n",
    "\n",
    "#For Left, it is a left merge, so df habitats will be merged with df_animals. Whatever ID is on df_ animals will appear. \n",
    "\n",
    "#For right, it is a right merge, so df_animals will be merged with df_habitats. Whatever ID is on df_habitats will appear. \n",
    "\n",
    "#For outer, it is the least restrictive and it just merges both dataframes. I expect to see 5 animals. "
   ]
  },
  {
   "cell_type": "code",
   "execution_count": 268,
   "id": "4ec12c45-1e84-473e-8614-3e0bbdb35d89",
   "metadata": {},
   "outputs": [
    {
     "data": {
      "text/html": [
       "<div>\n",
       "<style scoped>\n",
       "    .dataframe tbody tr th:only-of-type {\n",
       "        vertical-align: middle;\n",
       "    }\n",
       "\n",
       "    .dataframe tbody tr th {\n",
       "        vertical-align: top;\n",
       "    }\n",
       "\n",
       "    .dataframe thead th {\n",
       "        text-align: right;\n",
       "    }\n",
       "</style>\n",
       "<table border=\"1\" class=\"dataframe\">\n",
       "  <thead>\n",
       "    <tr style=\"text-align: right;\">\n",
       "      <th></th>\n",
       "      <th>animal_id</th>\n",
       "      <th>name</th>\n",
       "      <th>type</th>\n",
       "      <th>habitat</th>\n",
       "      <th>population_estimate</th>\n",
       "    </tr>\n",
       "  </thead>\n",
       "  <tbody>\n",
       "    <tr>\n",
       "      <th>0</th>\n",
       "      <td>1</td>\n",
       "      <td>Leo</td>\n",
       "      <td>Lion</td>\n",
       "      <td>Savannah</td>\n",
       "      <td>25000</td>\n",
       "    </tr>\n",
       "    <tr>\n",
       "      <th>1</th>\n",
       "      <td>2</td>\n",
       "      <td>Stripes</td>\n",
       "      <td>Tiger</td>\n",
       "      <td>Jungle</td>\n",
       "      <td>3200</td>\n",
       "    </tr>\n",
       "    <tr>\n",
       "      <th>2</th>\n",
       "      <td>4</td>\n",
       "      <td>Fluffy</td>\n",
       "      <td>Cat</td>\n",
       "      <td>Domestic</td>\n",
       "      <td>50000000</td>\n",
       "    </tr>\n",
       "  </tbody>\n",
       "</table>\n",
       "</div>"
      ],
      "text/plain": [
       "   animal_id     name   type   habitat  population_estimate\n",
       "0          1      Leo   Lion  Savannah                25000\n",
       "1          2  Stripes  Tiger    Jungle                 3200\n",
       "2          4   Fluffy    Cat  Domestic             50000000"
      ]
     },
     "metadata": {},
     "output_type": "display_data"
    }
   ],
   "source": [
    "## Your code\n",
    "display(pd.merge(df_animals, df_habitats, on='animal_id', how='inner'))"
   ]
  },
  {
   "cell_type": "code",
   "execution_count": 270,
   "id": "ff5838e3-1aaa-4942-b8ac-099a0aba863e",
   "metadata": {},
   "outputs": [
    {
     "data": {
      "text/html": [
       "<div>\n",
       "<style scoped>\n",
       "    .dataframe tbody tr th:only-of-type {\n",
       "        vertical-align: middle;\n",
       "    }\n",
       "\n",
       "    .dataframe tbody tr th {\n",
       "        vertical-align: top;\n",
       "    }\n",
       "\n",
       "    .dataframe thead th {\n",
       "        text-align: right;\n",
       "    }\n",
       "</style>\n",
       "<table border=\"1\" class=\"dataframe\">\n",
       "  <thead>\n",
       "    <tr style=\"text-align: right;\">\n",
       "      <th></th>\n",
       "      <th>animal_id</th>\n",
       "      <th>name</th>\n",
       "      <th>type</th>\n",
       "      <th>habitat</th>\n",
       "      <th>population_estimate</th>\n",
       "    </tr>\n",
       "  </thead>\n",
       "  <tbody>\n",
       "    <tr>\n",
       "      <th>0</th>\n",
       "      <td>1</td>\n",
       "      <td>Leo</td>\n",
       "      <td>Lion</td>\n",
       "      <td>Savannah</td>\n",
       "      <td>25000.0</td>\n",
       "    </tr>\n",
       "    <tr>\n",
       "      <th>1</th>\n",
       "      <td>2</td>\n",
       "      <td>Stripes</td>\n",
       "      <td>Tiger</td>\n",
       "      <td>Jungle</td>\n",
       "      <td>3200.0</td>\n",
       "    </tr>\n",
       "    <tr>\n",
       "      <th>2</th>\n",
       "      <td>3</td>\n",
       "      <td>Spot</td>\n",
       "      <td>Cheetah</td>\n",
       "      <td>NaN</td>\n",
       "      <td>NaN</td>\n",
       "    </tr>\n",
       "    <tr>\n",
       "      <th>3</th>\n",
       "      <td>4</td>\n",
       "      <td>Fluffy</td>\n",
       "      <td>Cat</td>\n",
       "      <td>Domestic</td>\n",
       "      <td>50000000.0</td>\n",
       "    </tr>\n",
       "  </tbody>\n",
       "</table>\n",
       "</div>"
      ],
      "text/plain": [
       "   animal_id     name     type   habitat  population_estimate\n",
       "0          1      Leo     Lion  Savannah              25000.0\n",
       "1          2  Stripes    Tiger    Jungle               3200.0\n",
       "2          3     Spot  Cheetah       NaN                  NaN\n",
       "3          4   Fluffy      Cat  Domestic           50000000.0"
      ]
     },
     "metadata": {},
     "output_type": "display_data"
    }
   ],
   "source": [
    "## Repeat for left, right, outer\n",
    "display(pd.merge(df_animals, df_habitats, on='animal_id', how='left'))"
   ]
  },
  {
   "cell_type": "code",
   "execution_count": 272,
   "id": "e1c1e795-9d91-4fbf-b2f2-0afd0a6b64fc",
   "metadata": {},
   "outputs": [
    {
     "data": {
      "text/html": [
       "<div>\n",
       "<style scoped>\n",
       "    .dataframe tbody tr th:only-of-type {\n",
       "        vertical-align: middle;\n",
       "    }\n",
       "\n",
       "    .dataframe tbody tr th {\n",
       "        vertical-align: top;\n",
       "    }\n",
       "\n",
       "    .dataframe thead th {\n",
       "        text-align: right;\n",
       "    }\n",
       "</style>\n",
       "<table border=\"1\" class=\"dataframe\">\n",
       "  <thead>\n",
       "    <tr style=\"text-align: right;\">\n",
       "      <th></th>\n",
       "      <th>animal_id</th>\n",
       "      <th>name</th>\n",
       "      <th>type</th>\n",
       "      <th>habitat</th>\n",
       "      <th>population_estimate</th>\n",
       "    </tr>\n",
       "  </thead>\n",
       "  <tbody>\n",
       "    <tr>\n",
       "      <th>0</th>\n",
       "      <td>1</td>\n",
       "      <td>Leo</td>\n",
       "      <td>Lion</td>\n",
       "      <td>Savannah</td>\n",
       "      <td>25000</td>\n",
       "    </tr>\n",
       "    <tr>\n",
       "      <th>1</th>\n",
       "      <td>2</td>\n",
       "      <td>Stripes</td>\n",
       "      <td>Tiger</td>\n",
       "      <td>Jungle</td>\n",
       "      <td>3200</td>\n",
       "    </tr>\n",
       "    <tr>\n",
       "      <th>2</th>\n",
       "      <td>5</td>\n",
       "      <td>NaN</td>\n",
       "      <td>NaN</td>\n",
       "      <td>Mountains</td>\n",
       "      <td>120</td>\n",
       "    </tr>\n",
       "    <tr>\n",
       "      <th>3</th>\n",
       "      <td>4</td>\n",
       "      <td>Fluffy</td>\n",
       "      <td>Cat</td>\n",
       "      <td>Domestic</td>\n",
       "      <td>50000000</td>\n",
       "    </tr>\n",
       "  </tbody>\n",
       "</table>\n",
       "</div>"
      ],
      "text/plain": [
       "   animal_id     name   type    habitat  population_estimate\n",
       "0          1      Leo   Lion   Savannah                25000\n",
       "1          2  Stripes  Tiger     Jungle                 3200\n",
       "2          5      NaN    NaN  Mountains                  120\n",
       "3          4   Fluffy    Cat   Domestic             50000000"
      ]
     },
     "metadata": {},
     "output_type": "display_data"
    }
   ],
   "source": [
    "display(pd.merge(df_animals, df_habitats, on='animal_id', how='right'))"
   ]
  },
  {
   "cell_type": "code",
   "execution_count": 273,
   "id": "da395956-189f-4acf-b8a2-3962333f868d",
   "metadata": {},
   "outputs": [
    {
     "data": {
      "text/html": [
       "<div>\n",
       "<style scoped>\n",
       "    .dataframe tbody tr th:only-of-type {\n",
       "        vertical-align: middle;\n",
       "    }\n",
       "\n",
       "    .dataframe tbody tr th {\n",
       "        vertical-align: top;\n",
       "    }\n",
       "\n",
       "    .dataframe thead th {\n",
       "        text-align: right;\n",
       "    }\n",
       "</style>\n",
       "<table border=\"1\" class=\"dataframe\">\n",
       "  <thead>\n",
       "    <tr style=\"text-align: right;\">\n",
       "      <th></th>\n",
       "      <th>animal_id</th>\n",
       "      <th>name</th>\n",
       "      <th>type</th>\n",
       "      <th>habitat</th>\n",
       "      <th>population_estimate</th>\n",
       "    </tr>\n",
       "  </thead>\n",
       "  <tbody>\n",
       "    <tr>\n",
       "      <th>0</th>\n",
       "      <td>1</td>\n",
       "      <td>Leo</td>\n",
       "      <td>Lion</td>\n",
       "      <td>Savannah</td>\n",
       "      <td>25000.0</td>\n",
       "    </tr>\n",
       "    <tr>\n",
       "      <th>1</th>\n",
       "      <td>2</td>\n",
       "      <td>Stripes</td>\n",
       "      <td>Tiger</td>\n",
       "      <td>Jungle</td>\n",
       "      <td>3200.0</td>\n",
       "    </tr>\n",
       "    <tr>\n",
       "      <th>2</th>\n",
       "      <td>3</td>\n",
       "      <td>Spot</td>\n",
       "      <td>Cheetah</td>\n",
       "      <td>NaN</td>\n",
       "      <td>NaN</td>\n",
       "    </tr>\n",
       "    <tr>\n",
       "      <th>3</th>\n",
       "      <td>4</td>\n",
       "      <td>Fluffy</td>\n",
       "      <td>Cat</td>\n",
       "      <td>Domestic</td>\n",
       "      <td>50000000.0</td>\n",
       "    </tr>\n",
       "    <tr>\n",
       "      <th>4</th>\n",
       "      <td>5</td>\n",
       "      <td>NaN</td>\n",
       "      <td>NaN</td>\n",
       "      <td>Mountains</td>\n",
       "      <td>120.0</td>\n",
       "    </tr>\n",
       "  </tbody>\n",
       "</table>\n",
       "</div>"
      ],
      "text/plain": [
       "   animal_id     name     type    habitat  population_estimate\n",
       "0          1      Leo     Lion   Savannah              25000.0\n",
       "1          2  Stripes    Tiger     Jungle               3200.0\n",
       "2          3     Spot  Cheetah        NaN                  NaN\n",
       "3          4   Fluffy      Cat   Domestic           50000000.0\n",
       "4          5      NaN      NaN  Mountains                120.0"
      ]
     },
     "metadata": {},
     "output_type": "display_data"
    }
   ],
   "source": [
    "display(pd.merge(df_animals, df_habitats, on='animal_id', how='outer'))"
   ]
  },
  {
   "cell_type": "markdown",
   "id": "0daed25e-63db-4449-b365-fa2fa969a775",
   "metadata": {},
   "source": [
    "-------------------------------\n",
    "## You Try\n",
    "\n",
    "Do a pivot on your merged animal data. You can decide how to pivot, but try to say before running the code what you expect to happen."
   ]
  },
  {
   "cell_type": "code",
   "execution_count": 277,
   "id": "d57b1b01-40b0-4d0a-a372-d9a74475db4b",
   "metadata": {},
   "outputs": [],
   "source": [
    "#Prediction\n",
    "\n",
    "#Before running this code, I want month to be column, and person to be my first row. Then following that I believe sales and expenses\n",
    "#will create a heirarchy above the person, not the month. "
   ]
  },
  {
   "cell_type": "code",
   "execution_count": 279,
   "id": "4d9161af-6003-4a1b-aa72-8a653ffb3156",
   "metadata": {},
   "outputs": [
    {
     "data": {
      "text/html": [
       "<div>\n",
       "<style scoped>\n",
       "    .dataframe tbody tr th:only-of-type {\n",
       "        vertical-align: middle;\n",
       "    }\n",
       "\n",
       "    .dataframe tbody tr th {\n",
       "        vertical-align: top;\n",
       "    }\n",
       "\n",
       "    .dataframe thead tr th {\n",
       "        text-align: left;\n",
       "    }\n",
       "\n",
       "    .dataframe thead tr:last-of-type th {\n",
       "        text-align: right;\n",
       "    }\n",
       "</style>\n",
       "<table border=\"1\" class=\"dataframe\">\n",
       "  <thead>\n",
       "    <tr>\n",
       "      <th></th>\n",
       "      <th colspan=\"2\" halign=\"left\">sales</th>\n",
       "      <th colspan=\"2\" halign=\"left\">expenses</th>\n",
       "    </tr>\n",
       "    <tr>\n",
       "      <th>person</th>\n",
       "      <th>Alice</th>\n",
       "      <th>Bob</th>\n",
       "      <th>Alice</th>\n",
       "      <th>Bob</th>\n",
       "    </tr>\n",
       "    <tr>\n",
       "      <th>month</th>\n",
       "      <th></th>\n",
       "      <th></th>\n",
       "      <th></th>\n",
       "      <th></th>\n",
       "    </tr>\n",
       "  </thead>\n",
       "  <tbody>\n",
       "    <tr>\n",
       "      <th>Feb</th>\n",
       "      <td>180</td>\n",
       "      <td>190</td>\n",
       "      <td>120</td>\n",
       "      <td>140</td>\n",
       "    </tr>\n",
       "    <tr>\n",
       "      <th>Jan</th>\n",
       "      <td>200</td>\n",
       "      <td>210</td>\n",
       "      <td>150</td>\n",
       "      <td>160</td>\n",
       "    </tr>\n",
       "  </tbody>\n",
       "</table>\n",
       "</div>"
      ],
      "text/plain": [
       "       sales      expenses     \n",
       "person Alice  Bob    Alice  Bob\n",
       "month                          \n",
       "Feb      180  190      120  140\n",
       "Jan      200  210      150  160"
      ]
     },
     "metadata": {},
     "output_type": "display_data"
    }
   ],
   "source": [
    "# Your code here\n",
    "df = pd.DataFrame({\n",
    "    'person': ['Alice', 'Alice', 'Bob', 'Bob'],\n",
    "    'month': ['Jan', 'Feb', 'Jan', 'Feb'],\n",
    "    'sales': [200, 180, 210, 190],\n",
    "    'expenses': [150, 120, 160, 140]\n",
    "})\n",
    "\n",
    "pivoted = df.pivot(index='month',columns='person', values=['sales','expenses'])\n",
    "display(pivoted)\n",
    "\n",
    "#Ask Dr. Bieri how to go from melted data where sales/expenses are together, to seperating them. "
   ]
  },
  {
   "cell_type": "markdown",
   "id": "e72e5db6-7f7e-43df-9aa6-815c13d96495",
   "metadata": {},
   "source": [
    "---------------\n",
    "## Data Wrangling - Day5 HW\n",
    "\n",
    "## Homework 5\n",
    "\n",
    "Using all three datasets below we would like to determine if the usage patterns for users differ between different devices. See if you can ask some questions of your own. Here are some examples:\n",
    "\n",
    "1. Does the platform being used impact the number of monthly mb used? \n",
    "2. Do users using Samsung devices use more call minutes than those using LGE devices? \n",
    "\n",
    "Idea from: https://www.kaggle.com/code/vin1234/merge-join-and-concat-with-pandas\n",
    "Author: Vinay Vikram\n",
    "\n",
    "- Looking at the data what columns can be used for merging? Do you see any you might need/want to rename?\n",
    "- Make sure to say what you are doing in the merge and why you are choosing the specific merge type.\n",
    "- Explain in detail your approach to answering the question, there is more than one right answer!\n",
    "    \n",
    "------------------------------------\n",
    "\n",
    "Your final notebooks should:\n",
    "\n",
    "- [ ] Be a completely new notebook with just the Day5 stuff in it: Read in the data, merge it, answer a minimum of 3 questions. \n",
    "- [ ] Be reproducible with junk code removed.\n",
    "- [ ] Have lots of language describing what you are doing, especially for questions you are asking or things that you find interesting about the data. Use complete sentences, nice headings, and good markdown formatting: https://www.markdownguide.org/cheat-sheet/\n",
    "- [ ] It should run without errors from start to finish.\n"
   ]
  },
  {
   "cell_type": "code",
   "execution_count": 282,
   "id": "a676c031-f339-4681-a801-ce94ded745aa",
   "metadata": {},
   "outputs": [
    {
     "data": {
      "text/html": [
       "<div>\n",
       "<style scoped>\n",
       "    .dataframe tbody tr th:only-of-type {\n",
       "        vertical-align: middle;\n",
       "    }\n",
       "\n",
       "    .dataframe tbody tr th {\n",
       "        vertical-align: top;\n",
       "    }\n",
       "\n",
       "    .dataframe thead th {\n",
       "        text-align: right;\n",
       "    }\n",
       "</style>\n",
       "<table border=\"1\" class=\"dataframe\">\n",
       "  <thead>\n",
       "    <tr style=\"text-align: right;\">\n",
       "      <th></th>\n",
       "      <th>outgoing_mins_per_month</th>\n",
       "      <th>outgoing_sms_per_month</th>\n",
       "      <th>monthly_mb</th>\n",
       "      <th>use_id</th>\n",
       "    </tr>\n",
       "  </thead>\n",
       "  <tbody>\n",
       "    <tr>\n",
       "      <th>0</th>\n",
       "      <td>21.97</td>\n",
       "      <td>4.82</td>\n",
       "      <td>1557.33</td>\n",
       "      <td>22787</td>\n",
       "    </tr>\n",
       "    <tr>\n",
       "      <th>1</th>\n",
       "      <td>1710.08</td>\n",
       "      <td>136.88</td>\n",
       "      <td>7267.55</td>\n",
       "      <td>22788</td>\n",
       "    </tr>\n",
       "    <tr>\n",
       "      <th>2</th>\n",
       "      <td>1710.08</td>\n",
       "      <td>136.88</td>\n",
       "      <td>7267.55</td>\n",
       "      <td>22789</td>\n",
       "    </tr>\n",
       "    <tr>\n",
       "      <th>3</th>\n",
       "      <td>94.46</td>\n",
       "      <td>35.17</td>\n",
       "      <td>519.12</td>\n",
       "      <td>22790</td>\n",
       "    </tr>\n",
       "    <tr>\n",
       "      <th>4</th>\n",
       "      <td>71.59</td>\n",
       "      <td>79.26</td>\n",
       "      <td>1557.33</td>\n",
       "      <td>22792</td>\n",
       "    </tr>\n",
       "    <tr>\n",
       "      <th>5</th>\n",
       "      <td>71.59</td>\n",
       "      <td>79.26</td>\n",
       "      <td>1557.33</td>\n",
       "      <td>22793</td>\n",
       "    </tr>\n",
       "    <tr>\n",
       "      <th>6</th>\n",
       "      <td>71.59</td>\n",
       "      <td>79.26</td>\n",
       "      <td>519.12</td>\n",
       "      <td>22794</td>\n",
       "    </tr>\n",
       "    <tr>\n",
       "      <th>7</th>\n",
       "      <td>71.59</td>\n",
       "      <td>79.26</td>\n",
       "      <td>519.12</td>\n",
       "      <td>22795</td>\n",
       "    </tr>\n",
       "    <tr>\n",
       "      <th>8</th>\n",
       "      <td>30.92</td>\n",
       "      <td>22.77</td>\n",
       "      <td>3114.67</td>\n",
       "      <td>22799</td>\n",
       "    </tr>\n",
       "    <tr>\n",
       "      <th>9</th>\n",
       "      <td>69.80</td>\n",
       "      <td>14.70</td>\n",
       "      <td>25955.55</td>\n",
       "      <td>22801</td>\n",
       "    </tr>\n",
       "  </tbody>\n",
       "</table>\n",
       "</div>"
      ],
      "text/plain": [
       "   outgoing_mins_per_month  outgoing_sms_per_month  monthly_mb  use_id\n",
       "0                    21.97                    4.82     1557.33   22787\n",
       "1                  1710.08                  136.88     7267.55   22788\n",
       "2                  1710.08                  136.88     7267.55   22789\n",
       "3                    94.46                   35.17      519.12   22790\n",
       "4                    71.59                   79.26     1557.33   22792\n",
       "5                    71.59                   79.26     1557.33   22793\n",
       "6                    71.59                   79.26      519.12   22794\n",
       "7                    71.59                   79.26      519.12   22795\n",
       "8                    30.92                   22.77     3114.67   22799\n",
       "9                    69.80                   14.70    25955.55   22801"
      ]
     },
     "execution_count": 282,
     "metadata": {},
     "output_type": "execute_result"
    }
   ],
   "source": [
    "user_usage=pd.read_csv('https://raw.githubusercontent.com/shanealynn/Pandas-Merge-Tutorial/master/user_usage.csv')\n",
    "user_usage.head(10)"
   ]
  },
  {
   "cell_type": "code",
   "execution_count": 283,
   "id": "bea9df4a-c7e8-4f8d-b7e9-e7b1cdd66b0e",
   "metadata": {},
   "outputs": [
    {
     "data": {
      "text/html": [
       "<div>\n",
       "<style scoped>\n",
       "    .dataframe tbody tr th:only-of-type {\n",
       "        vertical-align: middle;\n",
       "    }\n",
       "\n",
       "    .dataframe tbody tr th {\n",
       "        vertical-align: top;\n",
       "    }\n",
       "\n",
       "    .dataframe thead th {\n",
       "        text-align: right;\n",
       "    }\n",
       "</style>\n",
       "<table border=\"1\" class=\"dataframe\">\n",
       "  <thead>\n",
       "    <tr style=\"text-align: right;\">\n",
       "      <th></th>\n",
       "      <th>use_id</th>\n",
       "      <th>user_id</th>\n",
       "      <th>platform</th>\n",
       "      <th>platform_version</th>\n",
       "      <th>device</th>\n",
       "      <th>use_type_id</th>\n",
       "    </tr>\n",
       "  </thead>\n",
       "  <tbody>\n",
       "    <tr>\n",
       "      <th>0</th>\n",
       "      <td>22782</td>\n",
       "      <td>26980</td>\n",
       "      <td>ios</td>\n",
       "      <td>10.2</td>\n",
       "      <td>iPhone7,2</td>\n",
       "      <td>2</td>\n",
       "    </tr>\n",
       "    <tr>\n",
       "      <th>1</th>\n",
       "      <td>22783</td>\n",
       "      <td>29628</td>\n",
       "      <td>android</td>\n",
       "      <td>6.0</td>\n",
       "      <td>Nexus 5</td>\n",
       "      <td>3</td>\n",
       "    </tr>\n",
       "    <tr>\n",
       "      <th>2</th>\n",
       "      <td>22784</td>\n",
       "      <td>28473</td>\n",
       "      <td>android</td>\n",
       "      <td>5.1</td>\n",
       "      <td>SM-G903F</td>\n",
       "      <td>1</td>\n",
       "    </tr>\n",
       "    <tr>\n",
       "      <th>3</th>\n",
       "      <td>22785</td>\n",
       "      <td>15200</td>\n",
       "      <td>ios</td>\n",
       "      <td>10.2</td>\n",
       "      <td>iPhone7,2</td>\n",
       "      <td>3</td>\n",
       "    </tr>\n",
       "    <tr>\n",
       "      <th>4</th>\n",
       "      <td>22786</td>\n",
       "      <td>28239</td>\n",
       "      <td>android</td>\n",
       "      <td>6.0</td>\n",
       "      <td>ONE E1003</td>\n",
       "      <td>1</td>\n",
       "    </tr>\n",
       "    <tr>\n",
       "      <th>5</th>\n",
       "      <td>22787</td>\n",
       "      <td>12921</td>\n",
       "      <td>android</td>\n",
       "      <td>4.3</td>\n",
       "      <td>GT-I9505</td>\n",
       "      <td>1</td>\n",
       "    </tr>\n",
       "    <tr>\n",
       "      <th>6</th>\n",
       "      <td>22788</td>\n",
       "      <td>28714</td>\n",
       "      <td>android</td>\n",
       "      <td>6.0</td>\n",
       "      <td>SM-G930F</td>\n",
       "      <td>1</td>\n",
       "    </tr>\n",
       "    <tr>\n",
       "      <th>7</th>\n",
       "      <td>22789</td>\n",
       "      <td>28714</td>\n",
       "      <td>android</td>\n",
       "      <td>6.0</td>\n",
       "      <td>SM-G930F</td>\n",
       "      <td>1</td>\n",
       "    </tr>\n",
       "    <tr>\n",
       "      <th>8</th>\n",
       "      <td>22790</td>\n",
       "      <td>29592</td>\n",
       "      <td>android</td>\n",
       "      <td>5.1</td>\n",
       "      <td>D2303</td>\n",
       "      <td>1</td>\n",
       "    </tr>\n",
       "    <tr>\n",
       "      <th>9</th>\n",
       "      <td>22791</td>\n",
       "      <td>28775</td>\n",
       "      <td>ios</td>\n",
       "      <td>10.2</td>\n",
       "      <td>iPhone6,2</td>\n",
       "      <td>3</td>\n",
       "    </tr>\n",
       "  </tbody>\n",
       "</table>\n",
       "</div>"
      ],
      "text/plain": [
       "   use_id  user_id platform  platform_version     device  use_type_id\n",
       "0   22782    26980      ios              10.2  iPhone7,2            2\n",
       "1   22783    29628  android               6.0    Nexus 5            3\n",
       "2   22784    28473  android               5.1   SM-G903F            1\n",
       "3   22785    15200      ios              10.2  iPhone7,2            3\n",
       "4   22786    28239  android               6.0  ONE E1003            1\n",
       "5   22787    12921  android               4.3   GT-I9505            1\n",
       "6   22788    28714  android               6.0   SM-G930F            1\n",
       "7   22789    28714  android               6.0   SM-G930F            1\n",
       "8   22790    29592  android               5.1      D2303            1\n",
       "9   22791    28775      ios              10.2  iPhone6,2            3"
      ]
     },
     "execution_count": 283,
     "metadata": {},
     "output_type": "execute_result"
    }
   ],
   "source": [
    "user_device=pd.read_csv('https://raw.githubusercontent.com/shanealynn/Pandas-Merge-Tutorial/master/user_device.csv')\n",
    "user_device.head(10)"
   ]
  },
  {
   "cell_type": "code",
   "execution_count": 285,
   "id": "8012de29-163f-4e14-a055-d00e1dcac0e1",
   "metadata": {},
   "outputs": [
    {
     "data": {
      "text/html": [
       "<div>\n",
       "<style scoped>\n",
       "    .dataframe tbody tr th:only-of-type {\n",
       "        vertical-align: middle;\n",
       "    }\n",
       "\n",
       "    .dataframe tbody tr th {\n",
       "        vertical-align: top;\n",
       "    }\n",
       "\n",
       "    .dataframe thead th {\n",
       "        text-align: right;\n",
       "    }\n",
       "</style>\n",
       "<table border=\"1\" class=\"dataframe\">\n",
       "  <thead>\n",
       "    <tr style=\"text-align: right;\">\n",
       "      <th></th>\n",
       "      <th>Retail Branding</th>\n",
       "      <th>Marketing Name</th>\n",
       "      <th>Device</th>\n",
       "      <th>Model</th>\n",
       "    </tr>\n",
       "  </thead>\n",
       "  <tbody>\n",
       "    <tr>\n",
       "      <th>0</th>\n",
       "      <td>NaN</td>\n",
       "      <td>NaN</td>\n",
       "      <td>AD681H</td>\n",
       "      <td>Smartfren Andromax AD681H</td>\n",
       "    </tr>\n",
       "    <tr>\n",
       "      <th>1</th>\n",
       "      <td>NaN</td>\n",
       "      <td>NaN</td>\n",
       "      <td>FJL21</td>\n",
       "      <td>FJL21</td>\n",
       "    </tr>\n",
       "    <tr>\n",
       "      <th>2</th>\n",
       "      <td>NaN</td>\n",
       "      <td>NaN</td>\n",
       "      <td>T31</td>\n",
       "      <td>Panasonic T31</td>\n",
       "    </tr>\n",
       "    <tr>\n",
       "      <th>3</th>\n",
       "      <td>NaN</td>\n",
       "      <td>NaN</td>\n",
       "      <td>hws7721g</td>\n",
       "      <td>MediaPad 7 Youth 2</td>\n",
       "    </tr>\n",
       "    <tr>\n",
       "      <th>4</th>\n",
       "      <td>3Q</td>\n",
       "      <td>OC1020A</td>\n",
       "      <td>OC1020A</td>\n",
       "      <td>OC1020A</td>\n",
       "    </tr>\n",
       "    <tr>\n",
       "      <th>5</th>\n",
       "      <td>7Eleven</td>\n",
       "      <td>IN265</td>\n",
       "      <td>IN265</td>\n",
       "      <td>IN265</td>\n",
       "    </tr>\n",
       "    <tr>\n",
       "      <th>6</th>\n",
       "      <td>A.O.I. ELECTRONICS FACTORY</td>\n",
       "      <td>A.O.I.</td>\n",
       "      <td>TR10CS1_11</td>\n",
       "      <td>TR10CS1</td>\n",
       "    </tr>\n",
       "    <tr>\n",
       "      <th>7</th>\n",
       "      <td>AG Mobile</td>\n",
       "      <td>AG BOOST 2</td>\n",
       "      <td>BOOST2</td>\n",
       "      <td>E4010</td>\n",
       "    </tr>\n",
       "    <tr>\n",
       "      <th>8</th>\n",
       "      <td>AG Mobile</td>\n",
       "      <td>AG Flair</td>\n",
       "      <td>AG_Flair</td>\n",
       "      <td>Flair</td>\n",
       "    </tr>\n",
       "    <tr>\n",
       "      <th>9</th>\n",
       "      <td>AG Mobile</td>\n",
       "      <td>AG Go Tab Access 2</td>\n",
       "      <td>AG_Go_Tab_Access_2</td>\n",
       "      <td>AG_Go_Tab_Access_2</td>\n",
       "    </tr>\n",
       "  </tbody>\n",
       "</table>\n",
       "</div>"
      ],
      "text/plain": [
       "              Retail Branding      Marketing Name              Device  \\\n",
       "0                         NaN                 NaN              AD681H   \n",
       "1                         NaN                 NaN               FJL21   \n",
       "2                         NaN                 NaN                 T31   \n",
       "3                         NaN                 NaN            hws7721g   \n",
       "4                          3Q             OC1020A             OC1020A   \n",
       "5                     7Eleven               IN265               IN265   \n",
       "6  A.O.I. ELECTRONICS FACTORY              A.O.I.          TR10CS1_11   \n",
       "7                   AG Mobile          AG BOOST 2              BOOST2   \n",
       "8                   AG Mobile            AG Flair            AG_Flair   \n",
       "9                   AG Mobile  AG Go Tab Access 2  AG_Go_Tab_Access_2   \n",
       "\n",
       "                       Model  \n",
       "0  Smartfren Andromax AD681H  \n",
       "1                      FJL21  \n",
       "2              Panasonic T31  \n",
       "3         MediaPad 7 Youth 2  \n",
       "4                    OC1020A  \n",
       "5                      IN265  \n",
       "6                    TR10CS1  \n",
       "7                      E4010  \n",
       "8                      Flair  \n",
       "9         AG_Go_Tab_Access_2  "
      ]
     },
     "execution_count": 285,
     "metadata": {},
     "output_type": "execute_result"
    }
   ],
   "source": [
    "device=pd.read_csv('https://raw.githubusercontent.com/shanealynn/Pandas-Merge-Tutorial/master/android_devices.csv')\n",
    "device.head(10)"
   ]
  },
  {
   "cell_type": "markdown",
   "id": "1edfd374-1731-41f5-be6e-b0f2b6180d1e",
   "metadata": {},
   "source": [
    "# Merging the Data frames\n",
    "### First I will use an inner merge to merge the two datasets: user_usage and user_device. I decided to use an inner merge because I am only interested in user_id's that appear in both datasets. I was going to use outer but the flexibility it provides was not very appealing to me. After I merge both these datasets, I will merge it with the device dataset using another inner merge but with the Index device. "
   ]
  },
  {
   "cell_type": "code",
   "execution_count": 289,
   "id": "524dc652-8eb8-43a8-a475-ab6b1442dae8",
   "metadata": {},
   "outputs": [
    {
     "data": {
      "text/html": [
       "<div>\n",
       "<style scoped>\n",
       "    .dataframe tbody tr th:only-of-type {\n",
       "        vertical-align: middle;\n",
       "    }\n",
       "\n",
       "    .dataframe tbody tr th {\n",
       "        vertical-align: top;\n",
       "    }\n",
       "\n",
       "    .dataframe thead th {\n",
       "        text-align: right;\n",
       "    }\n",
       "</style>\n",
       "<table border=\"1\" class=\"dataframe\">\n",
       "  <thead>\n",
       "    <tr style=\"text-align: right;\">\n",
       "      <th></th>\n",
       "      <th>outgoing_mins_per_month</th>\n",
       "      <th>outgoing_sms_per_month</th>\n",
       "      <th>monthly_mb</th>\n",
       "      <th>use_id</th>\n",
       "      <th>user_id</th>\n",
       "      <th>platform</th>\n",
       "      <th>platform_version</th>\n",
       "      <th>device</th>\n",
       "      <th>use_type_id</th>\n",
       "    </tr>\n",
       "  </thead>\n",
       "  <tbody>\n",
       "    <tr>\n",
       "      <th>0</th>\n",
       "      <td>21.97</td>\n",
       "      <td>4.82</td>\n",
       "      <td>1557.33</td>\n",
       "      <td>22787</td>\n",
       "      <td>12921</td>\n",
       "      <td>android</td>\n",
       "      <td>4.3</td>\n",
       "      <td>GT-I9505</td>\n",
       "      <td>1</td>\n",
       "    </tr>\n",
       "    <tr>\n",
       "      <th>1</th>\n",
       "      <td>1710.08</td>\n",
       "      <td>136.88</td>\n",
       "      <td>7267.55</td>\n",
       "      <td>22788</td>\n",
       "      <td>28714</td>\n",
       "      <td>android</td>\n",
       "      <td>6.0</td>\n",
       "      <td>SM-G930F</td>\n",
       "      <td>1</td>\n",
       "    </tr>\n",
       "    <tr>\n",
       "      <th>2</th>\n",
       "      <td>1710.08</td>\n",
       "      <td>136.88</td>\n",
       "      <td>7267.55</td>\n",
       "      <td>22789</td>\n",
       "      <td>28714</td>\n",
       "      <td>android</td>\n",
       "      <td>6.0</td>\n",
       "      <td>SM-G930F</td>\n",
       "      <td>1</td>\n",
       "    </tr>\n",
       "    <tr>\n",
       "      <th>3</th>\n",
       "      <td>94.46</td>\n",
       "      <td>35.17</td>\n",
       "      <td>519.12</td>\n",
       "      <td>22790</td>\n",
       "      <td>29592</td>\n",
       "      <td>android</td>\n",
       "      <td>5.1</td>\n",
       "      <td>D2303</td>\n",
       "      <td>1</td>\n",
       "    </tr>\n",
       "    <tr>\n",
       "      <th>4</th>\n",
       "      <td>71.59</td>\n",
       "      <td>79.26</td>\n",
       "      <td>1557.33</td>\n",
       "      <td>22792</td>\n",
       "      <td>28217</td>\n",
       "      <td>android</td>\n",
       "      <td>5.1</td>\n",
       "      <td>SM-G361F</td>\n",
       "      <td>1</td>\n",
       "    </tr>\n",
       "    <tr>\n",
       "      <th>...</th>\n",
       "      <td>...</td>\n",
       "      <td>...</td>\n",
       "      <td>...</td>\n",
       "      <td>...</td>\n",
       "      <td>...</td>\n",
       "      <td>...</td>\n",
       "      <td>...</td>\n",
       "      <td>...</td>\n",
       "      <td>...</td>\n",
       "    </tr>\n",
       "    <tr>\n",
       "      <th>154</th>\n",
       "      <td>198.59</td>\n",
       "      <td>90.49</td>\n",
       "      <td>5191.12</td>\n",
       "      <td>23043</td>\n",
       "      <td>28953</td>\n",
       "      <td>android</td>\n",
       "      <td>6.0</td>\n",
       "      <td>SM-G900F</td>\n",
       "      <td>1</td>\n",
       "    </tr>\n",
       "    <tr>\n",
       "      <th>155</th>\n",
       "      <td>198.59</td>\n",
       "      <td>90.49</td>\n",
       "      <td>3114.67</td>\n",
       "      <td>23044</td>\n",
       "      <td>28953</td>\n",
       "      <td>android</td>\n",
       "      <td>6.0</td>\n",
       "      <td>SM-G900F</td>\n",
       "      <td>1</td>\n",
       "    </tr>\n",
       "    <tr>\n",
       "      <th>156</th>\n",
       "      <td>106.65</td>\n",
       "      <td>82.13</td>\n",
       "      <td>5191.12</td>\n",
       "      <td>23046</td>\n",
       "      <td>29454</td>\n",
       "      <td>android</td>\n",
       "      <td>6.0</td>\n",
       "      <td>Moto G (4)</td>\n",
       "      <td>1</td>\n",
       "    </tr>\n",
       "    <tr>\n",
       "      <th>157</th>\n",
       "      <td>344.53</td>\n",
       "      <td>20.53</td>\n",
       "      <td>519.12</td>\n",
       "      <td>23049</td>\n",
       "      <td>29725</td>\n",
       "      <td>android</td>\n",
       "      <td>6.0</td>\n",
       "      <td>SM-G900F</td>\n",
       "      <td>1</td>\n",
       "    </tr>\n",
       "    <tr>\n",
       "      <th>158</th>\n",
       "      <td>42.75</td>\n",
       "      <td>46.83</td>\n",
       "      <td>5191.12</td>\n",
       "      <td>23053</td>\n",
       "      <td>20257</td>\n",
       "      <td>android</td>\n",
       "      <td>5.1</td>\n",
       "      <td>Vodafone Smart ultra 6</td>\n",
       "      <td>1</td>\n",
       "    </tr>\n",
       "  </tbody>\n",
       "</table>\n",
       "<p>159 rows × 9 columns</p>\n",
       "</div>"
      ],
      "text/plain": [
       "     outgoing_mins_per_month  outgoing_sms_per_month  monthly_mb  use_id  \\\n",
       "0                      21.97                    4.82     1557.33   22787   \n",
       "1                    1710.08                  136.88     7267.55   22788   \n",
       "2                    1710.08                  136.88     7267.55   22789   \n",
       "3                      94.46                   35.17      519.12   22790   \n",
       "4                      71.59                   79.26     1557.33   22792   \n",
       "..                       ...                     ...         ...     ...   \n",
       "154                   198.59                   90.49     5191.12   23043   \n",
       "155                   198.59                   90.49     3114.67   23044   \n",
       "156                   106.65                   82.13     5191.12   23046   \n",
       "157                   344.53                   20.53      519.12   23049   \n",
       "158                    42.75                   46.83     5191.12   23053   \n",
       "\n",
       "     user_id platform  platform_version                  device  use_type_id  \n",
       "0      12921  android               4.3                GT-I9505            1  \n",
       "1      28714  android               6.0                SM-G930F            1  \n",
       "2      28714  android               6.0                SM-G930F            1  \n",
       "3      29592  android               5.1                   D2303            1  \n",
       "4      28217  android               5.1                SM-G361F            1  \n",
       "..       ...      ...               ...                     ...          ...  \n",
       "154    28953  android               6.0                SM-G900F            1  \n",
       "155    28953  android               6.0                SM-G900F            1  \n",
       "156    29454  android               6.0              Moto G (4)            1  \n",
       "157    29725  android               6.0                SM-G900F            1  \n",
       "158    20257  android               5.1  Vodafone Smart ultra 6            1  \n",
       "\n",
       "[159 rows x 9 columns]"
      ]
     },
     "metadata": {},
     "output_type": "display_data"
    }
   ],
   "source": [
    "#Merging user_usage and User_device using inner merge\n",
    "two_of_three = pd.merge(user_usage, user_device, on='use_id', how='inner')\n",
    "display(two_of_three)"
   ]
  },
  {
   "cell_type": "code",
   "execution_count": 291,
   "id": "f2a15816-70ce-452a-b2e8-1ce99fc2f3ba",
   "metadata": {},
   "outputs": [
    {
     "name": "stdout",
     "output_type": "stream",
     "text": [
      "###########\n"
     ]
    },
    {
     "data": {
      "text/plain": [
       "<bound method IndexOpsMixin.tolist of Index(['Retail Branding', 'Marketing Name', 'Device', 'Model'], dtype='object')>"
      ]
     },
     "execution_count": 291,
     "metadata": {},
     "output_type": "execute_result"
    }
   ],
   "source": [
    "#This is not junk code. I have it here for reference because it was very useful to have a side by side comparison of the column\n",
    "#names so that I can rename with ease. \n",
    "\n",
    "two_of_three.columns.tolist\n",
    "print('###########')\n",
    "device.columns.tolist"
   ]
  },
  {
   "cell_type": "code",
   "execution_count": 293,
   "id": "3cc7406b-6c32-46f5-b2fe-48c7e754c07f",
   "metadata": {},
   "outputs": [
    {
     "data": {
      "text/html": [
       "<div>\n",
       "<style scoped>\n",
       "    .dataframe tbody tr th:only-of-type {\n",
       "        vertical-align: middle;\n",
       "    }\n",
       "\n",
       "    .dataframe tbody tr th {\n",
       "        vertical-align: top;\n",
       "    }\n",
       "\n",
       "    .dataframe thead th {\n",
       "        text-align: right;\n",
       "    }\n",
       "</style>\n",
       "<table border=\"1\" class=\"dataframe\">\n",
       "  <thead>\n",
       "    <tr style=\"text-align: right;\">\n",
       "      <th></th>\n",
       "      <th>outgoing_mins_per_month</th>\n",
       "      <th>outgoing_sms_per_month</th>\n",
       "      <th>monthly_mb</th>\n",
       "      <th>use_id</th>\n",
       "      <th>user_id</th>\n",
       "      <th>platform</th>\n",
       "      <th>platform_version</th>\n",
       "      <th>device</th>\n",
       "      <th>use_type_id</th>\n",
       "      <th>Retail Branding</th>\n",
       "      <th>Marketing Name</th>\n",
       "      <th>Model</th>\n",
       "    </tr>\n",
       "  </thead>\n",
       "  <tbody>\n",
       "    <tr>\n",
       "      <th>0</th>\n",
       "      <td>94.46</td>\n",
       "      <td>35.17</td>\n",
       "      <td>519.12</td>\n",
       "      <td>22790</td>\n",
       "      <td>29592</td>\n",
       "      <td>android</td>\n",
       "      <td>5.1</td>\n",
       "      <td>D2303</td>\n",
       "      <td>1</td>\n",
       "      <td>Sony</td>\n",
       "      <td>Xperia M2</td>\n",
       "      <td>D2303</td>\n",
       "    </tr>\n",
       "    <tr>\n",
       "      <th>1</th>\n",
       "      <td>283.30</td>\n",
       "      <td>107.47</td>\n",
       "      <td>15573.33</td>\n",
       "      <td>22806</td>\n",
       "      <td>21615</td>\n",
       "      <td>android</td>\n",
       "      <td>6.0</td>\n",
       "      <td>A0001</td>\n",
       "      <td>1</td>\n",
       "      <td>OnePlus</td>\n",
       "      <td>OnePlus One</td>\n",
       "      <td>A0001</td>\n",
       "    </tr>\n",
       "    <tr>\n",
       "      <th>2</th>\n",
       "      <td>283.30</td>\n",
       "      <td>107.47</td>\n",
       "      <td>15573.33</td>\n",
       "      <td>22806</td>\n",
       "      <td>21615</td>\n",
       "      <td>android</td>\n",
       "      <td>6.0</td>\n",
       "      <td>A0001</td>\n",
       "      <td>1</td>\n",
       "      <td>OnePlus</td>\n",
       "      <td>OnePlus One</td>\n",
       "      <td>One</td>\n",
       "    </tr>\n",
       "    <tr>\n",
       "      <th>3</th>\n",
       "      <td>244.88</td>\n",
       "      <td>105.95</td>\n",
       "      <td>1557.33</td>\n",
       "      <td>22832</td>\n",
       "      <td>29295</td>\n",
       "      <td>android</td>\n",
       "      <td>6.0</td>\n",
       "      <td>D5803</td>\n",
       "      <td>1</td>\n",
       "      <td>Sony</td>\n",
       "      <td>Xperia Z3 Compact</td>\n",
       "      <td>D5803</td>\n",
       "    </tr>\n",
       "    <tr>\n",
       "      <th>4</th>\n",
       "      <td>135.09</td>\n",
       "      <td>42.02</td>\n",
       "      <td>5191.12</td>\n",
       "      <td>22833</td>\n",
       "      <td>24847</td>\n",
       "      <td>android</td>\n",
       "      <td>6.0</td>\n",
       "      <td>E6653</td>\n",
       "      <td>1</td>\n",
       "      <td>Sony</td>\n",
       "      <td>Xperia Z5</td>\n",
       "      <td>E6653</td>\n",
       "    </tr>\n",
       "    <tr>\n",
       "      <th>5</th>\n",
       "      <td>57.49</td>\n",
       "      <td>16.73</td>\n",
       "      <td>15573.33</td>\n",
       "      <td>22839</td>\n",
       "      <td>29655</td>\n",
       "      <td>android</td>\n",
       "      <td>6.0</td>\n",
       "      <td>A0001</td>\n",
       "      <td>1</td>\n",
       "      <td>OnePlus</td>\n",
       "      <td>OnePlus One</td>\n",
       "      <td>A0001</td>\n",
       "    </tr>\n",
       "    <tr>\n",
       "      <th>6</th>\n",
       "      <td>57.49</td>\n",
       "      <td>16.73</td>\n",
       "      <td>15573.33</td>\n",
       "      <td>22839</td>\n",
       "      <td>29655</td>\n",
       "      <td>android</td>\n",
       "      <td>6.0</td>\n",
       "      <td>A0001</td>\n",
       "      <td>1</td>\n",
       "      <td>OnePlus</td>\n",
       "      <td>OnePlus One</td>\n",
       "      <td>One</td>\n",
       "    </tr>\n",
       "    <tr>\n",
       "      <th>7</th>\n",
       "      <td>99.23</td>\n",
       "      <td>35.58</td>\n",
       "      <td>519.12</td>\n",
       "      <td>22854</td>\n",
       "      <td>29592</td>\n",
       "      <td>android</td>\n",
       "      <td>5.1</td>\n",
       "      <td>D2303</td>\n",
       "      <td>1</td>\n",
       "      <td>Sony</td>\n",
       "      <td>Xperia M2</td>\n",
       "      <td>D2303</td>\n",
       "    </tr>\n",
       "    <tr>\n",
       "      <th>8</th>\n",
       "      <td>43.03</td>\n",
       "      <td>0.47</td>\n",
       "      <td>2076.45</td>\n",
       "      <td>22882</td>\n",
       "      <td>29666</td>\n",
       "      <td>android</td>\n",
       "      <td>6.0</td>\n",
       "      <td>F3111</td>\n",
       "      <td>1</td>\n",
       "      <td>Sony</td>\n",
       "      <td>Xperia XA</td>\n",
       "      <td>F3111</td>\n",
       "    </tr>\n",
       "    <tr>\n",
       "      <th>9</th>\n",
       "      <td>43.03</td>\n",
       "      <td>0.47</td>\n",
       "      <td>2076.45</td>\n",
       "      <td>22883</td>\n",
       "      <td>29666</td>\n",
       "      <td>android</td>\n",
       "      <td>6.0</td>\n",
       "      <td>F3111</td>\n",
       "      <td>1</td>\n",
       "      <td>Sony</td>\n",
       "      <td>Xperia XA</td>\n",
       "      <td>F3111</td>\n",
       "    </tr>\n",
       "    <tr>\n",
       "      <th>10</th>\n",
       "      <td>43.03</td>\n",
       "      <td>0.47</td>\n",
       "      <td>2076.45</td>\n",
       "      <td>22884</td>\n",
       "      <td>29666</td>\n",
       "      <td>android</td>\n",
       "      <td>6.0</td>\n",
       "      <td>F3111</td>\n",
       "      <td>1</td>\n",
       "      <td>Sony</td>\n",
       "      <td>Xperia XA</td>\n",
       "      <td>F3111</td>\n",
       "    </tr>\n",
       "    <tr>\n",
       "      <th>11</th>\n",
       "      <td>362.01</td>\n",
       "      <td>14.19</td>\n",
       "      <td>7267.55</td>\n",
       "      <td>22920</td>\n",
       "      <td>18833</td>\n",
       "      <td>android</td>\n",
       "      <td>6.0</td>\n",
       "      <td>D6603</td>\n",
       "      <td>1</td>\n",
       "      <td>Sony</td>\n",
       "      <td>Xperia Z3</td>\n",
       "      <td>D6603</td>\n",
       "    </tr>\n",
       "    <tr>\n",
       "      <th>12</th>\n",
       "      <td>362.01</td>\n",
       "      <td>14.19</td>\n",
       "      <td>7267.55</td>\n",
       "      <td>22921</td>\n",
       "      <td>18833</td>\n",
       "      <td>android</td>\n",
       "      <td>6.0</td>\n",
       "      <td>D6603</td>\n",
       "      <td>1</td>\n",
       "      <td>Sony</td>\n",
       "      <td>Xperia Z3</td>\n",
       "      <td>D6603</td>\n",
       "    </tr>\n",
       "    <tr>\n",
       "      <th>13</th>\n",
       "      <td>146.45</td>\n",
       "      <td>48.67</td>\n",
       "      <td>1557.33</td>\n",
       "      <td>22979</td>\n",
       "      <td>16673</td>\n",
       "      <td>android</td>\n",
       "      <td>5.1</td>\n",
       "      <td>D5503</td>\n",
       "      <td>1</td>\n",
       "      <td>Sony</td>\n",
       "      <td>Xperia Z1 Compact</td>\n",
       "      <td>D5503</td>\n",
       "    </tr>\n",
       "    <tr>\n",
       "      <th>14</th>\n",
       "      <td>61.22</td>\n",
       "      <td>262.47</td>\n",
       "      <td>12458.67</td>\n",
       "      <td>22981</td>\n",
       "      <td>18108</td>\n",
       "      <td>android</td>\n",
       "      <td>4.4</td>\n",
       "      <td>X11</td>\n",
       "      <td>1</td>\n",
       "      <td>Lava</td>\n",
       "      <td>X11</td>\n",
       "      <td>X11</td>\n",
       "    </tr>\n",
       "    <tr>\n",
       "      <th>15</th>\n",
       "      <td>146.45</td>\n",
       "      <td>48.67</td>\n",
       "      <td>1557.33</td>\n",
       "      <td>22986</td>\n",
       "      <td>16673</td>\n",
       "      <td>android</td>\n",
       "      <td>5.1</td>\n",
       "      <td>D5503</td>\n",
       "      <td>1</td>\n",
       "      <td>Sony</td>\n",
       "      <td>Xperia Z1 Compact</td>\n",
       "      <td>D5503</td>\n",
       "    </tr>\n",
       "    <tr>\n",
       "      <th>16</th>\n",
       "      <td>55.96</td>\n",
       "      <td>0.25</td>\n",
       "      <td>2076.45</td>\n",
       "      <td>23017</td>\n",
       "      <td>29666</td>\n",
       "      <td>android</td>\n",
       "      <td>6.0</td>\n",
       "      <td>F3111</td>\n",
       "      <td>1</td>\n",
       "      <td>Sony</td>\n",
       "      <td>Xperia XA</td>\n",
       "      <td>F3111</td>\n",
       "    </tr>\n",
       "    <tr>\n",
       "      <th>17</th>\n",
       "      <td>60.08</td>\n",
       "      <td>261.33</td>\n",
       "      <td>12458.67</td>\n",
       "      <td>23027</td>\n",
       "      <td>18108</td>\n",
       "      <td>android</td>\n",
       "      <td>4.4</td>\n",
       "      <td>X11</td>\n",
       "      <td>1</td>\n",
       "      <td>Lava</td>\n",
       "      <td>X11</td>\n",
       "      <td>X11</td>\n",
       "    </tr>\n",
       "    <tr>\n",
       "      <th>18</th>\n",
       "      <td>92.52</td>\n",
       "      <td>162.39</td>\n",
       "      <td>1557.33</td>\n",
       "      <td>23028</td>\n",
       "      <td>29716</td>\n",
       "      <td>android</td>\n",
       "      <td>5.1</td>\n",
       "      <td>C6603</td>\n",
       "      <td>1</td>\n",
       "      <td>Sony</td>\n",
       "      <td>Xperia Z</td>\n",
       "      <td>C6603</td>\n",
       "    </tr>\n",
       "  </tbody>\n",
       "</table>\n",
       "</div>"
      ],
      "text/plain": [
       "    outgoing_mins_per_month  outgoing_sms_per_month  monthly_mb  use_id  \\\n",
       "0                     94.46                   35.17      519.12   22790   \n",
       "1                    283.30                  107.47    15573.33   22806   \n",
       "2                    283.30                  107.47    15573.33   22806   \n",
       "3                    244.88                  105.95     1557.33   22832   \n",
       "4                    135.09                   42.02     5191.12   22833   \n",
       "5                     57.49                   16.73    15573.33   22839   \n",
       "6                     57.49                   16.73    15573.33   22839   \n",
       "7                     99.23                   35.58      519.12   22854   \n",
       "8                     43.03                    0.47     2076.45   22882   \n",
       "9                     43.03                    0.47     2076.45   22883   \n",
       "10                    43.03                    0.47     2076.45   22884   \n",
       "11                   362.01                   14.19     7267.55   22920   \n",
       "12                   362.01                   14.19     7267.55   22921   \n",
       "13                   146.45                   48.67     1557.33   22979   \n",
       "14                    61.22                  262.47    12458.67   22981   \n",
       "15                   146.45                   48.67     1557.33   22986   \n",
       "16                    55.96                    0.25     2076.45   23017   \n",
       "17                    60.08                  261.33    12458.67   23027   \n",
       "18                    92.52                  162.39     1557.33   23028   \n",
       "\n",
       "    user_id platform  platform_version device  use_type_id Retail Branding  \\\n",
       "0     29592  android               5.1  D2303            1            Sony   \n",
       "1     21615  android               6.0  A0001            1         OnePlus   \n",
       "2     21615  android               6.0  A0001            1         OnePlus   \n",
       "3     29295  android               6.0  D5803            1            Sony   \n",
       "4     24847  android               6.0  E6653            1            Sony   \n",
       "5     29655  android               6.0  A0001            1         OnePlus   \n",
       "6     29655  android               6.0  A0001            1         OnePlus   \n",
       "7     29592  android               5.1  D2303            1            Sony   \n",
       "8     29666  android               6.0  F3111            1            Sony   \n",
       "9     29666  android               6.0  F3111            1            Sony   \n",
       "10    29666  android               6.0  F3111            1            Sony   \n",
       "11    18833  android               6.0  D6603            1            Sony   \n",
       "12    18833  android               6.0  D6603            1            Sony   \n",
       "13    16673  android               5.1  D5503            1            Sony   \n",
       "14    18108  android               4.4    X11            1            Lava   \n",
       "15    16673  android               5.1  D5503            1            Sony   \n",
       "16    29666  android               6.0  F3111            1            Sony   \n",
       "17    18108  android               4.4    X11            1            Lava   \n",
       "18    29716  android               5.1  C6603            1            Sony   \n",
       "\n",
       "       Marketing Name  Model  \n",
       "0           Xperia M2  D2303  \n",
       "1         OnePlus One  A0001  \n",
       "2         OnePlus One    One  \n",
       "3   Xperia Z3 Compact  D5803  \n",
       "4           Xperia Z5  E6653  \n",
       "5         OnePlus One  A0001  \n",
       "6         OnePlus One    One  \n",
       "7           Xperia M2  D2303  \n",
       "8           Xperia XA  F3111  \n",
       "9           Xperia XA  F3111  \n",
       "10          Xperia XA  F3111  \n",
       "11          Xperia Z3  D6603  \n",
       "12          Xperia Z3  D6603  \n",
       "13  Xperia Z1 Compact  D5503  \n",
       "14                X11    X11  \n",
       "15  Xperia Z1 Compact  D5503  \n",
       "16          Xperia XA  F3111  \n",
       "17                X11    X11  \n",
       "18           Xperia Z  C6603  "
      ]
     },
     "metadata": {},
     "output_type": "display_data"
    }
   ],
   "source": [
    "# Merging our dataset with two of the three dataframes to our final dataset. \n",
    "device.rename(columns = {'Device' :'device'}, inplace = True)\n",
    "\n",
    "final_df = pd.merge(two_of_three, device, \n",
    "        left_on='device', right_on='device', how = 'inner')\n",
    "\n",
    "display(final_df)"
   ]
  },
  {
   "cell_type": "markdown",
   "id": "d4d9f935-67c9-4e8e-82b1-982ce17b53ca",
   "metadata": {},
   "source": [
    "# Three Questions\n",
    "## 1] Which device(s) are highly favored by Android Users?\n",
    "\n",
    "#### After making a bar graph, it's clear that the android device that consumers tend to use the most (in terms of storage) is A0001. This may be because the device has an enhanced user experience, or it could be because the device is outdated and uses more storage to do simple tasks. Following the A0001, we have X11 which was a close second. The gap betwen X11 and D6603 devices widens substantially. Overall, it is clear that Android users tend to use more memory storage on the A0001, X11, and D6603 devices."
   ]
  },
  {
   "cell_type": "code",
   "execution_count": 296,
   "id": "7f1d35cd-a051-48a6-8b73-23a044449808",
   "metadata": {},
   "outputs": [],
   "source": [
    "import matplotlib.pyplot as plt\n",
    "import plotly.express as px"
   ]
  },
  {
   "cell_type": "code",
   "execution_count": 298,
   "id": "a05cd54b-34b7-4c8d-98b6-a303ba9f4e3d",
   "metadata": {},
   "outputs": [
    {
     "data": {
      "image/png": "[encoded data removed]",
      "text/plain": [
       "<Figure size 1500x800 with 1 Axes>"
      ]
     },
     "metadata": {},
     "output_type": "display_data"
    }
   ],
   "source": [
    "top = final_df[['device','monthly_mb']].sort_values(by='monthly_mb', ascending = False).head(20)\n",
    "\n",
    "plt.figure(figsize=(15,8))\n",
    "plt.bar(top['device'], top['monthly_mb'])\n",
    "\n",
    "plt.title(\"Top 20 devices for Android and their usage\")\n",
    "plt.ylabel(\"monthy MB\")\n",
    "plt.xticks(rotation=90)\n",
    "plt.show()"
   ]
  },
  {
   "cell_type": "markdown",
   "id": "7a9ef5ae-563a-4ebe-8561-9d7a9d51b6d7",
   "metadata": {},
   "source": [
    "## 2] Does higher data usage mean more outgoing mins per month?\n",
    "\n",
    "#### The correlation between data usage and outgoing minutes per month is approximately 0.20. This means that their is a positive relationship between data usage and the outgoing minutes per month but this relationship is weak. Because of such a weak correlation, we cannot indicate that higher data usage = higher outgoing mins per month. To get a better sense of this relationship, I made a graph and it became clear that we have the following problems: First, our sample size is too small. When merging the datasets I used only an inner merge but all that did was weed down my observations. Second, we lack platform variability. Out data is currently heavily skewed towards android. Finally, from the graph we cannot conclude that any relationship exist because the values appear to be random. "
   ]
  },
  {
   "cell_type": "code",
   "execution_count": 300,
   "id": "9b620423-5b19-4b00-992d-31d8bd41663a",
   "metadata": {},
   "outputs": [
    {
     "data": {
      "text/plain": [
       "0.19575729312925833"
      ]
     },
     "execution_count": 300,
     "metadata": {},
     "output_type": "execute_result"
    }
   ],
   "source": [
    "final_df['monthly_mb'].corr(final_df['outgoing_mins_per_month'])"
   ]
  },
  {
   "cell_type": "code",
   "execution_count": 303,
   "id": "2f83f893-4135-41d4-b7ea-31dc1198da0f",
   "metadata": {},
   "outputs": [
    {
     "data": {
      "application/vnd.plotly.v1+json": {
       "config": {
        "plotlyServerURL": "https://plot.ly"
       },
       "data": [
        {
         "hovertemplate": "Retail Branding=Sony<br>outgoing_mins_per_month=%{marker.size}<br>monthly_mb=%{y}<extra></extra>",
         "legendgroup": "Sony",
         "marker": {
          "color": "#636efa",
          "size": [
           94.46,
           244.88,
           135.09,
           99.23,
           43.03,
           43.03,
           43.03,
           362.01,
           362.01,
           146.45,
           146.45,
           55.96,
           92.52
          ],
          "sizemode": "area",
          "sizeref": 0.905025,
          "symbol": "circle"
         },
         "mode": "markers",
         "name": "Sony",
         "orientation": "v",
         "showlegend": true,
         "type": "scatter",
         "x": [
          94.46,
          244.88,
          135.09,
          99.23,
          43.03,
          43.03,
          43.03,
          362.01,
          362.01,
          146.45,
          146.45,
          55.96,
          92.52
         ],
         "xaxis": "x",
         "y": [
          519.12,
          1557.33,
          5191.12,
          519.12,
          2076.45,
          2076.45,
          2076.45,
          7267.55,
          7267.55,
          1557.33,
          1557.33,
          2076.45,
          1557.33
         ],
         "yaxis": "y"
        },
        {
         "hovertemplate": "Retail Branding=OnePlus<br>outgoing_mins_per_month=%{marker.size}<br>monthly_mb=%{y}<extra></extra>",
         "legendgroup": "OnePlus",
         "marker": {
          "color": "#EF553B",
          "size": [
           283.3,
           283.3,
           57.49,
           57.49
          ],
          "sizemode": "area",
          "sizeref": 0.905025,
          "symbol": "circle"
         },
         "mode": "markers",
         "name": "OnePlus",
         "orientation": "v",
         "showlegend": true,
         "type": "scatter",
         "x": [
          283.3,
          283.3,
          57.49,
          57.49
         ],
         "xaxis": "x",
         "y": [
          15573.33,
          15573.33,
          15573.33,
          15573.33
         ],
         "yaxis": "y"
        },
        {
         "hovertemplate": "Retail Branding=Lava<br>outgoing_mins_per_month=%{marker.size}<br>monthly_mb=%{y}<extra></extra>",
         "legendgroup": "Lava",
         "marker": {
          "color": "#00cc96",
          "size": [
           61.22,
           60.08
          ],
          "sizemode": "area",
          "sizeref": 0.905025,
          "symbol": "circle"
         },
         "mode": "markers",
         "name": "Lava",
         "orientation": "v",
         "showlegend": true,
         "type": "scatter",
         "x": [
          61.22,
          60.08
         ],
         "xaxis": "x",
         "y": [
          12458.67,
          12458.67
         ],
         "yaxis": "y"
        }
       ],
       "layout": {
        "autosize": true,
        "legend": {
         "itemsizing": "constant",
         "title": {
          "text": "Retail Branding"
         },
         "tracegroupgap": 0
        },
        "margin": {
         "t": 60
        },
        "template": {
         "data": {
          "bar": [
           {
            "error_x": {
             "color": "#2a3f5f"
            },
            "error_y": {
             "color": "#2a3f5f"
            },
            "marker": {
             "line": {
              "color": "#E5ECF6",
              "width": 0.5
             },
             "pattern": {
              "fillmode": "overlay",
              "size": 10,
              "solidity": 0.2
             }
            },
            "type": "bar"
           }
          ],
          "barpolar": [
           {
            "marker": {
             "line": {
              "color": "#E5ECF6",
              "width": 0.5
             },
             "pattern": {
              "fillmode": "overlay",
              "size": 10,
              "solidity": 0.2
             }
            },
            "type": "barpolar"
           }
          ],
          "carpet": [
           {
            "aaxis": {
             "endlinecolor": "#2a3f5f",
             "gridcolor": "white",
             "linecolor": "white",
             "minorgridcolor": "white",
             "startlinecolor": "#2a3f5f"
            },
            "baxis": {
             "endlinecolor": "#2a3f5f",
             "gridcolor": "white",
             "linecolor": "white",
             "minorgridcolor": "white",
             "startlinecolor": "#2a3f5f"
            },
            "type": "carpet"
           }
          ],
          "choropleth": [
           {
            "colorbar": {
             "outlinewidth": 0,
             "ticks": ""
            },
            "type": "choropleth"
           }
          ],
          "contour": [
           {
            "colorbar": {
             "outlinewidth": 0,
             "ticks": ""
            },
            "colorscale": [
             [
              0,
              "#0d0887"
             ],
             [
              0.1111111111111111,
              "#46039f"
             ],
             [
              0.2222222222222222,
              "#7201a8"
             ],
             [
              0.3333333333333333,
              "#9c179e"
             ],
             [
              0.4444444444444444,
              "#bd3786"
             ],
             [
              0.5555555555555556,
              "#d8576b"
             ],
             [
              0.6666666666666666,
              "#ed7953"
             ],
             [
              0.7777777777777778,
              "#fb9f3a"
             ],
             [
              0.8888888888888888,
              "#fdca26"
             ],
             [
              1,
              "#f0f921"
             ]
            ],
            "type": "contour"
           }
          ],
          "contourcarpet": [
           {
            "colorbar": {
             "outlinewidth": 0,
             "ticks": ""
            },
            "type": "contourcarpet"
           }
          ],
          "heatmap": [
           {
            "colorbar": {
             "outlinewidth": 0,
             "ticks": ""
            },
            "colorscale": [
             [
              0,
              "#0d0887"
             ],
             [
              0.1111111111111111,
              "#46039f"
             ],
             [
              0.2222222222222222,
              "#7201a8"
             ],
             [
              0.3333333333333333,
              "#9c179e"
             ],
             [
              0.4444444444444444,
              "#bd3786"
             ],
             [
              0.5555555555555556,
              "#d8576b"
             ],
             [
              0.6666666666666666,
              "#ed7953"
             ],
             [
              0.7777777777777778,
              "#fb9f3a"
             ],
             [
              0.8888888888888888,
              "#fdca26"
             ],
             [
              1,
              "#f0f921"
             ]
            ],
            "type": "heatmap"
           }
          ],
          "heatmapgl": [
           {
            "colorbar": {
             "outlinewidth": 0,
             "ticks": ""
            },
            "colorscale": [
             [
              0,
              "#0d0887"
             ],
             [
              0.1111111111111111,
              "#46039f"
             ],
             [
              0.2222222222222222,
              "#7201a8"
             ],
             [
              0.3333333333333333,
              "#9c179e"
             ],
             [
              0.4444444444444444,
              "#bd3786"
             ],
             [
              0.5555555555555556,
              "#d8576b"
             ],
             [
              0.6666666666666666,
              "#ed7953"
             ],
             [
              0.7777777777777778,
              "#fb9f3a"
             ],
             [
              0.8888888888888888,
              "#fdca26"
             ],
             [
              1,
              "#f0f921"
             ]
            ],
            "type": "heatmapgl"
           }
          ],
          "histogram": [
           {
            "marker": {
             "pattern": {
              "fillmode": "overlay",
              "size": 10,
              "solidity": 0.2
             }
            },
            "type": "histogram"
           }
          ],
          "histogram2d": [
           {
            "colorbar": {
             "outlinewidth": 0,
             "ticks": ""
            },
            "colorscale": [
             [
              0,
              "#0d0887"
             ],
             [
              0.1111111111111111,
              "#46039f"
             ],
             [
              0.2222222222222222,
              "#7201a8"
             ],
             [
              0.3333333333333333,
              "#9c179e"
             ],
             [
              0.4444444444444444,
              "#bd3786"
             ],
             [
              0.5555555555555556,
              "#d8576b"
             ],
             [
              0.6666666666666666,
              "#ed7953"
             ],
             [
              0.7777777777777778,
              "#fb9f3a"
             ],
             [
              0.8888888888888888,
              "#fdca26"
             ],
             [
              1,
              "#f0f921"
             ]
            ],
            "type": "histogram2d"
           }
          ],
          "histogram2dcontour": [
           {
            "colorbar": {
             "outlinewidth": 0,
             "ticks": ""
            },
            "colorscale": [
             [
              0,
              "#0d0887"
             ],
             [
              0.1111111111111111,
              "#46039f"
             ],
             [
              0.2222222222222222,
              "#7201a8"
             ],
             [
              0.3333333333333333,
              "#9c179e"
             ],
             [
              0.4444444444444444,
              "#bd3786"
             ],
             [
              0.5555555555555556,
              "#d8576b"
             ],
             [
              0.6666666666666666,
              "#ed7953"
             ],
             [
              0.7777777777777778,
              "#fb9f3a"
             ],
             [
              0.8888888888888888,
              "#fdca26"
             ],
             [
              1,
              "#f0f921"
             ]
            ],
            "type": "histogram2dcontour"
           }
          ],
          "mesh3d": [
           {
            "colorbar": {
             "outlinewidth": 0,
             "ticks": ""
            },
            "type": "mesh3d"
           }
          ],
          "parcoords": [
           {
            "line": {
             "colorbar": {
              "outlinewidth": 0,
              "ticks": ""
             }
            },
            "type": "parcoords"
           }
          ],
          "pie": [
           {
            "automargin": true,
            "type": "pie"
           }
          ],
          "scatter": [
           {
            "fillpattern": {
             "fillmode": "overlay",
             "size": 10,
             "solidity": 0.2
            },
            "type": "scatter"
           }
          ],
          "scatter3d": [
           {
            "line": {
             "colorbar": {
              "outlinewidth": 0,
              "ticks": ""
             }
            },
            "marker": {
             "colorbar": {
              "outlinewidth": 0,
              "ticks": ""
             }
            },
            "type": "scatter3d"
           }
          ],
          "scattercarpet": [
           {
            "marker": {
             "colorbar": {
              "outlinewidth": 0,
              "ticks": ""
             }
            },
            "type": "scattercarpet"
           }
          ],
          "scattergeo": [
           {
            "marker": {
             "colorbar": {
              "outlinewidth": 0,
              "ticks": ""
             }
            },
            "type": "scattergeo"
           }
          ],
          "scattergl": [
           {
            "marker": {
             "colorbar": {
              "outlinewidth": 0,
              "ticks": ""
             }
            },
            "type": "scattergl"
           }
          ],
          "scattermapbox": [
           {
            "marker": {
             "colorbar": {
              "outlinewidth": 0,
              "ticks": ""
             }
            },
            "type": "scattermapbox"
           }
          ],
          "scatterpolar": [
           {
            "marker": {
             "colorbar": {
              "outlinewidth": 0,
              "ticks": ""
             }
            },
            "type": "scatterpolar"
           }
          ],
          "scatterpolargl": [
           {
            "marker": {
             "colorbar": {
              "outlinewidth": 0,
              "ticks": ""
             }
            },
            "type": "scatterpolargl"
           }
          ],
          "scatterternary": [
           {
            "marker": {
             "colorbar": {
              "outlinewidth": 0,
              "ticks": ""
             }
            },
            "type": "scatterternary"
           }
          ],
          "surface": [
           {
            "colorbar": {
             "outlinewidth": 0,
             "ticks": ""
            },
            "colorscale": [
             [
              0,
              "#0d0887"
             ],
             [
              0.1111111111111111,
              "#46039f"
             ],
             [
              0.2222222222222222,
              "#7201a8"
             ],
             [
              0.3333333333333333,
              "#9c179e"
             ],
             [
              0.4444444444444444,
              "#bd3786"
             ],
             [
              0.5555555555555556,
              "#d8576b"
             ],
             [
              0.6666666666666666,
              "#ed7953"
             ],
             [
              0.7777777777777778,
              "#fb9f3a"
             ],
             [
              0.8888888888888888,
              "#fdca26"
             ],
             [
              1,
              "#f0f921"
             ]
            ],
            "type": "surface"
           }
          ],
          "table": [
           {
            "cells": {
             "fill": {
              "color": "#EBF0F8"
             },
             "line": {
              "color": "white"
             }
            },
            "header": {
             "fill": {
              "color": "#C8D4E3"
             },
             "line": {
              "color": "white"
             }
            },
            "type": "table"
           }
          ]
         },
         "layout": {
          "annotationdefaults": {
           "arrowcolor": "#2a3f5f",
           "arrowhead": 0,
           "arrowwidth": 1
          },
          "autotypenumbers": "strict",
          "coloraxis": {
           "colorbar": {
            "outlinewidth": 0,
            "ticks": ""
           }
          },
          "colorscale": {
           "diverging": [
            [
             0,
             "#8e0152"
            ],
            [
             0.1,
             "#c51b7d"
            ],
            [
             0.2,
             "#de77ae"
            ],
            [
             0.3,
             "#f1b6da"
            ],
            [
             0.4,
             "#fde0ef"
            ],
            [
             0.5,
             "#f7f7f7"
            ],
            [
             0.6,
             "#e6f5d0"
            ],
            [
             0.7,
             "#b8e186"
            ],
            [
             0.8,
             "#7fbc41"
            ],
            [
             0.9,
             "#4d9221"
            ],
            [
             1,
             "#276419"
            ]
           ],
           "sequential": [
            [
             0,
             "#0d0887"
            ],
            [
             0.1111111111111111,
             "#46039f"
            ],
            [
             0.2222222222222222,
             "#7201a8"
            ],
            [
             0.3333333333333333,
             "#9c179e"
            ],
            [
             0.4444444444444444,
             "#bd3786"
            ],
            [
             0.5555555555555556,
             "#d8576b"
            ],
            [
             0.6666666666666666,
             "#ed7953"
            ],
            [
             0.7777777777777778,
             "#fb9f3a"
            ],
            [
             0.8888888888888888,
             "#fdca26"
            ],
            [
             1,
             "#f0f921"
            ]
           ],
           "sequentialminus": [
            [
             0,
             "#0d0887"
            ],
            [
             0.1111111111111111,
             "#46039f"
            ],
            [
             0.2222222222222222,
             "#7201a8"
            ],
            [
             0.3333333333333333,
             "#9c179e"
            ],
            [
             0.4444444444444444,
             "#bd3786"
            ],
            [
             0.5555555555555556,
             "#d8576b"
            ],
            [
             0.6666666666666666,
             "#ed7953"
            ],
            [
             0.7777777777777778,
             "#fb9f3a"
            ],
            [
             0.8888888888888888,
             "#fdca26"
            ],
            [
             1,
             "#f0f921"
            ]
           ]
          },
          "colorway": [
           "#636efa",
           "#EF553B",
           "#00cc96",
           "#ab63fa",
           "#FFA15A",
           "#19d3f3",
           "#FF6692",
           "#B6E880",
           "#FF97FF",
           "#FECB52"
          ],
          "font": {
           "color": "#2a3f5f"
          },
          "geo": {
           "bgcolor": "white",
           "lakecolor": "white",
           "landcolor": "#E5ECF6",
           "showlakes": true,
           "showland": true,
           "subunitcolor": "white"
          },
          "hoverlabel": {
           "align": "left"
          },
          "hovermode": "closest",
          "mapbox": {
           "style": "light"
          },
          "paper_bgcolor": "white",
          "plot_bgcolor": "#E5ECF6",
          "polar": {
           "angularaxis": {
            "gridcolor": "white",
            "linecolor": "white",
            "ticks": ""
           },
           "bgcolor": "#E5ECF6",
           "radialaxis": {
            "gridcolor": "white",
            "linecolor": "white",
            "ticks": ""
           }
          },
          "scene": {
           "xaxis": {
            "backgroundcolor": "#E5ECF6",
            "gridcolor": "white",
            "gridwidth": 2,
            "linecolor": "white",
            "showbackground": true,
            "ticks": "",
            "zerolinecolor": "white"
           },
           "yaxis": {
            "backgroundcolor": "#E5ECF6",
            "gridcolor": "white",
            "gridwidth": 2,
            "linecolor": "white",
            "showbackground": true,
            "ticks": "",
            "zerolinecolor": "white"
           },
           "zaxis": {
            "backgroundcolor": "#E5ECF6",
            "gridcolor": "white",
            "gridwidth": 2,
            "linecolor": "white",
            "showbackground": true,
            "ticks": "",
            "zerolinecolor": "white"
           }
          },
          "shapedefaults": {
           "line": {
            "color": "#2a3f5f"
           }
          },
          "ternary": {
           "aaxis": {
            "gridcolor": "white",
            "linecolor": "white",
            "ticks": ""
           },
           "baxis": {
            "gridcolor": "white",
            "linecolor": "white",
            "ticks": ""
           },
           "bgcolor": "#E5ECF6",
           "caxis": {
            "gridcolor": "white",
            "linecolor": "white",
            "ticks": ""
           }
          },
          "title": {
           "x": 0.05
          },
          "xaxis": {
           "automargin": true,
           "gridcolor": "white",
           "linecolor": "white",
           "ticks": "",
           "title": {
            "standoff": 15
           },
           "zerolinecolor": "white",
           "zerolinewidth": 2
          },
          "yaxis": {
           "automargin": true,
           "gridcolor": "white",
           "linecolor": "white",
           "ticks": "",
           "title": {
            "standoff": 15
           },
           "zerolinecolor": "white",
           "zerolinewidth": 2
          }
         }
        },
        "title": {
         "text": "Monthly Mb and Outgoing Minutes per Month"
        },
        "xaxis": {
         "anchor": "y",
         "autorange": true,
         "domain": [
          0,
          1
         ],
         "range": [
          22.611192507162354,
          386.64268439551427
         ],
         "title": {
          "text": "outgoing_mins_per_month"
         },
         "type": "linear"
        },
        "yaxis": {
         "anchor": "x",
         "autorange": true,
         "domain": [
          0,
          1
         ],
         "range": [
          -614.5711914898314,
          16885.432515356148
         ],
         "title": {
          "text": "monthly_mb"
         },
         "type": "linear"
        }
       }
      },
      "image/png": "[encoded data removed]",
      "text/html": [
       "<div>                            <div id=\"07b2edcb-7bca-4630-af15-c2436a11d699\" class=\"plotly-graph-div\" style=\"height:700px; width:100%;\"></div>            <script type=\"text/javascript\">                require([\"plotly\"], function(Plotly) {                    window.PLOTLYENV=window.PLOTLYENV || {};                                    if (document.getElementById(\"07b2edcb-7bca-4630-af15-c2436a11d699\")) {                    Plotly.newPlot(                        \"07b2edcb-7bca-4630-af15-c2436a11d699\",                        [{\"hovertemplate\":\"Retail Branding=Sony\\u003cbr\\u003eoutgoing_mins_per_month=%{marker.size}\\u003cbr\\u003emonthly_mb=%{y}\\u003cextra\\u003e\\u003c\\u002fextra\\u003e\",\"legendgroup\":\"Sony\",\"marker\":{\"color\":\"#636efa\",\"size\":[94.46,244.88,135.09,99.23,43.03,43.03,43.03,362.01,362.01,146.45,146.45,55.96,92.52],\"sizemode\":\"area\",\"sizeref\":0.905025,\"symbol\":\"circle\"},\"mode\":\"markers\",\"name\":\"Sony\",\"orientation\":\"v\",\"showlegend\":true,\"x\":[94.46,244.88,135.09,99.23,43.03,43.03,43.03,362.01,362.01,146.45,146.45,55.96,92.52],\"xaxis\":\"x\",\"y\":[519.12,1557.33,5191.12,519.12,2076.45,2076.45,2076.45,7267.55,7267.55,1557.33,1557.33,2076.45,1557.33],\"yaxis\":\"y\",\"type\":\"scatter\"},{\"hovertemplate\":\"Retail Branding=OnePlus\\u003cbr\\u003eoutgoing_mins_per_month=%{marker.size}\\u003cbr\\u003emonthly_mb=%{y}\\u003cextra\\u003e\\u003c\\u002fextra\\u003e\",\"legendgroup\":\"OnePlus\",\"marker\":{\"color\":\"#EF553B\",\"size\":[283.3,283.3,57.49,57.49],\"sizemode\":\"area\",\"sizeref\":0.905025,\"symbol\":\"circle\"},\"mode\":\"markers\",\"name\":\"OnePlus\",\"orientation\":\"v\",\"showlegend\":true,\"x\":[283.3,283.3,57.49,57.49],\"xaxis\":\"x\",\"y\":[15573.33,15573.33,15573.33,15573.33],\"yaxis\":\"y\",\"type\":\"scatter\"},{\"hovertemplate\":\"Retail Branding=Lava\\u003cbr\\u003eoutgoing_mins_per_month=%{marker.size}\\u003cbr\\u003emonthly_mb=%{y}\\u003cextra\\u003e\\u003c\\u002fextra\\u003e\",\"legendgroup\":\"Lava\",\"marker\":{\"color\":\"#00cc96\",\"size\":[61.22,60.08],\"sizemode\":\"area\",\"sizeref\":0.905025,\"symbol\":\"circle\"},\"mode\":\"markers\",\"name\":\"Lava\",\"orientation\":\"v\",\"showlegend\":true,\"x\":[61.22,60.08],\"xaxis\":\"x\",\"y\":[12458.67,12458.67],\"yaxis\":\"y\",\"type\":\"scatter\"}],                        {\"template\":{\"data\":{\"histogram2dcontour\":[{\"type\":\"histogram2dcontour\",\"colorbar\":{\"outlinewidth\":0,\"ticks\":\"\"},\"colorscale\":[[0.0,\"#0d0887\"],[0.1111111111111111,\"#46039f\"],[0.2222222222222222,\"#7201a8\"],[0.3333333333333333,\"#9c179e\"],[0.4444444444444444,\"#bd3786\"],[0.5555555555555556,\"#d8576b\"],[0.6666666666666666,\"#ed7953\"],[0.7777777777777778,\"#fb9f3a\"],[0.8888888888888888,\"#fdca26\"],[1.0,\"#f0f921\"]]}],\"choropleth\":[{\"type\":\"choropleth\",\"colorbar\":{\"outlinewidth\":0,\"ticks\":\"\"}}],\"histogram2d\":[{\"type\":\"histogram2d\",\"colorbar\":{\"outlinewidth\":0,\"ticks\":\"\"},\"colorscale\":[[0.0,\"#0d0887\"],[0.1111111111111111,\"#46039f\"],[0.2222222222222222,\"#7201a8\"],[0.3333333333333333,\"#9c179e\"],[0.4444444444444444,\"#bd3786\"],[0.5555555555555556,\"#d8576b\"],[0.6666666666666666,\"#ed7953\"],[0.7777777777777778,\"#fb9f3a\"],[0.8888888888888888,\"#fdca26\"],[1.0,\"#f0f921\"]]}],\"heatmap\":[{\"type\":\"heatmap\",\"colorbar\":{\"outlinewidth\":0,\"ticks\":\"\"},\"colorscale\":[[0.0,\"#0d0887\"],[0.1111111111111111,\"#46039f\"],[0.2222222222222222,\"#7201a8\"],[0.3333333333333333,\"#9c179e\"],[0.4444444444444444,\"#bd3786\"],[0.5555555555555556,\"#d8576b\"],[0.6666666666666666,\"#ed7953\"],[0.7777777777777778,\"#fb9f3a\"],[0.8888888888888888,\"#fdca26\"],[1.0,\"#f0f921\"]]}],\"heatmapgl\":[{\"type\":\"heatmapgl\",\"colorbar\":{\"outlinewidth\":0,\"ticks\":\"\"},\"colorscale\":[[0.0,\"#0d0887\"],[0.1111111111111111,\"#46039f\"],[0.2222222222222222,\"#7201a8\"],[0.3333333333333333,\"#9c179e\"],[0.4444444444444444,\"#bd3786\"],[0.5555555555555556,\"#d8576b\"],[0.6666666666666666,\"#ed7953\"],[0.7777777777777778,\"#fb9f3a\"],[0.8888888888888888,\"#fdca26\"],[1.0,\"#f0f921\"]]}],\"contourcarpet\":[{\"type\":\"contourcarpet\",\"colorbar\":{\"outlinewidth\":0,\"ticks\":\"\"}}],\"contour\":[{\"type\":\"contour\",\"colorbar\":{\"outlinewidth\":0,\"ticks\":\"\"},\"colorscale\":[[0.0,\"#0d0887\"],[0.1111111111111111,\"#46039f\"],[0.2222222222222222,\"#7201a8\"],[0.3333333333333333,\"#9c179e\"],[0.4444444444444444,\"#bd3786\"],[0.5555555555555556,\"#d8576b\"],[0.6666666666666666,\"#ed7953\"],[0.7777777777777778,\"#fb9f3a\"],[0.8888888888888888,\"#fdca26\"],[1.0,\"#f0f921\"]]}],\"surface\":[{\"type\":\"surface\",\"colorbar\":{\"outlinewidth\":0,\"ticks\":\"\"},\"colorscale\":[[0.0,\"#0d0887\"],[0.1111111111111111,\"#46039f\"],[0.2222222222222222,\"#7201a8\"],[0.3333333333333333,\"#9c179e\"],[0.4444444444444444,\"#bd3786\"],[0.5555555555555556,\"#d8576b\"],[0.6666666666666666,\"#ed7953\"],[0.7777777777777778,\"#fb9f3a\"],[0.8888888888888888,\"#fdca26\"],[1.0,\"#f0f921\"]]}],\"mesh3d\":[{\"type\":\"mesh3d\",\"colorbar\":{\"outlinewidth\":0,\"ticks\":\"\"}}],\"scatter\":[{\"fillpattern\":{\"fillmode\":\"overlay\",\"size\":10,\"solidity\":0.2},\"type\":\"scatter\"}],\"parcoords\":[{\"type\":\"parcoords\",\"line\":{\"colorbar\":{\"outlinewidth\":0,\"ticks\":\"\"}}}],\"scatterpolargl\":[{\"type\":\"scatterpolargl\",\"marker\":{\"colorbar\":{\"outlinewidth\":0,\"ticks\":\"\"}}}],\"bar\":[{\"error_x\":{\"color\":\"#2a3f5f\"},\"error_y\":{\"color\":\"#2a3f5f\"},\"marker\":{\"line\":{\"color\":\"#E5ECF6\",\"width\":0.5},\"pattern\":{\"fillmode\":\"overlay\",\"size\":10,\"solidity\":0.2}},\"type\":\"bar\"}],\"scattergeo\":[{\"type\":\"scattergeo\",\"marker\":{\"colorbar\":{\"outlinewidth\":0,\"ticks\":\"\"}}}],\"scatterpolar\":[{\"type\":\"scatterpolar\",\"marker\":{\"colorbar\":{\"outlinewidth\":0,\"ticks\":\"\"}}}],\"histogram\":[{\"marker\":{\"pattern\":{\"fillmode\":\"overlay\",\"size\":10,\"solidity\":0.2}},\"type\":\"histogram\"}],\"scattergl\":[{\"type\":\"scattergl\",\"marker\":{\"colorbar\":{\"outlinewidth\":0,\"ticks\":\"\"}}}],\"scatter3d\":[{\"type\":\"scatter3d\",\"line\":{\"colorbar\":{\"outlinewidth\":0,\"ticks\":\"\"}},\"marker\":{\"colorbar\":{\"outlinewidth\":0,\"ticks\":\"\"}}}],\"scattermapbox\":[{\"type\":\"scattermapbox\",\"marker\":{\"colorbar\":{\"outlinewidth\":0,\"ticks\":\"\"}}}],\"scatterternary\":[{\"type\":\"scatterternary\",\"marker\":{\"colorbar\":{\"outlinewidth\":0,\"ticks\":\"\"}}}],\"scattercarpet\":[{\"type\":\"scattercarpet\",\"marker\":{\"colorbar\":{\"outlinewidth\":0,\"ticks\":\"\"}}}],\"carpet\":[{\"aaxis\":{\"endlinecolor\":\"#2a3f5f\",\"gridcolor\":\"white\",\"linecolor\":\"white\",\"minorgridcolor\":\"white\",\"startlinecolor\":\"#2a3f5f\"},\"baxis\":{\"endlinecolor\":\"#2a3f5f\",\"gridcolor\":\"white\",\"linecolor\":\"white\",\"minorgridcolor\":\"white\",\"startlinecolor\":\"#2a3f5f\"},\"type\":\"carpet\"}],\"table\":[{\"cells\":{\"fill\":{\"color\":\"#EBF0F8\"},\"line\":{\"color\":\"white\"}},\"header\":{\"fill\":{\"color\":\"#C8D4E3\"},\"line\":{\"color\":\"white\"}},\"type\":\"table\"}],\"barpolar\":[{\"marker\":{\"line\":{\"color\":\"#E5ECF6\",\"width\":0.5},\"pattern\":{\"fillmode\":\"overlay\",\"size\":10,\"solidity\":0.2}},\"type\":\"barpolar\"}],\"pie\":[{\"automargin\":true,\"type\":\"pie\"}]},\"layout\":{\"autotypenumbers\":\"strict\",\"colorway\":[\"#636efa\",\"#EF553B\",\"#00cc96\",\"#ab63fa\",\"#FFA15A\",\"#19d3f3\",\"#FF6692\",\"#B6E880\",\"#FF97FF\",\"#FECB52\"],\"font\":{\"color\":\"#2a3f5f\"},\"hovermode\":\"closest\",\"hoverlabel\":{\"align\":\"left\"},\"paper_bgcolor\":\"white\",\"plot_bgcolor\":\"#E5ECF6\",\"polar\":{\"bgcolor\":\"#E5ECF6\",\"angularaxis\":{\"gridcolor\":\"white\",\"linecolor\":\"white\",\"ticks\":\"\"},\"radialaxis\":{\"gridcolor\":\"white\",\"linecolor\":\"white\",\"ticks\":\"\"}},\"ternary\":{\"bgcolor\":\"#E5ECF6\",\"aaxis\":{\"gridcolor\":\"white\",\"linecolor\":\"white\",\"ticks\":\"\"},\"baxis\":{\"gridcolor\":\"white\",\"linecolor\":\"white\",\"ticks\":\"\"},\"caxis\":{\"gridcolor\":\"white\",\"linecolor\":\"white\",\"ticks\":\"\"}},\"coloraxis\":{\"colorbar\":{\"outlinewidth\":0,\"ticks\":\"\"}},\"colorscale\":{\"sequential\":[[0.0,\"#0d0887\"],[0.1111111111111111,\"#46039f\"],[0.2222222222222222,\"#7201a8\"],[0.3333333333333333,\"#9c179e\"],[0.4444444444444444,\"#bd3786\"],[0.5555555555555556,\"#d8576b\"],[0.6666666666666666,\"#ed7953\"],[0.7777777777777778,\"#fb9f3a\"],[0.8888888888888888,\"#fdca26\"],[1.0,\"#f0f921\"]],\"sequentialminus\":[[0.0,\"#0d0887\"],[0.1111111111111111,\"#46039f\"],[0.2222222222222222,\"#7201a8\"],[0.3333333333333333,\"#9c179e\"],[0.4444444444444444,\"#bd3786\"],[0.5555555555555556,\"#d8576b\"],[0.6666666666666666,\"#ed7953\"],[0.7777777777777778,\"#fb9f3a\"],[0.8888888888888888,\"#fdca26\"],[1.0,\"#f0f921\"]],\"diverging\":[[0,\"#8e0152\"],[0.1,\"#c51b7d\"],[0.2,\"#de77ae\"],[0.3,\"#f1b6da\"],[0.4,\"#fde0ef\"],[0.5,\"#f7f7f7\"],[0.6,\"#e6f5d0\"],[0.7,\"#b8e186\"],[0.8,\"#7fbc41\"],[0.9,\"#4d9221\"],[1,\"#276419\"]]},\"xaxis\":{\"gridcolor\":\"white\",\"linecolor\":\"white\",\"ticks\":\"\",\"title\":{\"standoff\":15},\"zerolinecolor\":\"white\",\"automargin\":true,\"zerolinewidth\":2},\"yaxis\":{\"gridcolor\":\"white\",\"linecolor\":\"white\",\"ticks\":\"\",\"title\":{\"standoff\":15},\"zerolinecolor\":\"white\",\"automargin\":true,\"zerolinewidth\":2},\"scene\":{\"xaxis\":{\"backgroundcolor\":\"#E5ECF6\",\"gridcolor\":\"white\",\"linecolor\":\"white\",\"showbackground\":true,\"ticks\":\"\",\"zerolinecolor\":\"white\",\"gridwidth\":2},\"yaxis\":{\"backgroundcolor\":\"#E5ECF6\",\"gridcolor\":\"white\",\"linecolor\":\"white\",\"showbackground\":true,\"ticks\":\"\",\"zerolinecolor\":\"white\",\"gridwidth\":2},\"zaxis\":{\"backgroundcolor\":\"#E5ECF6\",\"gridcolor\":\"white\",\"linecolor\":\"white\",\"showbackground\":true,\"ticks\":\"\",\"zerolinecolor\":\"white\",\"gridwidth\":2}},\"shapedefaults\":{\"line\":{\"color\":\"#2a3f5f\"}},\"annotationdefaults\":{\"arrowcolor\":\"#2a3f5f\",\"arrowhead\":0,\"arrowwidth\":1},\"geo\":{\"bgcolor\":\"white\",\"landcolor\":\"#E5ECF6\",\"subunitcolor\":\"white\",\"showland\":true,\"showlakes\":true,\"lakecolor\":\"white\"},\"title\":{\"x\":0.05},\"mapbox\":{\"style\":\"light\"}}},\"xaxis\":{\"anchor\":\"y\",\"domain\":[0.0,1.0],\"title\":{\"text\":\"outgoing_mins_per_month\"}},\"yaxis\":{\"anchor\":\"x\",\"domain\":[0.0,1.0],\"title\":{\"text\":\"monthly_mb\"}},\"legend\":{\"title\":{\"text\":\"Retail Branding\"},\"tracegroupgap\":0,\"itemsizing\":\"constant\"},\"margin\":{\"t\":60},\"title\":{\"text\":\"Monthly Mb and Outgoing Minutes per Month\"},\"height\":700},                        {\"responsive\": true}                    ).then(function(){\n",
       "                            \n",
       "var gd = document.getElementById('07b2edcb-7bca-4630-af15-c2436a11d699');\n",
       "var x = new MutationObserver(function (mutations, observer) {{\n",
       "        var display = window.getComputedStyle(gd).display;\n",
       "        if (!display || display === 'none') {{\n",
       "            console.log([gd, 'removed!']);\n",
       "            Plotly.purge(gd);\n",
       "            observer.disconnect();\n",
       "        }}\n",
       "}});\n",
       "\n",
       "// Listen for the removal of the full notebook cells\n",
       "var notebookContainer = gd.closest('#notebook-container');\n",
       "if (notebookContainer) {{\n",
       "    x.observe(notebookContainer, {childList: true});\n",
       "}}\n",
       "\n",
       "// Listen for the clearing of the current output cell\n",
       "var outputEl = gd.closest('.output');\n",
       "if (outputEl) {{\n",
       "    x.observe(outputEl, {childList: true});\n",
       "}}\n",
       "\n",
       "                        })                };                });            </script>        </div>"
      ]
     },
     "metadata": {},
     "output_type": "display_data"
    }
   ],
   "source": [
    "fig = px.scatter(final_df, x=\"outgoing_mins_per_month\", y=\"monthly_mb\", color=\"Retail Branding\", size = 'outgoing_mins_per_month')  \n",
    "\n",
    "fig.update_layout (\n",
    "    title_text = \"Monthly Mb and Outgoing Minutes per Month\",\n",
    "    height = 700\n",
    " )\n",
    "fig.show()\n"
   ]
  },
  {
   "cell_type": "markdown",
   "id": "4581e5b8-71e3-45cb-af95-c533e6382bc2",
   "metadata": {},
   "source": [
    "## 3] What brand appears the most for indivduals in the top 5 data (mb) usage?\n",
    "\n",
    "#### It appears that their is a diverse range of competition when it comes to retail branding. This is not unexpected because each brand has its own competitve advantage to attract users and incentivise them to use their devices. Overall, it seems that there is not a definite top 3 retail brand. Also, I cannot figure out why I only got top(3) instead of top(5). I believe I am grouping correctly, and their also exists no NaN values when doing summary statistics."
   ]
  },
  {
   "cell_type": "code",
   "execution_count": 306,
   "id": "ac4be8e5-a0aa-42ae-ab5b-ce516510bc43",
   "metadata": {},
   "outputs": [
    {
     "data": {
      "text/html": [
       "<div>\n",
       "<style scoped>\n",
       "    .dataframe tbody tr th:only-of-type {\n",
       "        vertical-align: middle;\n",
       "    }\n",
       "\n",
       "    .dataframe tbody tr th {\n",
       "        vertical-align: top;\n",
       "    }\n",
       "\n",
       "    .dataframe thead th {\n",
       "        text-align: right;\n",
       "    }\n",
       "</style>\n",
       "<table border=\"1\" class=\"dataframe\">\n",
       "  <thead>\n",
       "    <tr style=\"text-align: right;\">\n",
       "      <th></th>\n",
       "      <th>monthly_mb</th>\n",
       "    </tr>\n",
       "    <tr>\n",
       "      <th>Retail Branding</th>\n",
       "      <th></th>\n",
       "    </tr>\n",
       "  </thead>\n",
       "  <tbody>\n",
       "    <tr>\n",
       "      <th>OnePlus</th>\n",
       "      <td>62293.32</td>\n",
       "    </tr>\n",
       "    <tr>\n",
       "      <th>Sony</th>\n",
       "      <td>35299.58</td>\n",
       "    </tr>\n",
       "    <tr>\n",
       "      <th>Lava</th>\n",
       "      <td>24917.34</td>\n",
       "    </tr>\n",
       "  </tbody>\n",
       "</table>\n",
       "</div>"
      ],
      "text/plain": [
       "                 monthly_mb\n",
       "Retail Branding            \n",
       "OnePlus            62293.32\n",
       "Sony               35299.58\n",
       "Lava               24917.34"
      ]
     },
     "execution_count": 306,
     "metadata": {},
     "output_type": "execute_result"
    }
   ],
   "source": [
    "columns_focus = ['Retail Branding','monthly_mb']\n",
    "top_mb = final_df[columns_focus].groupby('Retail Branding').sum().sort_values('monthly_mb', ascending=False).head(5)\n",
    "top_mb"
   ]
  },
  {
   "cell_type": "code",
   "execution_count": 308,
   "id": "a9ada623-376a-454b-a97c-d36af4bf7492",
   "metadata": {},
   "outputs": [
    {
     "data": {
      "text/plain": [
       "outgoing_mins_per_month    0\n",
       "outgoing_sms_per_month     0\n",
       "monthly_mb                 0\n",
       "use_id                     0\n",
       "user_id                    0\n",
       "platform                   0\n",
       "platform_version           0\n",
       "device                     0\n",
       "use_type_id                0\n",
       "Retail Branding            0\n",
       "Marketing Name             0\n",
       "Model                      0\n",
       "dtype: int64"
      ]
     },
     "execution_count": 308,
     "metadata": {},
     "output_type": "execute_result"
    }
   ],
   "source": [
    "#No Nan\n",
    "final_df.isna().sum()"
   ]
  },
  {
   "cell_type": "code",
   "execution_count": 310,
   "id": "6356e1b8-1746-4bc9-90b2-38b2e3039185",
   "metadata": {},
   "outputs": [
    {
     "data": {
      "text/plain": [
       "outgoing_mins_per_month    float64\n",
       "outgoing_sms_per_month     float64\n",
       "monthly_mb                 float64\n",
       "use_id                       int64\n",
       "user_id                      int64\n",
       "platform                    object\n",
       "platform_version           float64\n",
       "device                      object\n",
       "use_type_id                  int64\n",
       "Retail Branding             object\n",
       "Marketing Name              object\n",
       "Model                       object\n",
       "dtype: object"
      ]
     },
     "execution_count": 310,
     "metadata": {},
     "output_type": "execute_result"
    }
   ],
   "source": [
    "#Correct Data types\n",
    "final_df.dtypes"
   ]
  }
 ],
 "metadata": {
  "kernelspec": {
   "display_name": "Python [conda env:base] *",
   "language": "python",
   "name": "conda-base-py"
  },
  "language_info": {
   "codemirror_mode": {
    "name": "ipython",
    "version": 3
   },
   "file_extension": ".py",
   "mimetype": "text/x-python",
   "name": "python",
   "nbconvert_exporter": "python",
   "pygments_lexer": "ipython3",
   "version": "3.12.2"
  }
 },
 "nbformat": 4,
 "nbformat_minor": 5
}
