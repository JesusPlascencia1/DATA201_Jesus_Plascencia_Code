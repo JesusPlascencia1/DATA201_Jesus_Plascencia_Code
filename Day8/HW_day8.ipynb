{
 "cells": [
  {
   "cell_type": "markdown",
   "id": "b89ff64c-fd19-406a-9ed2-3cdf13d3b113",
   "metadata": {
    "jp-MarkdownHeadingCollapsed": true
   },
   "source": [
    "## Intermediate Data Science\n",
    "\n",
    "#### University of Redlands - DATA 201\n",
    "#### Jesus Plascencia \n",
    "#### October 3, 2026"
   ]
  },
  {
   "cell_type": "code",
   "execution_count": 2,
   "id": "8f567cff-9b0f-408d-8f06-ded0cf10a6b7",
   "metadata": {},
   "outputs": [
    {
     "name": "stderr",
     "output_type": "stream",
     "text": [
      "/opt/anaconda3/lib/python3.12/site-packages/kaleido/_sync_server.py:11: UserWarning:\n",
      "\n",
      "\n",
      "\n",
      "Warning: You have Plotly version 5.24.1, which is not compatible with this version of Kaleido (1.1.0).\n",
      "\n",
      "This means that static image generation (e.g. `fig.write_image()`) will not work.\n",
      "\n",
      "Please upgrade Plotly to version 6.1.1 or greater, or downgrade Kaleido to version 0.2.1.\n",
      "\n",
      "\n"
     ]
    }
   ],
   "source": [
    "# Some basic package imports\n",
    "import os\n",
    "import numpy as np\n",
    "import pandas as pd\n",
    "import kagglehub\n",
    "\n",
    "# Visualization packages\n",
    "import matplotlib.pyplot as plt\n",
    "import plotly.express as px\n",
    "from plotly.subplots import make_subplots\n",
    "import plotly.io as pio\n",
    "pio.renderers.defaule = 'colab'\n",
    "import seaborn as sns"
   ]
  },
  {
   "cell_type": "markdown",
   "id": "cf4ab640-6730-43f9-b030-7600f566c2dc",
   "metadata": {},
   "source": [
    "## Aggregation and Grouping - Day8 HW\n",
    "\n",
    "\n",
    "### Get the data\n",
    "\n",
    "Import the data that you find here:\n",
    "\n",
    "(Video Game Sales)[https://www.kaggle.com/datasets/gregorut/videogamesales]\n",
    "\n",
    "Start you assignment with a discussion of the data. Is there a license, how was it generated, what are the variables and units? Then do an analysis using the grouping functions we learned in class. Here are some ideas, but you are welcome to go off script.\n",
    "\n",
    "1. Cross-tabulate the number of games across platforms and genres. Sort this to see which platforms have the most overall games. Then make a dataframe that contains the cross-tabulated results for just four Platforms that have the most overall games.\n",
    "2. Focusing on the columns that contain sales data for EU,NA, and JP, create a table that shows the mean sales for of the the top for platforms. Make a plot of this data. (bar plot)\n",
    "3. Again focusing on the columns that contain sales data, create a table that shows the mean sales for each genre. Make a plot of this data.\n",
    "4. Create a table that shows the mean and max sales for each year and for each sales region (NA,EU,JP). From this data make a scatter or line plot that shows how the max sales data changed over the years.\n",
    "\n",
    "Here are some examples of my ouputs\n",
    "\n",
    "- images/CountsTop5.png\n",
    "- images/GenreAverageSales.png\n",
    "- images/MaxSalesperYear.png\n",
    "- images/PlatformAverageSales.png\n",
    "\n",
    "Your final notebooks should:\n",
    "\n",
    "- [ ] Be a completely new notebook with just the Day6 stuff in it: Read in the data, make the plots. Make sure to discuss what you see and comment on why your plots are great!\n",
    "- [ ] Be reproducible with junk code removed.\n",
    "- [ ] Have lots of language describing what you are doing, especially for questions you are asking or things that you find interesting about the data. Use complete sentences, nice headings, and good markdown formatting: https://www.markdownguide.org/cheat-sheet/\n",
    "- [ ] It should run without errors from start to finish."
   ]
  },
  {
   "cell_type": "markdown",
   "id": "5c0eeece-6295-4af3-af8f-00cb33a5dd44",
   "metadata": {
    "jp-MarkdownHeadingCollapsed": true
   },
   "source": [
    "### Importing the Data\n",
    "\n",
    "**Start you assignment with a discussion of the data. Is there a license, how was it generated, what are the variables and units?**\n",
    "\n",
    "The video game sales dataset does not have a license. This dataset contains a list fo video game with sales greater than 100,000 copies. This data was scraped vgchartz.com. The column names or variables are Rank, Name, Platform, Year, Genre, Publisher, NA_Sales, EU_Sales, JP_Sales, Other_Sales, and  Global_Sales. There are 11,493 unique values in this dataset. Name and platform are objects (aka strings) and the rest of the varialbes are integers or floats. Na, Eu, JP, Other, and global sales are all in millions.  "
   ]
  },
  {
   "cell_type": "code",
   "execution_count": 4,
   "id": "1a6f8cf0-0202-4578-b1fe-ea14bc5cb7fb",
   "metadata": {},
   "outputs": [
    {
     "name": "stdout",
     "output_type": "stream",
     "text": [
      "Path to dataset files: /Users/jesusplascencia/.cache/kagglehub/datasets/gregorut/videogamesales/versions/2\n"
     ]
    }
   ],
   "source": [
    "# Download latest version\n",
    "path = kagglehub.dataset_download(\"gregorut/videogamesales\")\n",
    "\n",
    "print(\"Path to dataset files:\", path)"
   ]
  },
  {
   "cell_type": "code",
   "execution_count": 6,
   "id": "58996152-3d8c-468f-9384-ec3575376b5c",
   "metadata": {},
   "outputs": [
    {
     "data": {
      "text/html": [
       "<div>\n",
       "<style scoped>\n",
       "    .dataframe tbody tr th:only-of-type {\n",
       "        vertical-align: middle;\n",
       "    }\n",
       "\n",
       "    .dataframe tbody tr th {\n",
       "        vertical-align: top;\n",
       "    }\n",
       "\n",
       "    .dataframe thead th {\n",
       "        text-align: right;\n",
       "    }\n",
       "</style>\n",
       "<table border=\"1\" class=\"dataframe\">\n",
       "  <thead>\n",
       "    <tr style=\"text-align: right;\">\n",
       "      <th></th>\n",
       "      <th>Rank</th>\n",
       "      <th>Name</th>\n",
       "      <th>Platform</th>\n",
       "      <th>Year</th>\n",
       "      <th>Genre</th>\n",
       "      <th>Publisher</th>\n",
       "      <th>NA_Sales</th>\n",
       "      <th>EU_Sales</th>\n",
       "      <th>JP_Sales</th>\n",
       "      <th>Other_Sales</th>\n",
       "      <th>Global_Sales</th>\n",
       "    </tr>\n",
       "  </thead>\n",
       "  <tbody>\n",
       "    <tr>\n",
       "      <th>0</th>\n",
       "      <td>1</td>\n",
       "      <td>Wii Sports</td>\n",
       "      <td>Wii</td>\n",
       "      <td>2006.0</td>\n",
       "      <td>Sports</td>\n",
       "      <td>Nintendo</td>\n",
       "      <td>41.49</td>\n",
       "      <td>29.02</td>\n",
       "      <td>3.77</td>\n",
       "      <td>8.46</td>\n",
       "      <td>82.74</td>\n",
       "    </tr>\n",
       "    <tr>\n",
       "      <th>1</th>\n",
       "      <td>2</td>\n",
       "      <td>Super Mario Bros.</td>\n",
       "      <td>NES</td>\n",
       "      <td>1985.0</td>\n",
       "      <td>Platform</td>\n",
       "      <td>Nintendo</td>\n",
       "      <td>29.08</td>\n",
       "      <td>3.58</td>\n",
       "      <td>6.81</td>\n",
       "      <td>0.77</td>\n",
       "      <td>40.24</td>\n",
       "    </tr>\n",
       "    <tr>\n",
       "      <th>2</th>\n",
       "      <td>3</td>\n",
       "      <td>Mario Kart Wii</td>\n",
       "      <td>Wii</td>\n",
       "      <td>2008.0</td>\n",
       "      <td>Racing</td>\n",
       "      <td>Nintendo</td>\n",
       "      <td>15.85</td>\n",
       "      <td>12.88</td>\n",
       "      <td>3.79</td>\n",
       "      <td>3.31</td>\n",
       "      <td>35.82</td>\n",
       "    </tr>\n",
       "    <tr>\n",
       "      <th>3</th>\n",
       "      <td>4</td>\n",
       "      <td>Wii Sports Resort</td>\n",
       "      <td>Wii</td>\n",
       "      <td>2009.0</td>\n",
       "      <td>Sports</td>\n",
       "      <td>Nintendo</td>\n",
       "      <td>15.75</td>\n",
       "      <td>11.01</td>\n",
       "      <td>3.28</td>\n",
       "      <td>2.96</td>\n",
       "      <td>33.00</td>\n",
       "    </tr>\n",
       "    <tr>\n",
       "      <th>4</th>\n",
       "      <td>5</td>\n",
       "      <td>Pokemon Red/Pokemon Blue</td>\n",
       "      <td>GB</td>\n",
       "      <td>1996.0</td>\n",
       "      <td>Role-Playing</td>\n",
       "      <td>Nintendo</td>\n",
       "      <td>11.27</td>\n",
       "      <td>8.89</td>\n",
       "      <td>10.22</td>\n",
       "      <td>1.00</td>\n",
       "      <td>31.37</td>\n",
       "    </tr>\n",
       "  </tbody>\n",
       "</table>\n",
       "</div>"
      ],
      "text/plain": [
       "   Rank                      Name Platform    Year         Genre Publisher  \\\n",
       "0     1                Wii Sports      Wii  2006.0        Sports  Nintendo   \n",
       "1     2         Super Mario Bros.      NES  1985.0      Platform  Nintendo   \n",
       "2     3            Mario Kart Wii      Wii  2008.0        Racing  Nintendo   \n",
       "3     4         Wii Sports Resort      Wii  2009.0        Sports  Nintendo   \n",
       "4     5  Pokemon Red/Pokemon Blue       GB  1996.0  Role-Playing  Nintendo   \n",
       "\n",
       "   NA_Sales  EU_Sales  JP_Sales  Other_Sales  Global_Sales  \n",
       "0     41.49     29.02      3.77         8.46         82.74  \n",
       "1     29.08      3.58      6.81         0.77         40.24  \n",
       "2     15.85     12.88      3.79         3.31         35.82  \n",
       "3     15.75     11.01      3.28         2.96         33.00  \n",
       "4     11.27      8.89     10.22         1.00         31.37  "
      ]
     },
     "execution_count": 6,
     "metadata": {},
     "output_type": "execute_result"
    }
   ],
   "source": [
    "path1 = '/Users/jesusplascencia/.cache/kagglehub/datasets/gregorut/videogamesales/versions/2/'\n",
    "file = path1+'/'+os.listdir(path)[0]\n",
    "df = pd.read_csv(file)\n",
    "df.head()"
   ]
  },
  {
   "cell_type": "code",
   "execution_count": 8,
   "id": "2bfc1bf6-d605-43ce-8521-60ff9a603541",
   "metadata": {},
   "outputs": [
    {
     "name": "stdout",
     "output_type": "stream",
     "text": [
      "['Rank', 'Name', 'Platform', 'Year', 'Genre', 'Publisher', 'NA_Sales', 'EU_Sales', 'JP_Sales', 'Other_Sales', 'Global_Sales']\n"
     ]
    }
   ],
   "source": [
    "#\n",
    "print(list(df.columns))"
   ]
  },
  {
   "cell_type": "code",
   "execution_count": 10,
   "id": "fcfbc6eb-4aef-4851-ade1-280176d7056f",
   "metadata": {},
   "outputs": [
    {
     "data": {
      "text/plain": [
       "Rank              int64\n",
       "Name             object\n",
       "Platform         object\n",
       "Year            float64\n",
       "Genre            object\n",
       "Publisher        object\n",
       "NA_Sales        float64\n",
       "EU_Sales        float64\n",
       "JP_Sales        float64\n",
       "Other_Sales     float64\n",
       "Global_Sales    float64\n",
       "dtype: object"
      ]
     },
     "execution_count": 10,
     "metadata": {},
     "output_type": "execute_result"
    }
   ],
   "source": [
    "df.dtypes"
   ]
  },
  {
   "cell_type": "code",
   "execution_count": 12,
   "id": "337ba508-29d3-4d90-a2e1-f05bd707d6d4",
   "metadata": {},
   "outputs": [
    {
     "data": {
      "text/plain": [
       "<bound method DataFrame.info of         Rank                                              Name Platform  \\\n",
       "0          1                                        Wii Sports      Wii   \n",
       "1          2                                 Super Mario Bros.      NES   \n",
       "2          3                                    Mario Kart Wii      Wii   \n",
       "3          4                                 Wii Sports Resort      Wii   \n",
       "4          5                          Pokemon Red/Pokemon Blue       GB   \n",
       "...      ...                                               ...      ...   \n",
       "16593  16596                Woody Woodpecker in Crazy Castle 5      GBA   \n",
       "16594  16597                     Men in Black II: Alien Escape       GC   \n",
       "16595  16598  SCORE International Baja 1000: The Official Game      PS2   \n",
       "16596  16599                                        Know How 2       DS   \n",
       "16597  16600                                  Spirits & Spells      GBA   \n",
       "\n",
       "         Year         Genre   Publisher  NA_Sales  EU_Sales  JP_Sales  \\\n",
       "0      2006.0        Sports    Nintendo     41.49     29.02      3.77   \n",
       "1      1985.0      Platform    Nintendo     29.08      3.58      6.81   \n",
       "2      2008.0        Racing    Nintendo     15.85     12.88      3.79   \n",
       "3      2009.0        Sports    Nintendo     15.75     11.01      3.28   \n",
       "4      1996.0  Role-Playing    Nintendo     11.27      8.89     10.22   \n",
       "...       ...           ...         ...       ...       ...       ...   \n",
       "16593  2002.0      Platform       Kemco      0.01      0.00      0.00   \n",
       "16594  2003.0       Shooter  Infogrames      0.01      0.00      0.00   \n",
       "16595  2008.0        Racing  Activision      0.00      0.00      0.00   \n",
       "16596  2010.0        Puzzle    7G//AMES      0.00      0.01      0.00   \n",
       "16597  2003.0      Platform     Wanadoo      0.01      0.00      0.00   \n",
       "\n",
       "       Other_Sales  Global_Sales  \n",
       "0             8.46         82.74  \n",
       "1             0.77         40.24  \n",
       "2             3.31         35.82  \n",
       "3             2.96         33.00  \n",
       "4             1.00         31.37  \n",
       "...            ...           ...  \n",
       "16593         0.00          0.01  \n",
       "16594         0.00          0.01  \n",
       "16595         0.00          0.01  \n",
       "16596         0.00          0.01  \n",
       "16597         0.00          0.01  \n",
       "\n",
       "[16598 rows x 11 columns]>"
      ]
     },
     "execution_count": 12,
     "metadata": {},
     "output_type": "execute_result"
    }
   ],
   "source": [
    "df.info"
   ]
  },
  {
   "cell_type": "markdown",
   "id": "20d7f4f7-9727-4bcd-8a73-6e1935fb4fec",
   "metadata": {
    "jp-MarkdownHeadingCollapsed": true
   },
   "source": [
    "### 1. Cross-tabulate the number of games across platforms and genres. Sort this to see which platforms have the most overall games. Then make a dataframe that contains the cross-tabulated results for just four Platforms that have the most overall games.\n",
    "\n",
    "Using the Crosstab function we were able to see how many games exist per genre and by platform. We using the .sort function along with .sum to figure out which platform has the highest quantiy of games. We then proceeded to extract the top 4 platforms using .head(4). From here, we filter the data to create a new datarfame. We find that DS, PS2, PS3, and Wii had the highest numer of games. "
   ]
  },
  {
   "cell_type": "code",
   "execution_count": 14,
   "id": "2a888b21-7f86-48e0-8c75-de99b9ebb194",
   "metadata": {},
   "outputs": [
    {
     "data": {
      "text/html": [
       "<div>\n",
       "<style scoped>\n",
       "    .dataframe tbody tr th:only-of-type {\n",
       "        vertical-align: middle;\n",
       "    }\n",
       "\n",
       "    .dataframe tbody tr th {\n",
       "        vertical-align: top;\n",
       "    }\n",
       "\n",
       "    .dataframe thead th {\n",
       "        text-align: right;\n",
       "    }\n",
       "</style>\n",
       "<table border=\"1\" class=\"dataframe\">\n",
       "  <thead>\n",
       "    <tr style=\"text-align: right;\">\n",
       "      <th>Platform</th>\n",
       "      <th>DS</th>\n",
       "      <th>PS2</th>\n",
       "      <th>PS3</th>\n",
       "      <th>Wii</th>\n",
       "    </tr>\n",
       "    <tr>\n",
       "      <th>Genre</th>\n",
       "      <th></th>\n",
       "      <th></th>\n",
       "      <th></th>\n",
       "      <th></th>\n",
       "    </tr>\n",
       "  </thead>\n",
       "  <tbody>\n",
       "    <tr>\n",
       "      <th>Action</th>\n",
       "      <td>343</td>\n",
       "      <td>348</td>\n",
       "      <td>380</td>\n",
       "      <td>238</td>\n",
       "    </tr>\n",
       "    <tr>\n",
       "      <th>Adventure</th>\n",
       "      <td>240</td>\n",
       "      <td>196</td>\n",
       "      <td>74</td>\n",
       "      <td>84</td>\n",
       "    </tr>\n",
       "    <tr>\n",
       "      <th>Fighting</th>\n",
       "      <td>36</td>\n",
       "      <td>150</td>\n",
       "      <td>76</td>\n",
       "      <td>42</td>\n",
       "    </tr>\n",
       "    <tr>\n",
       "      <th>Misc</th>\n",
       "      <td>393</td>\n",
       "      <td>222</td>\n",
       "      <td>124</td>\n",
       "      <td>280</td>\n",
       "    </tr>\n",
       "    <tr>\n",
       "      <th>Platform</th>\n",
       "      <td>92</td>\n",
       "      <td>103</td>\n",
       "      <td>37</td>\n",
       "      <td>58</td>\n",
       "    </tr>\n",
       "    <tr>\n",
       "      <th>Puzzle</th>\n",
       "      <td>238</td>\n",
       "      <td>18</td>\n",
       "      <td>3</td>\n",
       "      <td>55</td>\n",
       "    </tr>\n",
       "    <tr>\n",
       "      <th>Racing</th>\n",
       "      <td>67</td>\n",
       "      <td>216</td>\n",
       "      <td>92</td>\n",
       "      <td>94</td>\n",
       "    </tr>\n",
       "    <tr>\n",
       "      <th>Role-Playing</th>\n",
       "      <td>200</td>\n",
       "      <td>187</td>\n",
       "      <td>119</td>\n",
       "      <td>35</td>\n",
       "    </tr>\n",
       "    <tr>\n",
       "      <th>Shooter</th>\n",
       "      <td>42</td>\n",
       "      <td>160</td>\n",
       "      <td>156</td>\n",
       "      <td>66</td>\n",
       "    </tr>\n",
       "    <tr>\n",
       "      <th>Simulation</th>\n",
       "      <td>285</td>\n",
       "      <td>90</td>\n",
       "      <td>31</td>\n",
       "      <td>87</td>\n",
       "    </tr>\n",
       "    <tr>\n",
       "      <th>Sports</th>\n",
       "      <td>148</td>\n",
       "      <td>400</td>\n",
       "      <td>213</td>\n",
       "      <td>261</td>\n",
       "    </tr>\n",
       "    <tr>\n",
       "      <th>Strategy</th>\n",
       "      <td>79</td>\n",
       "      <td>71</td>\n",
       "      <td>24</td>\n",
       "      <td>25</td>\n",
       "    </tr>\n",
       "  </tbody>\n",
       "</table>\n",
       "</div>"
      ],
      "text/plain": [
       "Platform       DS  PS2  PS3  Wii\n",
       "Genre                           \n",
       "Action        343  348  380  238\n",
       "Adventure     240  196   74   84\n",
       "Fighting       36  150   76   42\n",
       "Misc          393  222  124  280\n",
       "Platform       92  103   37   58\n",
       "Puzzle        238   18    3   55\n",
       "Racing         67  216   92   94\n",
       "Role-Playing  200  187  119   35\n",
       "Shooter        42  160  156   66\n",
       "Simulation    285   90   31   87\n",
       "Sports        148  400  213  261\n",
       "Strategy       79   71   24   25"
      ]
     },
     "metadata": {},
     "output_type": "display_data"
    }
   ],
   "source": [
    "cdata = pd.crosstab(df[\"Genre\"], df[\"Platform\"])\n",
    "\n",
    "overall=cdata.sum().sort_values(ascending=False)\n",
    "overall_four=cdata.sum().sort_values(ascending=False).head(4).index\n",
    "\n",
    "top_four = cdata[overall_four]\n",
    "display(top_four)"
   ]
  },
  {
   "cell_type": "markdown",
   "id": "896ebe56-366c-42d0-a97c-a008df1934b8",
   "metadata": {
    "jp-MarkdownHeadingCollapsed": true
   },
   "source": [
    "### 2. Focusing on the columns that contain sales data for EU,NA, and JP, create a table that shows the mean sales for of the the top for platforms. Make a plot of this data. (bar plot)\n",
    "\n",
    "After doing a bar plot of sales data for the top four platforms the results are somewhat unexpected. I was not aware how dominant the top platforms are to hold their sales. NA_sales on average are much higher than their compettiion. The only platform where NA_sales seems to have competition is for the PS3. Regardless, NA_sales is usually the top performer followed by EU_sales. JP_sales only competes for the DS, but in all other aspects NA and EU Dominante. This can all be seem in the bar plot. "
   ]
  },
  {
   "cell_type": "code",
   "execution_count": 16,
   "id": "8236b55c-177b-4a29-855e-38351117456b",
   "metadata": {},
   "outputs": [
    {
     "data": {
      "text/html": [
       "<div>\n",
       "<style scoped>\n",
       "    .dataframe tbody tr th:only-of-type {\n",
       "        vertical-align: middle;\n",
       "    }\n",
       "\n",
       "    .dataframe tbody tr th {\n",
       "        vertical-align: top;\n",
       "    }\n",
       "\n",
       "    .dataframe thead th {\n",
       "        text-align: right;\n",
       "    }\n",
       "</style>\n",
       "<table border=\"1\" class=\"dataframe\">\n",
       "  <thead>\n",
       "    <tr style=\"text-align: right;\">\n",
       "      <th></th>\n",
       "      <th>NA_Sales</th>\n",
       "      <th>EU_Sales</th>\n",
       "      <th>JP_Sales</th>\n",
       "    </tr>\n",
       "    <tr>\n",
       "      <th>Platform</th>\n",
       "      <th></th>\n",
       "      <th></th>\n",
       "      <th></th>\n",
       "    </tr>\n",
       "  </thead>\n",
       "  <tbody>\n",
       "    <tr>\n",
       "      <th>DS</th>\n",
       "      <td>0.180633</td>\n",
       "      <td>0.089991</td>\n",
       "      <td>0.081170</td>\n",
       "    </tr>\n",
       "    <tr>\n",
       "      <th>PS2</th>\n",
       "      <td>0.270171</td>\n",
       "      <td>0.157006</td>\n",
       "      <td>0.064415</td>\n",
       "    </tr>\n",
       "    <tr>\n",
       "      <th>PS3</th>\n",
       "      <td>0.295154</td>\n",
       "      <td>0.258623</td>\n",
       "      <td>0.060188</td>\n",
       "    </tr>\n",
       "    <tr>\n",
       "      <th>Wii</th>\n",
       "      <td>0.383177</td>\n",
       "      <td>0.202551</td>\n",
       "      <td>0.052340</td>\n",
       "    </tr>\n",
       "  </tbody>\n",
       "</table>\n",
       "</div>"
      ],
      "text/plain": [
       "          NA_Sales  EU_Sales  JP_Sales\n",
       "Platform                              \n",
       "DS        0.180633  0.089991  0.081170\n",
       "PS2       0.270171  0.157006  0.064415\n",
       "PS3       0.295154  0.258623  0.060188\n",
       "Wii       0.383177  0.202551  0.052340"
      ]
     },
     "metadata": {},
     "output_type": "display_data"
    }
   ],
   "source": [
    "df_sales = df[df[\"Platform\"].isin(overall_four)]\n",
    "\n",
    "#calculate the mean of the column in platform \n",
    "mean_sales = df_sales.groupby(\"Platform\")[[\"NA_Sales\", \"EU_Sales\", \"JP_Sales\"]].mean()\n",
    "display(mean_sales)"
   ]
  },
  {
   "cell_type": "code",
   "execution_count": 18,
   "id": "8a0c5e57-b820-4390-b26f-d3bb22fe7fbf",
   "metadata": {},
   "outputs": [
    {
     "data": {
      "text/plain": [
       "<Axes: xlabel='Platform'>"
      ]
     },
     "execution_count": 18,
     "metadata": {},
     "output_type": "execute_result"
    },
    {
     "data": {
      "image/png": "[encoded data removed]",
      "text/plain": [
       "<Figure size 640x480 with 1 Axes>"
      ]
     },
     "metadata": {},
     "output_type": "display_data"
    }
   ],
   "source": [
    "mean_sales.plot.bar()"
   ]
  },
  {
   "cell_type": "markdown",
   "id": "7453a908-8742-46ee-b00e-4479f2297893",
   "metadata": {
    "jp-MarkdownHeadingCollapsed": true
   },
   "source": [
    "### 3. Again focusing on the columns that contain sales data, create a table that shows the mean sales for each genre. Make a plot of this data.\n",
    "\n",
    "Using the main df to create a table that shows the mean sales for each genre helps understand which players are really dominant in the same. It appears that on average, NA_sales dominate in evey genre besides role playing. Role playing seems to be dominated by JP_sales. Otherwise, it is clear that NA is the dominant player, followe by EU then JP. Its worth mentioning that JP seems to be a much closer competitor to the second most dominant player EU. "
   ]
  },
  {
   "cell_type": "code",
   "execution_count": 20,
   "id": "9d1b5622-ea37-4083-b909-6dd72eaa6544",
   "metadata": {},
   "outputs": [
    {
     "data": {
      "text/html": [
       "<div>\n",
       "<style scoped>\n",
       "    .dataframe tbody tr th:only-of-type {\n",
       "        vertical-align: middle;\n",
       "    }\n",
       "\n",
       "    .dataframe tbody tr th {\n",
       "        vertical-align: top;\n",
       "    }\n",
       "\n",
       "    .dataframe thead th {\n",
       "        text-align: right;\n",
       "    }\n",
       "</style>\n",
       "<table border=\"1\" class=\"dataframe\">\n",
       "  <thead>\n",
       "    <tr style=\"text-align: right;\">\n",
       "      <th></th>\n",
       "      <th>NA_Sales</th>\n",
       "      <th>EU_Sales</th>\n",
       "      <th>JP_Sales</th>\n",
       "    </tr>\n",
       "    <tr>\n",
       "      <th>Genre</th>\n",
       "      <th></th>\n",
       "      <th></th>\n",
       "      <th></th>\n",
       "    </tr>\n",
       "  </thead>\n",
       "  <tbody>\n",
       "    <tr>\n",
       "      <th>Action</th>\n",
       "      <td>0.264726</td>\n",
       "      <td>0.158323</td>\n",
       "      <td>0.048236</td>\n",
       "    </tr>\n",
       "    <tr>\n",
       "      <th>Adventure</th>\n",
       "      <td>0.082271</td>\n",
       "      <td>0.049868</td>\n",
       "      <td>0.040490</td>\n",
       "    </tr>\n",
       "    <tr>\n",
       "      <th>Fighting</th>\n",
       "      <td>0.263667</td>\n",
       "      <td>0.119481</td>\n",
       "      <td>0.103007</td>\n",
       "    </tr>\n",
       "    <tr>\n",
       "      <th>Misc</th>\n",
       "      <td>0.235906</td>\n",
       "      <td>0.124198</td>\n",
       "      <td>0.061967</td>\n",
       "    </tr>\n",
       "    <tr>\n",
       "      <th>Platform</th>\n",
       "      <td>0.504571</td>\n",
       "      <td>0.227573</td>\n",
       "      <td>0.147596</td>\n",
       "    </tr>\n",
       "    <tr>\n",
       "      <th>Puzzle</th>\n",
       "      <td>0.212680</td>\n",
       "      <td>0.087251</td>\n",
       "      <td>0.098471</td>\n",
       "    </tr>\n",
       "    <tr>\n",
       "      <th>Racing</th>\n",
       "      <td>0.287766</td>\n",
       "      <td>0.190865</td>\n",
       "      <td>0.045388</td>\n",
       "    </tr>\n",
       "    <tr>\n",
       "      <th>Role-Playing</th>\n",
       "      <td>0.219946</td>\n",
       "      <td>0.126384</td>\n",
       "      <td>0.236767</td>\n",
       "    </tr>\n",
       "    <tr>\n",
       "      <th>Shooter</th>\n",
       "      <td>0.444733</td>\n",
       "      <td>0.239137</td>\n",
       "      <td>0.029221</td>\n",
       "    </tr>\n",
       "    <tr>\n",
       "      <th>Simulation</th>\n",
       "      <td>0.211430</td>\n",
       "      <td>0.130773</td>\n",
       "      <td>0.073472</td>\n",
       "    </tr>\n",
       "    <tr>\n",
       "      <th>Sports</th>\n",
       "      <td>0.291283</td>\n",
       "      <td>0.160635</td>\n",
       "      <td>0.057702</td>\n",
       "    </tr>\n",
       "    <tr>\n",
       "      <th>Strategy</th>\n",
       "      <td>0.100881</td>\n",
       "      <td>0.066579</td>\n",
       "      <td>0.072628</td>\n",
       "    </tr>\n",
       "  </tbody>\n",
       "</table>\n",
       "</div>"
      ],
      "text/plain": [
       "              NA_Sales  EU_Sales  JP_Sales\n",
       "Genre                                     \n",
       "Action        0.264726  0.158323  0.048236\n",
       "Adventure     0.082271  0.049868  0.040490\n",
       "Fighting      0.263667  0.119481  0.103007\n",
       "Misc          0.235906  0.124198  0.061967\n",
       "Platform      0.504571  0.227573  0.147596\n",
       "Puzzle        0.212680  0.087251  0.098471\n",
       "Racing        0.287766  0.190865  0.045388\n",
       "Role-Playing  0.219946  0.126384  0.236767\n",
       "Shooter       0.444733  0.239137  0.029221\n",
       "Simulation    0.211430  0.130773  0.073472\n",
       "Sports        0.291283  0.160635  0.057702\n",
       "Strategy      0.100881  0.066579  0.072628"
      ]
     },
     "metadata": {},
     "output_type": "display_data"
    }
   ],
   "source": [
    "mean_sales_genre = df.groupby(\"Genre\")[[\"NA_Sales\", \"EU_Sales\", \"JP_Sales\"]].mean()\n",
    "display(mean_sales_genre)"
   ]
  },
  {
   "cell_type": "code",
   "execution_count": 22,
   "id": "58342fe5-6201-4d14-b3ab-370ac953629b",
   "metadata": {},
   "outputs": [
    {
     "data": {
      "text/plain": [
       "<Axes: xlabel='Genre'>"
      ]
     },
     "execution_count": 22,
     "metadata": {},
     "output_type": "execute_result"
    },
    {
     "data": {
      "image/png": "[encoded data removed]",
      "text/plain": [
       "<Figure size 640x480 with 1 Axes>"
      ]
     },
     "metadata": {},
     "output_type": "display_data"
    }
   ],
   "source": [
    "mean_sales_genre.plot.bar()"
   ]
  },
  {
   "cell_type": "markdown",
   "id": "237bba89-d94a-4f72-8a69-6bb912c156c0",
   "metadata": {
    "jp-MarkdownHeadingCollapsed": true
   },
   "source": [
    "### 4. Create a table that shows the mean and max sales for each year and for each sales region (NA,EU,JP). From this data make a scatter or line plot that shows how the max sales data changed over the years.\n",
    "\n",
    "We can see that North Americas's mean sales were greatest in 1989, then dropped sharply after 1990s. EU had a similar trend to NA but they experienced a sharp decline after 1992. EU also experienced a sharp decline in 2014. Japans mean peaked in 1990 and then dropped sharply after that until 1995 where it stabailzied at a mean of 0.1. NA had a much higher mean sales than JP and EU. JP's peak was also much higher than EU's. NA's max sale was highest at around 2005, Japans max sales were highest in 1996, and EU's max sale peaked at 2006. It seems as if 2006 was a great year for EU and NA, but not so much for Japan. Besides these peaks, NA's max sales per year tend to be approximately 10, EU is below 3, and Japan is also around 3."
   ]
  },
  {
   "cell_type": "code",
   "execution_count": 24,
   "id": "19c1669c-498f-4e2b-8a2c-336b9c617b84",
   "metadata": {},
   "outputs": [
    {
     "data": {
      "text/html": [
       "<div>\n",
       "<style scoped>\n",
       "    .dataframe tbody tr th:only-of-type {\n",
       "        vertical-align: middle;\n",
       "    }\n",
       "\n",
       "    .dataframe tbody tr th {\n",
       "        vertical-align: top;\n",
       "    }\n",
       "\n",
       "    .dataframe thead th {\n",
       "        text-align: right;\n",
       "    }\n",
       "</style>\n",
       "<table border=\"1\" class=\"dataframe\">\n",
       "  <thead>\n",
       "    <tr style=\"text-align: right;\">\n",
       "      <th></th>\n",
       "      <th>NA_Sales_mean</th>\n",
       "      <th>EU_Sales_mean</th>\n",
       "      <th>JP_Sales_mean</th>\n",
       "      <th>NA_Sales_max</th>\n",
       "      <th>EU_Sales_max</th>\n",
       "      <th>JP_Sales_max</th>\n",
       "    </tr>\n",
       "    <tr>\n",
       "      <th>Year</th>\n",
       "      <th></th>\n",
       "      <th></th>\n",
       "      <th></th>\n",
       "      <th></th>\n",
       "      <th></th>\n",
       "      <th></th>\n",
       "    </tr>\n",
       "  </thead>\n",
       "  <tbody>\n",
       "    <tr>\n",
       "      <th>1980.0</th>\n",
       "      <td>1.176667</td>\n",
       "      <td>0.074444</td>\n",
       "      <td>0.000000</td>\n",
       "      <td>4.00</td>\n",
       "      <td>0.26</td>\n",
       "      <td>0.00</td>\n",
       "    </tr>\n",
       "    <tr>\n",
       "      <th>1981.0</th>\n",
       "      <td>0.726087</td>\n",
       "      <td>0.042609</td>\n",
       "      <td>0.000000</td>\n",
       "      <td>4.21</td>\n",
       "      <td>0.24</td>\n",
       "      <td>0.00</td>\n",
       "    </tr>\n",
       "    <tr>\n",
       "      <th>1982.0</th>\n",
       "      <td>0.747778</td>\n",
       "      <td>0.045833</td>\n",
       "      <td>0.000000</td>\n",
       "      <td>7.28</td>\n",
       "      <td>0.45</td>\n",
       "      <td>0.00</td>\n",
       "    </tr>\n",
       "    <tr>\n",
       "      <th>1983.0</th>\n",
       "      <td>0.456471</td>\n",
       "      <td>0.047059</td>\n",
       "      <td>0.476471</td>\n",
       "      <td>1.22</td>\n",
       "      <td>0.12</td>\n",
       "      <td>2.35</td>\n",
       "    </tr>\n",
       "    <tr>\n",
       "      <th>1984.0</th>\n",
       "      <td>2.377143</td>\n",
       "      <td>0.150000</td>\n",
       "      <td>1.019286</td>\n",
       "      <td>26.93</td>\n",
       "      <td>0.63</td>\n",
       "      <td>2.46</td>\n",
       "    </tr>\n",
       "  </tbody>\n",
       "</table>\n",
       "</div>"
      ],
      "text/plain": [
       "        NA_Sales_mean  EU_Sales_mean  JP_Sales_mean  NA_Sales_max  \\\n",
       "Year                                                                \n",
       "1980.0       1.176667       0.074444       0.000000          4.00   \n",
       "1981.0       0.726087       0.042609       0.000000          4.21   \n",
       "1982.0       0.747778       0.045833       0.000000          7.28   \n",
       "1983.0       0.456471       0.047059       0.476471          1.22   \n",
       "1984.0       2.377143       0.150000       1.019286         26.93   \n",
       "\n",
       "        EU_Sales_max  JP_Sales_max  \n",
       "Year                                \n",
       "1980.0          0.26          0.00  \n",
       "1981.0          0.24          0.00  \n",
       "1982.0          0.45          0.00  \n",
       "1983.0          0.12          2.35  \n",
       "1984.0          0.63          2.46  "
      ]
     },
     "metadata": {},
     "output_type": "display_data"
    }
   ],
   "source": [
    "mean_by_year = df.groupby(\"Year\")[[\"NA_Sales\", \"EU_Sales\", \"JP_Sales\"]].mean()\n",
    "max_by_year = df.groupby(\"Year\")[[\"NA_Sales\", \"EU_Sales\", \"JP_Sales\"]].max()\n",
    "\n",
    "merged_df = pd.merge(mean_by_year, max_by_year, on='Year', how='inner')\n",
    "\n",
    "merged_df.rename(columns = {'NA_Sales_x' :'NA_Sales_mean',\n",
    "                           'EU_Sales_x' :'EU_Sales_mean',\n",
    "                            'JP_Sales_x' :'JP_Sales_mean',\n",
    "                            'NA_Sales_y' :'NA_Sales_max',\n",
    "                            'EU_Sales_y' :'EU_Sales_max',\n",
    "                            'JP_Sales_y' :'JP_Sales_max'},\n",
    "                            inplace = True)\n",
    "\n",
    "display(merged_df.head(5))"
   ]
  },
  {
   "cell_type": "code",
   "execution_count": 26,
   "id": "f5eb0b9b-ce06-4c2b-8392-3c08c2a091ad",
   "metadata": {},
   "outputs": [
    {
     "data": {
      "image/png": "[encoded data removed]",
      "text/plain": [
       "<Figure size 1500x700 with 6 Axes>"
      ]
     },
     "metadata": {},
     "output_type": "display_data"
    }
   ],
   "source": [
    "x = merged_df.index \n",
    "y = merged_df[['NA_Sales_mean', 'EU_Sales_mean']]\n",
    "\n",
    "fig = plt.figure(figsize = (15,7))\n",
    "\n",
    "ax1 = fig.add_subplot(3,2,1)\n",
    "ax2 = fig.add_subplot(3,2,2)\n",
    "ax3 = fig.add_subplot(3,2,3)\n",
    "ax4 = fig.add_subplot(3,2,4)\n",
    "ax5 = fig.add_subplot(3,2,5)\n",
    "ax6 = fig.add_subplot(3,2,6)\n",
    "\n",
    "\n",
    "\n",
    "\n",
    "ax1.scatter(x,merged_df['NA_Sales_mean'],color='b',marker='.',alpha=.6)\n",
    "ax2.scatter(x,merged_df['EU_Sales_mean'],color='r',marker='.',alpha=.6)\n",
    "ax3.scatter(x,merged_df['JP_Sales_mean'],color='g',marker='.',alpha=.6)\n",
    "ax4.scatter(x,merged_df['NA_Sales_max'],color='b',marker='.',alpha=.6)\n",
    "ax5.scatter(x,merged_df['EU_Sales_max'],color='r',marker='.',alpha=.7)\n",
    "ax6.scatter(x,merged_df['JP_Sales_max'],color='g',marker='.',alpha=.7)\n",
    "\n",
    "ax1.set_xlabel(\"Year\")\n",
    "ax2.set_xlabel(\"Year\")\n",
    "ax3.set_xlabel(\"Year\")\n",
    "ax4.set_xlabel(\"Year\")\n",
    "ax5.set_xlabel(\"Year\")\n",
    "ax6.set_xlabel(\"Year\")\n",
    "\n",
    "\n",
    "ax1.set_ylabel(\"NA Sales (mean)\")\n",
    "ax2.set_ylabel(\"EU Sales (mean)\")\n",
    "ax3.set_ylabel(\"JP Sales (mean)\")\n",
    "ax4.set_ylabel(\"NA Sales (Max)\")\n",
    "ax5.set_ylabel(\"EU Sales (Max)\")\n",
    "ax6.set_ylabel(\"JP Sales (Max)\")\n",
    "\n",
    "\n",
    "\n",
    "plt.tight_layout()\n",
    "plt.show()"
   ]
  }
 ],
 "metadata": {
  "kernelspec": {
   "display_name": "Python [conda env:base] *",
   "language": "python",
   "name": "conda-base-py"
  },
  "language_info": {
   "codemirror_mode": {
    "name": "ipython",
    "version": 3
   },
   "file_extension": ".py",
   "mimetype": "text/x-python",
   "name": "python",
   "nbconvert_exporter": "python",
   "pygments_lexer": "ipython3",
   "version": "3.12.2"
  }
 },
 "nbformat": 4,
 "nbformat_minor": 5
}
