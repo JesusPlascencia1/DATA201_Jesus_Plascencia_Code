{
 "cells": [
  {
   "cell_type": "markdown",
   "id": "3ee4f51c-e4db-4665-a559-c701fdbf47b5",
   "metadata": {},
   "source": [
    "## Intermediate Data Science\n",
    "\n",
    "#### University of Redlands - DATA 201\n",
    "#### Prof: Joanna Bieri [joanna_bieri@redlands.edu](mailto:joanna_bieri@redlands.edu)\n",
    "#### [Class Website: data201.joannabieri.com](https://joannabieri.com/data201_intermediate.html)"
   ]
  },
  {
   "cell_type": "code",
   "execution_count": 2,
   "id": "7e9fdce6-e271-45a8-b39d-2cbb635d4a12",
   "metadata": {},
   "outputs": [],
   "source": [
    "# Some basic package imports\n",
    "import os\n",
    "import numpy as np\n",
    "import pandas as pd\n",
    "\n",
    "import matplotlib.pyplot as plt\n",
    "import plotly.express as px\n",
    "from plotly.subplots import make_subplots\n",
    "import plotly.io as pio\n",
    "pio.renderers.defaule = 'colab'\n"
   ]
  },
  {
   "cell_type": "code",
   "execution_count": 4,
   "id": "56748c46-4a31-4738-b017-f60dfb91579d",
   "metadata": {},
   "outputs": [
    {
     "name": "stdout",
     "output_type": "stream",
     "text": [
      "Error while loading conda entry point: conda-libmamba-solver (dlopen(/opt/anaconda3/lib/python3.12/site-packages/libmambapy/bindings.cpython-312-darwin.so, 0x0002): Library not loaded: @rpath/libarchive.20.dylib\n",
      "  Referenced from: <496442DC-0EDE-3705-A2B5-401A4FC0D733> /opt/anaconda3/lib/libmamba.2.0.0.dylib\n",
      "  Reason: tried: '/opt/anaconda3/lib/libarchive.20.dylib' (no such file), '/opt/anaconda3/lib/python3.12/site-packages/libmambapy/../../../libarchive.20.dylib' (no such file), '/opt/anaconda3/lib/python3.12/site-packages/libmambapy/../../../libarchive.20.dylib' (no such file), '/opt/anaconda3/bin/../lib/libarchive.20.dylib' (no such file), '/opt/anaconda3/bin/../lib/libarchive.20.dylib' (no such file), '/usr/local/lib/libarchive.20.dylib' (no such file), '/usr/lib/libarchive.20.dylib' (no such file, not in dyld cache))\n",
      "\n",
      "CondaValueError: You have chosen a non-default solver backend (libmamba) but it was not recognized. Choose one of: classic\n",
      "\n",
      "Error while loading conda entry point: conda-libmamba-solver (dlopen(/opt/anaconda3/lib/python3.12/site-packages/libmambapy/bindings.cpython-312-darwin.so, 0x0002): Library not loaded: @rpath/libarchive.20.dylib\n",
      "  Referenced from: <496442DC-0EDE-3705-A2B5-401A4FC0D733> /opt/anaconda3/lib/libmamba.2.0.0.dylib\n",
      "  Reason: tried: '/opt/anaconda3/lib/libarchive.20.dylib' (no such file), '/opt/anaconda3/lib/python3.12/site-packages/libmambapy/../../../libarchive.20.dylib' (no such file), '/opt/anaconda3/lib/python3.12/site-packages/libmambapy/../../../libarchive.20.dylib' (no such file), '/opt/anaconda3/bin/../lib/libarchive.20.dylib' (no such file), '/opt/anaconda3/bin/../lib/libarchive.20.dylib' (no such file), '/usr/local/lib/libarchive.20.dylib' (no such file), '/usr/lib/libarchive.20.dylib' (no such file, not in dyld cache))\n",
      "\n",
      "CondaValueError: You have chosen a non-default solver backend (libmamba) but it was not recognized. Choose one of: classic\n",
      "\n",
      "Error while loading conda entry point: conda-libmamba-solver (dlopen(/opt/anaconda3/lib/python3.12/site-packages/libmambapy/bindings.cpython-312-darwin.so, 0x0002): Library not loaded: @rpath/libarchive.20.dylib\n",
      "  Referenced from: <496442DC-0EDE-3705-A2B5-401A4FC0D733> /opt/anaconda3/lib/libmamba.2.0.0.dylib\n",
      "  Reason: tried: '/opt/anaconda3/lib/libarchive.20.dylib' (no such file), '/opt/anaconda3/lib/python3.12/site-packages/libmambapy/../../../libarchive.20.dylib' (no such file), '/opt/anaconda3/lib/python3.12/site-packages/libmambapy/../../../libarchive.20.dylib' (no such file), '/opt/anaconda3/bin/../lib/libarchive.20.dylib' (no such file), '/opt/anaconda3/bin/../lib/libarchive.20.dylib' (no such file), '/usr/local/lib/libarchive.20.dylib' (no such file), '/usr/lib/libarchive.20.dylib' (no such file, not in dyld cache))\n",
      "\n",
      "CondaValueError: You have chosen a non-default solver backend (libmamba) but it was not recognized. Choose one of: classic\n",
      "\n"
     ]
    }
   ],
   "source": [
    "# Make sure that you load the new packages from lecture if needed\n",
    "!conda install -y lxml beautifulsoup4 html5lib\n",
    "!conda install -y openpyxl xlrd\n",
    "!conda install -y requests"
   ]
  },
  {
   "cell_type": "markdown",
   "id": "c67a98c1-f6c6-4915-9faf-7c878e0cd4fc",
   "metadata": {},
   "source": [
    "### You Try - 3 Warm-Up Problems From Lecture\n",
    "\n",
    "Here is a file that does not just read in nicely. See if you can use optional arguments to read it in.\n",
    "\n",
    "*Hint* How many (and which) rows of this data are just junk?\n",
    "\n",
    "**Terminal Command Line:**\n",
    "\n",
    "The command\n",
    "\n",
    "        cat data/ex4.csv\n",
    "\n",
    "if typed into a terminal prints out the contents of the file line by line. This lets us take a quick look at what is in the file. BEWARE - if you do this with a large file it will take a long time to print! Another great command is:\n",
    "\n",
    "        head data/ex4.csv\n",
    "\n",
    "would just show the first 10 lines of the file!"
   ]
  },
  {
   "cell_type": "code",
   "execution_count": 6,
   "id": "542020de-daf6-41fe-9b1e-d04966bbbaa6",
   "metadata": {},
   "outputs": [
    {
     "name": "stdout",
     "output_type": "stream",
     "text": [
      "# hey!\n",
      "a,b,c,d,message\n",
      "# just wanted to make things more difficult for you\n",
      "# who reads CSV files with computers, anyway?\n",
      "1,2,3,4,hello\n",
      "5,6,7,8,world\n",
      "9,10,11,12,foo\n"
     ]
    }
   ],
   "source": [
    "# This code lets you look at the data\n",
    "# the terminal command \"cat\" - prints the contents of a file\n",
    "# when we do !cat filename we can look at the \n",
    "file_name = 'data/ex4.csv'\n",
    "!cat data/ex4.csv"
   ]
  },
  {
   "cell_type": "code",
   "execution_count": null,
   "id": "2b3bebf5-f4c6-4a5d-a85b-1e6cc466e72d",
   "metadata": {},
   "outputs": [],
   "source": [
    "# Your code here"
   ]
  },
  {
   "cell_type": "markdown",
   "id": "9c524844-d646-4ecf-9b56-550fca9392b5",
   "metadata": {},
   "source": [
    "------------------------------------------------------"
   ]
  },
  {
   "cell_type": "code",
   "execution_count": null,
   "id": "2ce3c1e2-ab82-47c1-8146-8ce6c53ae8dd",
   "metadata": {},
   "outputs": [],
   "source": [
    "# EXAMPLES - DICTIONARY TO PANDAS\n",
    "my_dict = {\"name\": \"Wes\",\n",
    " \"cities_lived\": [\"Akron\", \"Nashville\", \"New York\", \"San Francisco\"],\n",
    " \"pet\": None,\n",
    " \"siblings\": [{\"name\": \"Scott\", \"age\": 34, \"hobbies\": [\"guitars\", \"soccer\"]},\n",
    "              {\"name\": \"Katie\", \"age\": 42, \"hobbies\": [\"diving\", \"art\"]}]\n",
    "}\n",
    "my_dict"
   ]
  },
  {
   "cell_type": "code",
   "execution_count": null,
   "id": "5310943d-2085-40cb-a97a-5f481b8649f9",
   "metadata": {},
   "outputs": [],
   "source": [
    "for key in my_dict.keys():\n",
    "    print(key)\n",
    "    print(my_dict[key])\n",
    "    print('----------')"
   ]
  },
  {
   "cell_type": "code",
   "execution_count": null,
   "id": "da36aaab-6724-46ec-9fe2-6ee3abe1bec6",
   "metadata": {},
   "outputs": [],
   "source": [
    "# This code will give you an error\n",
    "df = pd.DataFrame(my_dict)\n",
    "df"
   ]
  },
  {
   "cell_type": "code",
   "execution_count": null,
   "id": "4c98e4a3-5243-4fbe-891c-8083803a4d9c",
   "metadata": {},
   "outputs": [],
   "source": [
    "# This code will work\n",
    "df = pd.DataFrame(my_dict['siblings'])\n",
    "df"
   ]
  },
  {
   "cell_type": "markdown",
   "id": "108314b9-08cd-4ad4-a400-f16612f1bf5d",
   "metadata": {},
   "source": [
    "### You Try:\n",
    "\n",
    "Can you explain what is going on in the examples above? Why does one give an error and the other works? What specifically is it about focusing in on the siblings data that allows pandas to read this?"
   ]
  },
  {
   "cell_type": "markdown",
   "id": "b89c04cb-62c3-4fa7-8335-33008bdab4fd",
   "metadata": {},
   "source": [
    "**Your explanation here:**"
   ]
  },
  {
   "cell_type": "markdown",
   "id": "9c57e65d-d87d-48eb-af95-e21558ba8412",
   "metadata": {},
   "source": [
    "---------------------------------------"
   ]
  },
  {
   "cell_type": "markdown",
   "id": "901faf7f-d773-4942-8c4c-9b7861bae16e",
   "metadata": {},
   "source": [
    "### You Try\n",
    "\n",
    "Here is an example website that contains a table:\n",
    "\n",
    "https://www.scrapethissite.com/pages/forms/\n",
    "\n",
    "1. Open the website in your browser. Does the page that appears contain ALL the data about hockey teams?\n",
    "2. How does the web address change when you select the second page of the website.\n",
    "3. See if you can write code that will scrape all of the data. HINT: I would use a for loop that updates the web address and appends the new table to a list.\n",
    "4. Once you have the list of tables can you get them into a single data frame and save the data as a .csv?"
   ]
  },
  {
   "cell_type": "code",
   "execution_count": 10,
   "id": "daa12cab-9c94-4a07-8687-201a44eaf271",
   "metadata": {},
   "outputs": [
    {
     "data": {
      "text/plain": [
       "[                Team Name  Year  Wins  Losses  OT Losses  Win %  \\\n",
       " 0           Boston Bruins  1990    44      24        NaN  0.550   \n",
       " 1          Buffalo Sabres  1990    31      30        NaN  0.388   \n",
       " 2          Calgary Flames  1990    46      26        NaN  0.575   \n",
       " 3      Chicago Blackhawks  1990    49      23        NaN  0.613   \n",
       " 4       Detroit Red Wings  1990    34      38        NaN  0.425   \n",
       " 5         Edmonton Oilers  1990    37      37        NaN  0.463   \n",
       " 6        Hartford Whalers  1990    31      38        NaN  0.388   \n",
       " 7       Los Angeles Kings  1990    46      24        NaN  0.575   \n",
       " 8   Minnesota North Stars  1990    27      39        NaN  0.338   \n",
       " 9      Montreal Canadiens  1990    39      30        NaN  0.487   \n",
       " 10      New Jersey Devils  1990    32      33        NaN  0.400   \n",
       " 11     New York Islanders  1990    25      45        NaN  0.312   \n",
       " 12       New York Rangers  1990    36      31        NaN  0.450   \n",
       " 13    Philadelphia Flyers  1990    33      37        NaN  0.412   \n",
       " 14    Pittsburgh Penguins  1990    41      33        NaN  0.512   \n",
       " 15       Quebec Nordiques  1990    16      50        NaN  0.200   \n",
       " 16        St. Louis Blues  1990    47      22        NaN  0.588   \n",
       " 17    Toronto Maple Leafs  1990    23      46        NaN  0.287   \n",
       " 18      Vancouver Canucks  1990    28      43        NaN  0.350   \n",
       " 19    Washington Capitals  1990    37      36        NaN  0.463   \n",
       " 20          Winnipeg Jets  1990    26      43        NaN  0.325   \n",
       " 21          Boston Bruins  1991    36      32        NaN  0.450   \n",
       " 22         Buffalo Sabres  1991    31      37        NaN  0.388   \n",
       " 23         Calgary Flames  1991    31      37        NaN  0.388   \n",
       " 24     Chicago Blackhawks  1991    36      29        NaN  0.450   \n",
       " \n",
       "     Goals For (GF)  Goals Against (GA)  + / -  \n",
       " 0              299                 264     35  \n",
       " 1              292                 278     14  \n",
       " 2              344                 263     81  \n",
       " 3              284                 211     73  \n",
       " 4              273                 298    -25  \n",
       " 5              272                 272      0  \n",
       " 6              238                 276    -38  \n",
       " 7              340                 254     86  \n",
       " 8              256                 266    -10  \n",
       " 9              273                 249     24  \n",
       " 10             272                 264      8  \n",
       " 11             223                 290    -67  \n",
       " 12             297                 265     32  \n",
       " 13             252                 267    -15  \n",
       " 14             342                 305     37  \n",
       " 15             236                 354   -118  \n",
       " 16             310                 250     60  \n",
       " 17             241                 318    -77  \n",
       " 18             243                 315    -72  \n",
       " 19             258                 258      0  \n",
       " 20             260                 288    -28  \n",
       " 21             270                 275     -5  \n",
       " 22             289                 299    -10  \n",
       " 23             296                 305     -9  \n",
       " 24             257                 236     21  ]"
      ]
     },
     "execution_count": 10,
     "metadata": {},
     "output_type": "execute_result"
    }
   ],
   "source": [
    "# Here is how I could get one page\n",
    "website = 'https://www.scrapethissite.com/pages/forms/'\n",
    "tables = pd.read_html(website)\n",
    "len(tables)\n",
    "\n",
    "tables"
   ]
  },
  {
   "cell_type": "code",
   "execution_count": null,
   "id": "76a5a8fd-8b99-46a6-902c-aded7c2144e6",
   "metadata": {},
   "outputs": [],
   "source": [
    "# Your code here\n",
    "#1. Open the website in your browser. Does the page that appears contain ALL the data about hockey teams?\n",
    "\n",
    "#When I open the website in my web browser I see a table and pages to look at. So no, the page that appears does NOT contain\n",
    "#all the data about hocket teams?"
   ]
  },
  {
   "cell_type": "code",
   "execution_count": null,
   "id": "a88855f2-fe1c-4adb-9a63-c3c420e17eec",
   "metadata": {},
   "outputs": [],
   "source": [
    "#2. How does the web address change when you select the second page of the website.\n",
    "\n",
    "#When you go from page 1 to page 2, 3, 4, 5, .... 23 the only thing that changes is the page\n",
    "#number in the website. For example, this is the link https://www.scrapethissite.com/pages/forms/?page_num=1, and \n",
    "#what changes when I move from page 1.2.3 is /?page_num=1,2,3. "
   ]
  },
  {
   "cell_type": "code",
   "execution_count": 12,
   "id": "1e38fc70-0c3c-4133-b18c-533ef373c50a",
   "metadata": {},
   "outputs": [],
   "source": [
    "#3. See if you can write code that will scrape all of the data. HINT: I would use a for loop that updates\n",
    "#the web address and appends the new table to a list.\n",
    "df_list = []\n",
    "#There are 24 pages in the website and we must loop through all \n",
    "website = 'https://www.scrapethissite.com/pages/forms/'\n",
    "website24 ='https://www.scrapethissite.com/pages/forms/?page_num=23'\n",
    "\n",
    "for pg in range(1,24):\n",
    "    url = f\"{website}?page_num={pg}\"\n",
    "    tables = pd.read_html(url)\n",
    "    hockey_page = tables[0]\n",
    "    df_list.append(hockey_page)\n",
    "\n",
    "\n",
    "#This code scraped 24 pages on the website by slightly adjusting the url. The data is then put on\n",
    "# a list"
   ]
  },
  {
   "cell_type": "markdown",
   "id": "d0a62c16-23e6-4d49-be69-0f238095728f",
   "metadata": {},
   "source": [
    "------------------------------------------------"
   ]
  },
  {
   "cell_type": "code",
   "execution_count": 16,
   "id": "aafc3c04-e4ea-4a26-a3e0-c974b81752cc",
   "metadata": {},
   "outputs": [],
   "source": [
    "#4. Once you have the list of tables can you get them into a single data frame and save the data as a .csv?\n",
    "#I use concat to stack the different tables to get this functional. help(pd) emphasized the importance of\n",
    "#ignore_index, especially since I did not want to create a new index. \n",
    "final_df = pd.concat(df_list, ignore_index=True)\n",
    "final_df.to_csv('Hockey_Teams.csv')\n",
    "\n"
   ]
  },
  {
   "cell_type": "code",
   "execution_count": 18,
   "id": "43717785-d714-407f-a737-4ca75822a589",
   "metadata": {},
   "outputs": [],
   "source": [
    "#help(pd)"
   ]
  },
  {
   "cell_type": "markdown",
   "id": "91b4c4e3-f4e8-490c-9490-f8ed3e55d039",
   "metadata": {},
   "source": [
    "## Reading and Writing Data - Day3 HW\n",
    "\n",
    "## Homework 3\n",
    "\n",
    "Go to Kaggle Datasets: https://www.kaggle.com/datasets\n",
    "\n",
    "Find a data set that you are interested in looking at. You are welcome to work together and choose a data set as a group! You should read in this data and do some basic statistics on the data set. Answer the following questions:\n",
    "\n",
    "1. Tell your reader about the data: Where did you get it? When did you access it? Who owns it? What is the license? Are there any acknowledgments that you should give for using the data? All of this should be on the Kaggle page\n",
    "2. How many variables and observations?\n",
    "3. What type of data is contained? Was it read in as strings, ints, floats?\n",
    "4. Are there any NaNs or weird data types that you can see?\n",
    "5. Most Kaggle datasets contain some basic stats or visualizations on the download page. See if you can recreate some of the plots or data you see on the website.\n",
    "6. Come up with at least one question of your own that you can answer by analyzing the data.\n",
    "7. Create a dataframe with just the data you need to answer your question - save the data subset to a file (your choice of type)\n",
    "8. **In a NEW NOTEBOOK** Write code that reads in your subset of the data, markdown that explains clearly where you got the data originally (license and references included) and the process you took to create your subset, a description of the question you are answering, and code that can reliably run and answer your question followed by words that explain your results.\n",
    "\n",
    "------------------------------------\n",
    "\n",
    "Your final notebooks should:\n",
    "\n",
    "- [ ] Be completely new notebooks with just the Day3 stuff in it: First the code that creates your data and second the code that reads in the data and does the analysis. \n",
    "- [ ] Be reproducible with junk code removed.\n",
    "- [ ] Have lots of language describing what you are doing, especially for questions you are asking or things that you find interesting about the data. Use complete sentences, nice headings, and good markdown formatting: https://www.markdownguide.org/cheat-sheet/\n",
    "- [ ] It should run without errors from start to finish."
   ]
  },
  {
   "cell_type": "code",
   "execution_count": 25,
   "id": "d567572e-fc8c-4558-98b1-7363924921b2",
   "metadata": {},
   "outputs": [],
   "source": [
    "#DONT FORGET TO HAND IN YOUR DATA!!!!\n",
    "import kagglehub"
   ]
  },
  {
   "cell_type": "code",
   "execution_count": 35,
   "id": "3ba2c352-2a1c-40f7-a885-45cd1d0f9dc5",
   "metadata": {},
   "outputs": [
    {
     "name": "stdout",
     "output_type": "stream",
     "text": [
      "Path to dataset files: /Users/jesusplascencia/.cache/kagglehub/datasets/codebynadiia/gdp-per-country-20202025/versions/1\n"
     ]
    },
    {
     "data": {
      "text/plain": [
       "['2020-2025.csv']"
      ]
     },
     "execution_count": 35,
     "metadata": {},
     "output_type": "execute_result"
    }
   ],
   "source": [
    "\n",
    "# Download latest version\n",
    "path = kagglehub.dataset_download(\"codebynadiia/gdp-per-country-20202025\")\n",
    "\n",
    "print(\"Path to dataset files:\", path)\n",
    "os.listdir(path)"
   ]
  },
  {
   "cell_type": "code",
   "execution_count": null,
   "id": "ac39212a-b437-42db-9014-edf015f45625",
   "metadata": {},
   "outputs": [],
   "source": [
    "#1] Tell your reader about the data: Where did you get it? When did you access it? Who owns it? What is the license? \n",
    "#Are there any acknowledgments that you should give for using the data? All of this should be on the Kaggle page.\n",
    "\n",
    "#This data is from the kaggle datasets website. It is licensed under MIT and is\n",
    "#completely free to use. This dataset contains GDP data for all recognized countries\n",
    "#from 2020 to 2025. The dataset is compiled from IMF sources. This data was\n",
    "#accessed on Septeber 13, 2025. This code was done by \"NADDIIA\" about 9 days ago.\n",
    "#There are no acknowledgements described in the website, but NADIIA was\n",
    "#largely credited with coding this dataset.\n"
   ]
  },
  {
   "cell_type": "code",
   "execution_count": 18,
   "id": "14ef18f4-cde3-47be-a1f9-8b149bfae3ae",
   "metadata": {},
   "outputs": [
    {
     "data": {
      "text/html": [
       "<div>\n",
       "<style scoped>\n",
       "    .dataframe tbody tr th:only-of-type {\n",
       "        vertical-align: middle;\n",
       "    }\n",
       "\n",
       "    .dataframe tbody tr th {\n",
       "        vertical-align: top;\n",
       "    }\n",
       "\n",
       "    .dataframe thead th {\n",
       "        text-align: right;\n",
       "    }\n",
       "</style>\n",
       "<table border=\"1\" class=\"dataframe\">\n",
       "  <thead>\n",
       "    <tr style=\"text-align: right;\">\n",
       "      <th></th>\n",
       "      <th>Country</th>\n",
       "      <th>2020</th>\n",
       "      <th>2021</th>\n",
       "      <th>2022</th>\n",
       "      <th>2023</th>\n",
       "      <th>2024</th>\n",
       "      <th>2025</th>\n",
       "    </tr>\n",
       "  </thead>\n",
       "  <tbody>\n",
       "    <tr>\n",
       "      <th>0</th>\n",
       "      <td>Afghanistan</td>\n",
       "      <td>20136</td>\n",
       "      <td>14278.0</td>\n",
       "      <td>14501.0</td>\n",
       "      <td>17248.0</td>\n",
       "      <td>NaN</td>\n",
       "      <td>NaN</td>\n",
       "    </tr>\n",
       "    <tr>\n",
       "      <th>1</th>\n",
       "      <td>Albania</td>\n",
       "      <td>15271</td>\n",
       "      <td>18086.0</td>\n",
       "      <td>19185.0</td>\n",
       "      <td>23388.0</td>\n",
       "      <td>27259.0</td>\n",
       "      <td>28372.0</td>\n",
       "    </tr>\n",
       "    <tr>\n",
       "      <th>2</th>\n",
       "      <td>Algeria</td>\n",
       "      <td>164774</td>\n",
       "      <td>185850.0</td>\n",
       "      <td>225709.0</td>\n",
       "      <td>247789.0</td>\n",
       "      <td>264913.0</td>\n",
       "      <td>268885.0</td>\n",
       "    </tr>\n",
       "    <tr>\n",
       "      <th>3</th>\n",
       "      <td>Andorra</td>\n",
       "      <td>2885</td>\n",
       "      <td>3325.0</td>\n",
       "      <td>3376.0</td>\n",
       "      <td>3786.0</td>\n",
       "      <td>4038.0</td>\n",
       "      <td>4035.0</td>\n",
       "    </tr>\n",
       "    <tr>\n",
       "      <th>4</th>\n",
       "      <td>Angola</td>\n",
       "      <td>66521</td>\n",
       "      <td>84375.0</td>\n",
       "      <td>142442.0</td>\n",
       "      <td>109764.0</td>\n",
       "      <td>115946.0</td>\n",
       "      <td>113343.0</td>\n",
       "    </tr>\n",
       "  </tbody>\n",
       "</table>\n",
       "</div>"
      ],
      "text/plain": [
       "       Country    2020      2021      2022      2023      2024      2025\n",
       "0  Afghanistan   20136   14278.0   14501.0   17248.0       NaN       NaN\n",
       "1      Albania   15271   18086.0   19185.0   23388.0   27259.0   28372.0\n",
       "2      Algeria  164774  185850.0  225709.0  247789.0  264913.0  268885.0\n",
       "3      Andorra    2885    3325.0    3376.0    3786.0    4038.0    4035.0\n",
       "4       Angola   66521   84375.0  142442.0  109764.0  115946.0  113343.0"
      ]
     },
     "execution_count": 18,
     "metadata": {},
     "output_type": "execute_result"
    }
   ],
   "source": [
    "#Read in the data. \n",
    "my_path = '/Users/jesusplascencia/.cache/kagglehub/datasets/codebynadiia/gdp-per-country-20202025/versions/1/'\n",
    "\n",
    "file = my_path+'2020-2025.csv'\n",
    "DF = pd.read_csv(file)\n",
    "DF.head()\n",
    "\n"
   ]
  },
  {
   "cell_type": "code",
   "execution_count": 20,
   "id": "b2e354db-c5a2-4e4d-9428-cb4196a7e6f7",
   "metadata": {},
   "outputs": [
    {
     "data": {
      "text/plain": [
       "Index(['Country', '2020', '2021', '2022', '2023', '2024', '2025'], dtype='object')"
      ]
     },
     "execution_count": 20,
     "metadata": {},
     "output_type": "execute_result"
    }
   ],
   "source": [
    "#2. How many variables and observations?\n",
    "DF.shape\n",
    "DF.columns\n",
    "\n",
    "#There are 7 varibles and 196 observations."
   ]
  },
  {
   "cell_type": "code",
   "execution_count": 54,
   "id": "ce15a726-961f-418c-99f7-7a753d08ef47",
   "metadata": {},
   "outputs": [
    {
     "name": "stdout",
     "output_type": "stream",
     "text": [
      "<class 'pandas.core.frame.DataFrame'>\n",
      "RangeIndex: 196 entries, 0 to 195\n",
      "Data columns (total 7 columns):\n",
      " #   Column   Non-Null Count  Dtype  \n",
      "---  ------   --------------  -----  \n",
      " 0   Country  196 non-null    object \n",
      " 1   2020     196 non-null    int64  \n",
      " 2   2021     194 non-null    float64\n",
      " 3   2022     194 non-null    float64\n",
      " 4   2023     194 non-null    float64\n",
      " 5   2024     192 non-null    float64\n",
      " 6   2025     189 non-null    float64\n",
      "dtypes: float64(5), int64(1), object(1)\n",
      "memory usage: 10.8+ KB\n"
     ]
    },
    {
     "data": {
      "text/plain": [
       "Country     object\n",
       "2020         int64\n",
       "2021       float64\n",
       "2022       float64\n",
       "2023       float64\n",
       "2024       float64\n",
       "2025       float64\n",
       "dtype: object"
      ]
     },
     "execution_count": 54,
     "metadata": {},
     "output_type": "execute_result"
    }
   ],
   "source": [
    "#3. What type of data is contained? Was it read in as strings, ints, floats?\n",
    "df.info()\n",
    "df.dtypes\n",
    "\n",
    "#this data contains floats, integers, and objects. Year 2020 is an integer, 2021-2025 is a float, while country is \n",
    "#an object. "
   ]
  },
  {
   "cell_type": "code",
   "execution_count": 22,
   "id": "7e0cc08b-6adb-4200-b553-b49fea4a3576",
   "metadata": {},
   "outputs": [
    {
     "name": "stdout",
     "output_type": "stream",
     "text": [
      "Country    0\n",
      "2020       0\n",
      "2021       2\n",
      "2022       2\n",
      "2023       2\n",
      "2024       4\n",
      "2025       7\n",
      "dtype: int64\n"
     ]
    },
    {
     "data": {
      "text/plain": [
       "Country     object\n",
       "2020         int64\n",
       "2021       float64\n",
       "2022       float64\n",
       "2023       float64\n",
       "2024       float64\n",
       "2025       float64\n",
       "dtype: object"
      ]
     },
     "execution_count": 22,
     "metadata": {},
     "output_type": "execute_result"
    }
   ],
   "source": [
    "#4Are there any NaNs or weird data types that you can see?\n",
    "\n",
    "print(DF.isna().sum())\n",
    "DF.info\n",
    "DF.dtypes\n",
    "#Yes there were multiple NaNs in the GDP dataset. There was also a weird data type that I noticed,\n",
    "# 2020 contains values that are in integer form while 2021-2025 have floats. This inconsistency\n",
    "#in whether or not to use floats/integers is somewhat weird. other than that I did not find anything \n",
    "#weird"
   ]
  },
  {
   "cell_type": "code",
   "execution_count": 24,
   "id": "b357e959-3b3c-41e4-a06a-d2d9ae3f8410",
   "metadata": {},
   "outputs": [
    {
     "data": {
      "image/png": "[encoded data removed]",
      "text/plain": [
       "<Figure size 1500x800 with 1 Axes>"
      ]
     },
     "metadata": {},
     "output_type": "display_data"
    }
   ],
   "source": [
    "#5) Most Kaggle datasets contain some basic stats or visualizations on the download page.\n",
    "#See if you can recreate some of the plots or data you see on the website.\n",
    "\n",
    "#Graph for the top 20 countries by GDP in 2020\n",
    "DF.columns\n",
    "\n",
    "year = '2020'\n",
    "top20_2020 = DF[['Country', year]].sort_values(by=year, ascending = False).head(20)\n",
    "\n",
    "plt.figure(figsize=(15,8))\n",
    "plt.bar(top20_2020['Country'], top20_2020[year])\n",
    "\n",
    "plt.title(\"Top 20 Countries by GDP in 2020\")\n",
    "plt.ylabel(\"Gross Domestic Product\")\n",
    "plt.xticks(rotation=90)\n",
    "plt.show()\n"
   ]
  },
  {
   "cell_type": "code",
   "execution_count": 45,
   "id": "4f3191df-0a8d-4d27-a1b4-bfab714a002b",
   "metadata": {},
   "outputs": [],
   "source": [
    "#6. Come up with at least one question of your own that you can answer by analyzing the data.\n",
    "\n",
    "#Which countries were in the top 10 GDP in 2025.\n",
    "year = '2025'\n",
    "colummns = ['Country',year]\n",
    "DF_top10_2025 = DF[colummns].groupby('Country').sum().sort_values(year,ascending=False).head(10).copy()\n",
    "DF_top10_2025.to_csv(f'top_10_gdp_{year}.csv')\n",
    "\n",
    "#Which countries were in the top 10 GDP in 2020-2024.\n",
    "colummns2 = ['Country','2020']\n",
    "DF_top10_2020 = DF[colummns2].groupby('Country').sum().sort_values('2020',ascending=False).head(10).copy()\n",
    "DF_top10_2020.to_csv('top_10_gdp_2020.csv')\n",
    "\n",
    "colummns3 = ['Country','2021']\n",
    "DF_top10_2021 = DF[colummns3].groupby('Country').sum().sort_values('2021',ascending=False).head(10).copy()\n",
    "DF_top10_2021.to_csv('top_10_gdp_2021.csv')\n",
    "\n",
    "colummns4 = ['Country','2022']\n",
    "DF_top10_2022 = DF[colummns4].groupby('Country').sum().sort_values('2022',ascending=False).head(10).copy()\n",
    "DF_top10_2022.to_csv('top_10_gdp_2022.csv')\n",
    "\n",
    "colummns5 = ['Country','2023']\n",
    "DF_top10_2023 = DF[colummns5].groupby('Country').sum().sort_values('2023',ascending=False).head(10).copy()\n",
    "DF_top10_2023.to_csv('top_10_gdp_2023.csv')\n",
    "\n",
    "colummns6 = ['Country','2024']\n",
    "DF_top10_2024 = DF[colummns6].groupby('Country').sum().sort_values('2024',ascending=False).head(10).copy()\n",
    "DF_top10_2024.to_csv('top_10_gdp_2024.csv')\n",
    "\n",
    "\n"
   ]
  },
  {
   "cell_type": "code",
   "execution_count": null,
   "id": "09f22224-9aa5-47c9-a8eb-fb6e3396aa2b",
   "metadata": {},
   "outputs": [],
   "source": [
    "#7. Create a dataframe with just the data you need to answer your question - save the data subset to a file (your choice of type)\n",
    "#I saved the dataset required to answer my question as a .csv file. It shwos me the top 10 countries by GDP in 2025. I wanted to see \n",
    "#how China paried up against the U.S. in 2025 and I found surprising results. The U.S. GDP is extremely high. While it is true that China\n",
    "#is second on this list, it is still not near U.S. GDP. Beyond that, Germany is 3rd on the list and its GDP is no where near the United States GDP."
   ]
  },
  {
   "cell_type": "code",
   "execution_count": null,
   "id": "5e8dc938-362c-45af-b314-084b441496cb",
   "metadata": {},
   "outputs": [],
   "source": [
    "My Second NoteBook "
   ]
  }
 ],
 "metadata": {
  "kernelspec": {
   "display_name": "Python [conda env:base] *",
   "language": "python",
   "name": "conda-base-py"
  },
  "language_info": {
   "codemirror_mode": {
    "name": "ipython",
    "version": 3
   },
   "file_extension": ".py",
   "mimetype": "text/x-python",
   "name": "python",
   "nbconvert_exporter": "python",
   "pygments_lexer": "ipython3",
   "version": "3.12.2"
  }
 },
 "nbformat": 4,
 "nbformat_minor": 5
}
