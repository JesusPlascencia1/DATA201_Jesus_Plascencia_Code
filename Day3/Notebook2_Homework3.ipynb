{
 "cells": [
  {
   "cell_type": "code",
   "execution_count": null,
   "id": "1f541570-8c3d-4dd5-b9b5-cd91ae6257e1",
   "metadata": {},
   "outputs": [],
   "source": [
    "#6. Come up with at least one question of your own that you can answer by analyzing the data."
   ]
  },
  {
   "cell_type": "code",
   "execution_count": null,
   "id": "1de56a3e-c70f-467d-8b2e-6b1327856a0e",
   "metadata": {},
   "outputs": [],
   "source": [
    "#7. Create a dataframe with just the data you need to answer your question - save the data subset to a file (your choice of type)\n"
   ]
  },
  {
   "cell_type": "code",
   "execution_count": null,
   "id": "755dc51e-11ab-4c63-8ca5-e065ace14abf",
   "metadata": {},
   "outputs": [],
   "source": [
    "#8. **In a NEW NOTEBOOK** Write code that reads in your subset of the data, markdown that explains clearly where \n",
    "#you got the data originally (license and references included) and the process you took to create your subset, \n",
    "#a description of the question you are answering, and code that can reliably run and answer your question \n",
    "#followed by words that explain your results."
   ]
  },
  {
   "cell_type": "code",
   "execution_count": null,
   "id": "0426b678-555f-4db2-9e99-1e569a5cc42e",
   "metadata": {},
   "outputs": [],
   "source": []
  },
  {
   "cell_type": "code",
   "execution_count": null,
   "id": "47fa90c6-b392-40cd-8c9b-b5505efd8044",
   "metadata": {},
   "outputs": [],
   "source": []
  }
 ],
 "metadata": {
  "kernelspec": {
   "display_name": "Python [conda env:base] *",
   "language": "python",
   "name": "conda-base-py"
  },
  "language_info": {
   "codemirror_mode": {
    "name": "ipython",
    "version": 3
   },
   "file_extension": ".py",
   "mimetype": "text/x-python",
   "name": "python",
   "nbconvert_exporter": "python",
   "pygments_lexer": "ipython3",
   "version": "3.12.2"
  }
 },
 "nbformat": 4,
 "nbformat_minor": 5
}
