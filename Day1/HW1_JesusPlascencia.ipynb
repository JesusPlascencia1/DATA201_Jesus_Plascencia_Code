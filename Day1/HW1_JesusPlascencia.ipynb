{
 "cells": [
  {
   "cell_type": "code",
   "execution_count": 368,
   "id": "470d4d59-bf2f-4839-af0d-b7db8152daf3",
   "metadata": {},
   "outputs": [],
   "source": [
    "#These are all the imports I need\n",
    "#By: Jesus Plascencia \n",
    "# 9/8/2025\n",
    "# A review of Data 101\n",
    "import numpy as np\n",
    "import pandas as pd\n",
    "import matplotlib.pyplot as plt\n",
    "import plotly.express as px\n",
    "from plotly.subplots import make_subplots\n",
    "import plotly.io as pio\n",
    "pio.renderers.defaule = 'colab'"
   ]
  },
  {
   "cell_type": "code",
   "execution_count": 370,
   "id": "9f8547fa-98a2-4791-b3db-16a0d8cba435",
   "metadata": {},
   "outputs": [
    {
     "data": {
      "text/html": [
       "<div>\n",
       "<style scoped>\n",
       "    .dataframe tbody tr th:only-of-type {\n",
       "        vertical-align: middle;\n",
       "    }\n",
       "\n",
       "    .dataframe tbody tr th {\n",
       "        vertical-align: top;\n",
       "    }\n",
       "\n",
       "    .dataframe thead th {\n",
       "        text-align: right;\n",
       "    }\n",
       "</style>\n",
       "<table border=\"1\" class=\"dataframe\">\n",
       "  <thead>\n",
       "    <tr style=\"text-align: right;\">\n",
       "      <th></th>\n",
       "      <th>first_name</th>\n",
       "      <th>last_name</th>\n",
       "      <th>age</th>\n",
       "      <th>phone_number</th>\n",
       "      <th>set_id</th>\n",
       "      <th>number</th>\n",
       "      <th>theme</th>\n",
       "      <th>subtheme</th>\n",
       "      <th>year</th>\n",
       "      <th>name</th>\n",
       "      <th>pieces</th>\n",
       "      <th>us_price</th>\n",
       "      <th>image_url</th>\n",
       "      <th>quantity</th>\n",
       "    </tr>\n",
       "  </thead>\n",
       "  <tbody>\n",
       "    <tr>\n",
       "      <th>0</th>\n",
       "      <td>Kimberly</td>\n",
       "      <td>Beckstead</td>\n",
       "      <td>24</td>\n",
       "      <td>216-555-2549</td>\n",
       "      <td>24701</td>\n",
       "      <td>76062</td>\n",
       "      <td>DC Comics Super Heroes</td>\n",
       "      <td>Mighty Micros</td>\n",
       "      <td>2018</td>\n",
       "      <td>Robin vs. Bane</td>\n",
       "      <td>77.0</td>\n",
       "      <td>9.99</td>\n",
       "      <td>http://images.brickset.com/sets/images/76062-1...</td>\n",
       "      <td>1</td>\n",
       "    </tr>\n",
       "    <tr>\n",
       "      <th>1</th>\n",
       "      <td>Neel</td>\n",
       "      <td>Garvin</td>\n",
       "      <td>35</td>\n",
       "      <td>819-555-3189</td>\n",
       "      <td>25626</td>\n",
       "      <td>70595</td>\n",
       "      <td>Ninjago</td>\n",
       "      <td>Rise of the Villains</td>\n",
       "      <td>2018</td>\n",
       "      <td>Ultra Stealth Raider</td>\n",
       "      <td>1093.0</td>\n",
       "      <td>119.99</td>\n",
       "      <td>http://images.brickset.com/sets/images/70595-1...</td>\n",
       "      <td>1</td>\n",
       "    </tr>\n",
       "    <tr>\n",
       "      <th>2</th>\n",
       "      <td>Neel</td>\n",
       "      <td>Garvin</td>\n",
       "      <td>35</td>\n",
       "      <td>819-555-3189</td>\n",
       "      <td>24665</td>\n",
       "      <td>21031</td>\n",
       "      <td>Architecture</td>\n",
       "      <td>NaN</td>\n",
       "      <td>2018</td>\n",
       "      <td>Burj Khalifa</td>\n",
       "      <td>333.0</td>\n",
       "      <td>39.99</td>\n",
       "      <td>http://images.brickset.com/sets/images/21031-1...</td>\n",
       "      <td>1</td>\n",
       "    </tr>\n",
       "    <tr>\n",
       "      <th>3</th>\n",
       "      <td>Chelsea</td>\n",
       "      <td>Bouchard</td>\n",
       "      <td>41</td>\n",
       "      <td>NaN</td>\n",
       "      <td>24695</td>\n",
       "      <td>31048</td>\n",
       "      <td>Creator</td>\n",
       "      <td>NaN</td>\n",
       "      <td>2018</td>\n",
       "      <td>Lakeside Lodge</td>\n",
       "      <td>368.0</td>\n",
       "      <td>29.99</td>\n",
       "      <td>http://images.brickset.com/sets/images/31048-1...</td>\n",
       "      <td>1</td>\n",
       "    </tr>\n",
       "    <tr>\n",
       "      <th>4</th>\n",
       "      <td>Chelsea</td>\n",
       "      <td>Bouchard</td>\n",
       "      <td>41</td>\n",
       "      <td>NaN</td>\n",
       "      <td>25626</td>\n",
       "      <td>70595</td>\n",
       "      <td>Ninjago</td>\n",
       "      <td>Rise of the Villains</td>\n",
       "      <td>2018</td>\n",
       "      <td>Ultra Stealth Raider</td>\n",
       "      <td>1093.0</td>\n",
       "      <td>119.99</td>\n",
       "      <td>http://images.brickset.com/sets/images/70595-1...</td>\n",
       "      <td>1</td>\n",
       "    </tr>\n",
       "    <tr>\n",
       "      <th>5</th>\n",
       "      <td>Chelsea</td>\n",
       "      <td>Bouchard</td>\n",
       "      <td>41</td>\n",
       "      <td>NaN</td>\n",
       "      <td>24721</td>\n",
       "      <td>10831</td>\n",
       "      <td>Duplo</td>\n",
       "      <td>NaN</td>\n",
       "      <td>2018</td>\n",
       "      <td>My First Caterpillar</td>\n",
       "      <td>19.0</td>\n",
       "      <td>9.99</td>\n",
       "      <td>http://images.brickset.com/sets/images/10831-1...</td>\n",
       "      <td>1</td>\n",
       "    </tr>\n",
       "    <tr>\n",
       "      <th>6</th>\n",
       "      <td>Bryanna</td>\n",
       "      <td>Welsh</td>\n",
       "      <td>19</td>\n",
       "      <td>NaN</td>\n",
       "      <td>24797</td>\n",
       "      <td>75138</td>\n",
       "      <td>Star Wars</td>\n",
       "      <td>Episode V</td>\n",
       "      <td>2018</td>\n",
       "      <td>Hoth Attack</td>\n",
       "      <td>233.0</td>\n",
       "      <td>24.99</td>\n",
       "      <td>http://images.brickset.com/sets/images/75138-1...</td>\n",
       "      <td>1</td>\n",
       "    </tr>\n",
       "    <tr>\n",
       "      <th>7</th>\n",
       "      <td>Bryanna</td>\n",
       "      <td>Welsh</td>\n",
       "      <td>19</td>\n",
       "      <td>NaN</td>\n",
       "      <td>24701</td>\n",
       "      <td>76062</td>\n",
       "      <td>DC Comics Super Heroes</td>\n",
       "      <td>Mighty Micros</td>\n",
       "      <td>2018</td>\n",
       "      <td>Robin vs. Bane</td>\n",
       "      <td>77.0</td>\n",
       "      <td>9.99</td>\n",
       "      <td>http://images.brickset.com/sets/images/76062-1...</td>\n",
       "      <td>3</td>\n",
       "    </tr>\n",
       "    <tr>\n",
       "      <th>8</th>\n",
       "      <td>Caleb</td>\n",
       "      <td>Garcia-Wideman</td>\n",
       "      <td>37</td>\n",
       "      <td>907-555-9236</td>\n",
       "      <td>24730</td>\n",
       "      <td>41115</td>\n",
       "      <td>Friends</td>\n",
       "      <td>NaN</td>\n",
       "      <td>2018</td>\n",
       "      <td>Emma's Creative Workshop</td>\n",
       "      <td>108.0</td>\n",
       "      <td>9.99</td>\n",
       "      <td>http://images.brickset.com/sets/images/41115-1...</td>\n",
       "      <td>1</td>\n",
       "    </tr>\n",
       "    <tr>\n",
       "      <th>9</th>\n",
       "      <td>Caleb</td>\n",
       "      <td>Garcia-Wideman</td>\n",
       "      <td>37</td>\n",
       "      <td>907-555-9236</td>\n",
       "      <td>25611</td>\n",
       "      <td>21127</td>\n",
       "      <td>Minecraft</td>\n",
       "      <td>Minifig-scale</td>\n",
       "      <td>2018</td>\n",
       "      <td>The Fortress</td>\n",
       "      <td>NaN</td>\n",
       "      <td>109.99</td>\n",
       "      <td>http://images.brickset.com/sets/images/21127-1...</td>\n",
       "      <td>2</td>\n",
       "    </tr>\n",
       "    <tr>\n",
       "      <th>10</th>\n",
       "      <td>Chase</td>\n",
       "      <td>Fortenberry</td>\n",
       "      <td>19</td>\n",
       "      <td>205-555-3704</td>\n",
       "      <td>24707</td>\n",
       "      <td>10801</td>\n",
       "      <td>Duplo</td>\n",
       "      <td>NaN</td>\n",
       "      <td>2018</td>\n",
       "      <td>Baby Animals</td>\n",
       "      <td>13.0</td>\n",
       "      <td>9.99</td>\n",
       "      <td>http://images.brickset.com/sets/images/10801-1...</td>\n",
       "      <td>1</td>\n",
       "    </tr>\n",
       "    <tr>\n",
       "      <th>11</th>\n",
       "      <td>Chase</td>\n",
       "      <td>Fortenberry</td>\n",
       "      <td>19</td>\n",
       "      <td>205-555-3704</td>\n",
       "      <td>24713</td>\n",
       "      <td>10809</td>\n",
       "      <td>Duplo</td>\n",
       "      <td>NaN</td>\n",
       "      <td>2018</td>\n",
       "      <td>Police Patrol</td>\n",
       "      <td>15.0</td>\n",
       "      <td>14.99</td>\n",
       "      <td>http://images.brickset.com/sets/images/10809-1...</td>\n",
       "      <td>1</td>\n",
       "    </tr>\n",
       "    <tr>\n",
       "      <th>12</th>\n",
       "      <td>Kevin</td>\n",
       "      <td>Cruz</td>\n",
       "      <td>20</td>\n",
       "      <td>947-555-7946</td>\n",
       "      <td>24767</td>\n",
       "      <td>70335</td>\n",
       "      <td>Nexo Knights</td>\n",
       "      <td>Ultimate</td>\n",
       "      <td>2018</td>\n",
       "      <td>Ultimate Lavaria</td>\n",
       "      <td>69.0</td>\n",
       "      <td>9.99</td>\n",
       "      <td>http://images.brickset.com/sets/images/70335-1...</td>\n",
       "      <td>2</td>\n",
       "    </tr>\n",
       "    <tr>\n",
       "      <th>13</th>\n",
       "      <td>Connor</td>\n",
       "      <td>Brown</td>\n",
       "      <td>36</td>\n",
       "      <td>516-555-4310</td>\n",
       "      <td>24548</td>\n",
       "      <td>71230</td>\n",
       "      <td>Dimensions</td>\n",
       "      <td>Fun Pack</td>\n",
       "      <td>2018</td>\n",
       "      <td>Fun Pack: Doc Brown</td>\n",
       "      <td>69.0</td>\n",
       "      <td>14.99</td>\n",
       "      <td>http://images.brickset.com/sets/images/71230-1...</td>\n",
       "      <td>1</td>\n",
       "    </tr>\n",
       "    <tr>\n",
       "      <th>14</th>\n",
       "      <td>Connor</td>\n",
       "      <td>Brown</td>\n",
       "      <td>36</td>\n",
       "      <td>516-555-4310</td>\n",
       "      <td>24913</td>\n",
       "      <td>60112</td>\n",
       "      <td>City</td>\n",
       "      <td>Fire</td>\n",
       "      <td>2018</td>\n",
       "      <td>Fire Engine</td>\n",
       "      <td>376.0</td>\n",
       "      <td>49.99</td>\n",
       "      <td>http://images.brickset.com/sets/images/60112-1...</td>\n",
       "      <td>1</td>\n",
       "    </tr>\n",
       "    <tr>\n",
       "      <th>15</th>\n",
       "      <td>Connor</td>\n",
       "      <td>Brown</td>\n",
       "      <td>36</td>\n",
       "      <td>516-555-4310</td>\n",
       "      <td>26034</td>\n",
       "      <td>41573</td>\n",
       "      <td>Mixels</td>\n",
       "      <td>Series 9</td>\n",
       "      <td>2018</td>\n",
       "      <td>Sweepz</td>\n",
       "      <td>61.0</td>\n",
       "      <td>4.99</td>\n",
       "      <td>NaN</td>\n",
       "      <td>1</td>\n",
       "    </tr>\n",
       "    <tr>\n",
       "      <th>16</th>\n",
       "      <td>Toni</td>\n",
       "      <td>Borison</td>\n",
       "      <td>40</td>\n",
       "      <td>284-555-4560</td>\n",
       "      <td>25626</td>\n",
       "      <td>70595</td>\n",
       "      <td>Ninjago</td>\n",
       "      <td>Rise of the Villains</td>\n",
       "      <td>2018</td>\n",
       "      <td>Ultra Stealth Raider</td>\n",
       "      <td>1093.0</td>\n",
       "      <td>119.99</td>\n",
       "      <td>http://images.brickset.com/sets/images/70595-1...</td>\n",
       "      <td>1</td>\n",
       "    </tr>\n",
       "    <tr>\n",
       "      <th>17</th>\n",
       "      <td>Toni</td>\n",
       "      <td>Borison</td>\n",
       "      <td>40</td>\n",
       "      <td>284-555-4560</td>\n",
       "      <td>24994</td>\n",
       "      <td>10251</td>\n",
       "      <td>Advanced Models</td>\n",
       "      <td>Modular Buildings</td>\n",
       "      <td>2018</td>\n",
       "      <td>Brick Bank</td>\n",
       "      <td>2380.0</td>\n",
       "      <td>169.99</td>\n",
       "      <td>http://images.brickset.com/sets/images/10251-1...</td>\n",
       "      <td>1</td>\n",
       "    </tr>\n",
       "    <tr>\n",
       "      <th>18</th>\n",
       "      <td>Daniel</td>\n",
       "      <td>Hurst</td>\n",
       "      <td>44</td>\n",
       "      <td>251-555-0845</td>\n",
       "      <td>24903</td>\n",
       "      <td>41558</td>\n",
       "      <td>Mixels</td>\n",
       "      <td>Series 7</td>\n",
       "      <td>2018</td>\n",
       "      <td>Mixadel</td>\n",
       "      <td>63.0</td>\n",
       "      <td>4.99</td>\n",
       "      <td>http://images.brickset.com/sets/images/41558-1...</td>\n",
       "      <td>1</td>\n",
       "    </tr>\n",
       "    <tr>\n",
       "      <th>19</th>\n",
       "      <td>Daniel</td>\n",
       "      <td>Hurst</td>\n",
       "      <td>44</td>\n",
       "      <td>251-555-0845</td>\n",
       "      <td>24695</td>\n",
       "      <td>31048</td>\n",
       "      <td>Creator</td>\n",
       "      <td>NaN</td>\n",
       "      <td>2018</td>\n",
       "      <td>Lakeside Lodge</td>\n",
       "      <td>368.0</td>\n",
       "      <td>29.99</td>\n",
       "      <td>http://images.brickset.com/sets/images/31048-1...</td>\n",
       "      <td>1</td>\n",
       "    </tr>\n",
       "  </tbody>\n",
       "</table>\n",
       "</div>"
      ],
      "text/plain": [
       "   first_name       last_name  age  phone_number  set_id number  \\\n",
       "0    Kimberly       Beckstead   24  216-555-2549   24701  76062   \n",
       "1        Neel          Garvin   35  819-555-3189   25626  70595   \n",
       "2        Neel          Garvin   35  819-555-3189   24665  21031   \n",
       "3     Chelsea        Bouchard   41           NaN   24695  31048   \n",
       "4     Chelsea        Bouchard   41           NaN   25626  70595   \n",
       "5     Chelsea        Bouchard   41           NaN   24721  10831   \n",
       "6     Bryanna           Welsh   19           NaN   24797  75138   \n",
       "7     Bryanna           Welsh   19           NaN   24701  76062   \n",
       "8       Caleb  Garcia-Wideman   37  907-555-9236   24730  41115   \n",
       "9       Caleb  Garcia-Wideman   37  907-555-9236   25611  21127   \n",
       "10      Chase     Fortenberry   19  205-555-3704   24707  10801   \n",
       "11      Chase     Fortenberry   19  205-555-3704   24713  10809   \n",
       "12      Kevin            Cruz   20  947-555-7946   24767  70335   \n",
       "13     Connor           Brown   36  516-555-4310   24548  71230   \n",
       "14     Connor           Brown   36  516-555-4310   24913  60112   \n",
       "15     Connor           Brown   36  516-555-4310   26034  41573   \n",
       "16       Toni         Borison   40  284-555-4560   25626  70595   \n",
       "17       Toni         Borison   40  284-555-4560   24994  10251   \n",
       "18     Daniel           Hurst   44  251-555-0845   24903  41558   \n",
       "19     Daniel           Hurst   44  251-555-0845   24695  31048   \n",
       "\n",
       "                     theme              subtheme  year  \\\n",
       "0   DC Comics Super Heroes         Mighty Micros  2018   \n",
       "1                  Ninjago  Rise of the Villains  2018   \n",
       "2             Architecture                   NaN  2018   \n",
       "3                  Creator                   NaN  2018   \n",
       "4                  Ninjago  Rise of the Villains  2018   \n",
       "5                    Duplo                   NaN  2018   \n",
       "6                Star Wars             Episode V  2018   \n",
       "7   DC Comics Super Heroes         Mighty Micros  2018   \n",
       "8                  Friends                   NaN  2018   \n",
       "9                Minecraft         Minifig-scale  2018   \n",
       "10                   Duplo                   NaN  2018   \n",
       "11                   Duplo                   NaN  2018   \n",
       "12            Nexo Knights              Ultimate  2018   \n",
       "13              Dimensions              Fun Pack  2018   \n",
       "14                    City                  Fire  2018   \n",
       "15                  Mixels              Series 9  2018   \n",
       "16                 Ninjago  Rise of the Villains  2018   \n",
       "17         Advanced Models     Modular Buildings  2018   \n",
       "18                  Mixels              Series 7  2018   \n",
       "19                 Creator                   NaN  2018   \n",
       "\n",
       "                        name  pieces  us_price  \\\n",
       "0             Robin vs. Bane    77.0      9.99   \n",
       "1       Ultra Stealth Raider  1093.0    119.99   \n",
       "2               Burj Khalifa   333.0     39.99   \n",
       "3             Lakeside Lodge   368.0     29.99   \n",
       "4       Ultra Stealth Raider  1093.0    119.99   \n",
       "5       My First Caterpillar    19.0      9.99   \n",
       "6                Hoth Attack   233.0     24.99   \n",
       "7             Robin vs. Bane    77.0      9.99   \n",
       "8   Emma's Creative Workshop   108.0      9.99   \n",
       "9               The Fortress     NaN    109.99   \n",
       "10              Baby Animals    13.0      9.99   \n",
       "11             Police Patrol    15.0     14.99   \n",
       "12          Ultimate Lavaria    69.0      9.99   \n",
       "13       Fun Pack: Doc Brown    69.0     14.99   \n",
       "14               Fire Engine   376.0     49.99   \n",
       "15                    Sweepz    61.0      4.99   \n",
       "16      Ultra Stealth Raider  1093.0    119.99   \n",
       "17                Brick Bank  2380.0    169.99   \n",
       "18                   Mixadel    63.0      4.99   \n",
       "19            Lakeside Lodge   368.0     29.99   \n",
       "\n",
       "                                            image_url  quantity  \n",
       "0   http://images.brickset.com/sets/images/76062-1...         1  \n",
       "1   http://images.brickset.com/sets/images/70595-1...         1  \n",
       "2   http://images.brickset.com/sets/images/21031-1...         1  \n",
       "3   http://images.brickset.com/sets/images/31048-1...         1  \n",
       "4   http://images.brickset.com/sets/images/70595-1...         1  \n",
       "5   http://images.brickset.com/sets/images/10831-1...         1  \n",
       "6   http://images.brickset.com/sets/images/75138-1...         1  \n",
       "7   http://images.brickset.com/sets/images/76062-1...         3  \n",
       "8   http://images.brickset.com/sets/images/41115-1...         1  \n",
       "9   http://images.brickset.com/sets/images/21127-1...         2  \n",
       "10  http://images.brickset.com/sets/images/10801-1...         1  \n",
       "11  http://images.brickset.com/sets/images/10809-1...         1  \n",
       "12  http://images.brickset.com/sets/images/70335-1...         2  \n",
       "13  http://images.brickset.com/sets/images/71230-1...         1  \n",
       "14  http://images.brickset.com/sets/images/60112-1...         1  \n",
       "15                                                NaN         1  \n",
       "16  http://images.brickset.com/sets/images/70595-1...         1  \n",
       "17  http://images.brickset.com/sets/images/10251-1...         1  \n",
       "18  http://images.brickset.com/sets/images/41558-1...         1  \n",
       "19  http://images.brickset.com/sets/images/31048-1...         1  "
      ]
     },
     "execution_count": 370,
     "metadata": {},
     "output_type": "execute_result"
    }
   ],
   "source": [
    "#I have to set the path to data or else it does know where the data is\n",
    "#0] Read in the .csv file and display it\n",
    "\n",
    "DF = pd.read_csv(\"data/lego-sales.csv\")\n",
    "#Displaying it\n",
    "\n",
    "DF.head(20)\n",
    "#print(DF)"
   ]
  },
  {
   "cell_type": "code",
   "execution_count": 372,
   "id": "d2afe3d5-d754-497b-81c2-7bda89771586",
   "metadata": {},
   "outputs": [
    {
     "name": "stdout",
     "output_type": "stream",
     "text": [
      "(620, 14)\n",
      "first_name       object\n",
      "last_name        object\n",
      "age               int64\n",
      "phone_number     object\n",
      "set_id            int64\n",
      "number           object\n",
      "theme            object\n",
      "subtheme         object\n",
      "year              int64\n",
      "name             object\n",
      "pieces          float64\n",
      "us_price        float64\n",
      "image_url        object\n",
      "quantity          int64\n",
      "dtype: object\n",
      "Index(['first_name', 'last_name', 'age', 'phone_number', 'set_id', 'number',\n",
      "       'theme', 'subtheme', 'year', 'name', 'pieces', 'us_price', 'image_url',\n",
      "       'quantity'],\n",
      "      dtype='object')\n"
     ]
    },
    {
     "data": {
      "text/plain": [
       "14"
      ]
     },
     "execution_count": 372,
     "metadata": {},
     "output_type": "execute_result"
    }
   ],
   "source": [
    "#1] Describe what you see in the data set. \n",
    "\n",
    "#After Interacting with the data in the dataframe I know that there are 13 variables. These variables range\n",
    "#from first, last name, age, phone number, theme, year, pieces, US_price, quantity, and so on. There are \n",
    "#a total of 620 observations that we can get using the len function, shape function, or describe function. \n",
    "#Id also like to note that the max age of participants is 68, and the min is 16. The mean is 34 so this means we\n",
    "#have data that predominately consist of middle aged indiviudals. Even if we look at the 75th percentile of \n",
    "#our data we see that 68 may be an outlier skewing our results.\n",
    "print(DF.shape)\n",
    "print(DF.dtypes)\n",
    "print(DF.columns)\n",
    "DF.describe()\n",
    "\n",
    "len(DF.columns)\n"
   ]
  },
  {
   "cell_type": "code",
   "execution_count": 374,
   "id": "eb32eb06-b9a2-46bf-9d40-9470e7884a95",
   "metadata": {},
   "outputs": [
    {
     "name": "stdout",
     "output_type": "stream",
     "text": [
      "The first three common names of purchasers are: first_name\n",
      "Jackson    13\n",
      "Joseph     11\n",
      "Jacob      11\n",
      "Name: count, dtype: int64\n"
     ]
    }
   ],
   "source": [
    "#2] Three most common first names of purchasers\n",
    "focal_column = \"first_name\"\n",
    "top_3_names = DF[focal_column].value_counts().head(3)\n",
    "print(f\"The first three common names of purchasers are: {top_3_names}\")\n",
    "\n",
    "#The three most common first names of purchasers are Jackson, Joseph and Jacob. "
   ]
  },
  {
   "cell_type": "code",
   "execution_count": 376,
   "id": "f3d82b77-a631-49fb-ac97-2390b4db6ae3",
   "metadata": {},
   "outputs": [
    {
     "name": "stdout",
     "output_type": "stream",
     "text": [
      "The three most common themes of legos are: theme\n",
      "Star Wars       75\n",
      "Nexo Knights    64\n",
      "Gear            55\n",
      "Name: count, dtype: int64\n"
     ]
    }
   ],
   "source": [
    "#3] Three most common themes of lego sets purchased\n",
    "focal_column_2 = \"theme\"\n",
    "top_3_theme = DF[focal_column_2].value_counts().head(3)\n",
    "print(f\"The three most common themes of legos are: {top_3_theme}\")\n",
    "\n",
    "#The three most common themes of legos purchased are Star Wars, Nexo Knights and Gear. "
   ]
  },
  {
   "cell_type": "code",
   "execution_count": 378,
   "id": "4227bc0d-1dd1-4a67-aacb-55d4ff5f3b78",
   "metadata": {},
   "outputs": [
    {
     "name": "stdout",
     "output_type": "stream",
     "text": [
      "Among the Star Wars theme, the most common subthemes are: subtheme\n",
      "The Force Awakens            15\n",
      "Buildable Figures            11\n",
      "Episode V                    10\n",
      "MicroFighters                10\n",
      "Battlefront                   7\n",
      "Original Content              7\n",
      "Episode III                   6\n",
      "Rebels                        3\n",
      "Seasonal                      3\n",
      "Episode IV                    2\n",
      "Ultimate Collector Series     1\n",
      "Name: count, dtype: int64\n",
      "\n",
      "############################\n",
      "Among the Star Wars theme, the most common subtheme is: subtheme\n",
      "The Force Awakens    15\n",
      "Name: count, dtype: int64\n"
     ]
    }
   ],
   "source": [
    "#4 Among the most common theme of Lego sets purchased, what is the most common subtheme?\n",
    "\n",
    "#I couldn't use == method so i decided to convert my dataframe into a booleon statement using isin. \n",
    "mask = DF['theme']== 'Star Wars'\n",
    "DF_filtered = DF[mask].copy()\n",
    "top_3_subtheme = DF_filtered['subtheme'].value_counts()\n",
    "top_subtheme =top_3_subtheme.head(1) \n",
    "\n",
    "print(f\"Among the Star Wars theme, the most common subthemes are: {top_3_subtheme}\")\n",
    "\n",
    "print(f\"\\n############################\\nAmong the Star Wars theme, the most common subtheme is: {top_subtheme}\")\n",
    "\n",
    "\n",
    "#Among Star Wars, the most common subtheme is The Force Awakens \n"
   ]
  },
  {
   "cell_type": "code",
   "execution_count": 380,
   "id": "69b0de10-0f6d-4975-b05c-9ff393c297fe",
   "metadata": {},
   "outputs": [],
   "source": [
    "#5 create data frames for each of the ages in the folloiwing categories. Use masks \n",
    "DF['money_spent'] = DF['quantity'] * DF ['us_price']\n",
    "\n",
    "#18 and under\n",
    "neccessary_column = \"age\"\n",
    "mask_18_below = DF[neccessary_column] <= 18\n",
    "DF_under_18 = DF[mask_18_below].copy()\n",
    "\n",
    "#19-25\n",
    "neccessary_column = \"age\"\n",
    "mask_25_below = (DF[neccessary_column] >= 19) & (DF[neccessary_column] <= 25)  #Jesus remember --> and fxn does not work with pandas use & \n",
    "DF_19_25 = DF[mask_25_below].copy()\n",
    "\n",
    "#26 - 35\n",
    "neccessary_column = \"age\"\n",
    "mask_26_35 = (DF[neccessary_column] >= 26) & (DF[neccessary_column] <= 35)  \n",
    "DF_26_35 = DF[mask_26_35].copy()\n",
    "\n",
    "#36-50\n",
    "neccessary_column = \"age\"\n",
    "mask__36_50 = (DF[neccessary_column] >= 36) & (DF[neccessary_column] <= 50)  \n",
    "DF_36_50 = DF[mask__36_50].copy()\n",
    "\n",
    "#51 and over\n",
    "neccessary_column = \"age\"\n",
    "mask_51_over = DF[neccessary_column] >= 51\n",
    "DF_51_over = DF[mask_51_over].copy()\n",
    "\n",
    "\n"
   ]
  },
  {
   "cell_type": "code",
   "execution_count": 382,
   "id": "7214b5b0-31e5-456e-8117-679549cf6610",
   "metadata": {},
   "outputs": [
    {
     "name": "stdout",
     "output_type": "stream",
     "text": [
      "The age who purchased the highest amount of lego sets is 36_and_50 year olds who purchased 313 legos\n"
     ]
    }
   ],
   "source": [
    "#6.  Which age group has purchased the highest number of Lego sets.\n",
    "\n",
    "group_quantity = {\n",
    "    '18_and_under': DF_under_18['quantity'].sum(), \n",
    "    '19_and_25': DF_19_25['quantity'].sum(), \n",
    "    '26_and_35': DF_26_35['quantity'].sum(),\n",
    "    '36_and_50': DF_36_50['quantity'].sum(), \n",
    "    '51_and_over': DF_51_over['quantity'].sum(),\n",
    "}\n",
    "quant = list(group_quantity.values())\n",
    "group = list(group_quantity.keys())\n",
    "\n",
    "max_quant = max(quant)\n",
    "\n",
    "for i in range(len(quant)): \n",
    "    if quant[i] == max_quant: \n",
    "        print(f\"The age who purchased the highest amount of lego sets is {group[i]} year olds who purchased {quant[i]} legos\")\n",
    "\n",
    "# 36 through 50 year olds purchased the highest number of Lego Sets. \n"
   ]
  },
  {
   "cell_type": "code",
   "execution_count": 386,
   "id": "ca8c0d72-3678-4611-bdef-711e5485039a",
   "metadata": {},
   "outputs": [
    {
     "name": "stdout",
     "output_type": "stream",
     "text": [
      "The age who purchased the highest amount of lego sets is 36_and_50_cash who purchased $9532.870000000003 worth of legos\n"
     ]
    }
   ],
   "source": [
    "#7.  Which age group has spent the most money on Legos?\n",
    "\n",
    "group_spent = {\n",
    "    '18_and_under_cash': DF_under_18['money_spent'].sum(), \n",
    "    '19_and_25_cash': DF_19_25['money_spent'].sum(), \n",
    "    '26_and_35_cash': DF_26_35['money_spent'].sum(),\n",
    "    '36_and_50_cash': DF_36_50['money_spent'].sum(), \n",
    "    '51_and_over_cash': DF_51_over['money_spent'].sum(),\n",
    "}\n",
    "\n",
    "quant_money = list(group_spent.values())\n",
    "group_age = list(group_spent.keys())\n",
    "\n",
    "max_money = max(quant_money)\n",
    "\n",
    "for i in range(len(quant_money)): \n",
    "    if quant_money[i] == max_money: \n",
    "         print(f\"The age who purchased the highest amount of lego sets is {group_age[i]} who purchased ${quant_money[i]} worth of legos\")\n",
    "\n",
    "\n",
    "#36 and 50 year olds have spent the most money on legos. "
   ]
  },
  {
   "cell_type": "code",
   "execution_count": 388,
   "id": "fc2f5b4b-7049-45d6-abfd-7caa298164bd",
   "metadata": {},
   "outputs": [
    {
     "name": "stdout",
     "output_type": "stream",
     "text": [
      "The lego theme that made the most money for lego is            money_spent\n",
      "theme                 \n",
      "Star Wars      4447.83\n"
     ]
    }
   ],
   "source": [
    "#8  Which Lego theme has made the most money for Lego?\n",
    "focal_column_2 = ['theme', 'money_spent'] \n",
    "\n",
    "highest_theme = DF[focal_column_2].groupby('theme').sum().sort_values('money_spent', ascending=False).head(1)\n",
    "highest_theme\n",
    "\n",
    "print(f\"The lego theme that made the most money for lego is {highest_theme}\")\n",
    "\n",
    "#Star Wars has made the most money for Lego"
   ]
  },
  {
   "cell_type": "code",
   "execution_count": 390,
   "id": "1b2ff69b-2bd0-4280-90fb-4c59092dc930",
   "metadata": {},
   "outputs": [
    {
     "name": "stdout",
     "output_type": "stream",
     "text": [
      "The area code that has spent the most money on legos is            money_spent\n",
      "area_code             \n",
      "956             719.96\n"
     ]
    }
   ],
   "source": [
    "#9.  Which area code has spent the most money on Legos? In the US the area code is the first 3 digits of a phone number. \n",
    "\n",
    "DF['area_code'] = DF['phone_number'].str[:3]\n",
    "\n",
    "focal_column_3 = ['area_code', 'money_spent'] \n",
    "\n",
    "highest_area_code= DF[focal_column_3].groupby('area_code').sum().sort_values('money_spent', ascending=False).head(1)\n",
    "highest_area_code\n",
    "\n",
    "DF['area_code'] = DF['phone_number'].str[:3]\n",
    "\n",
    "print(f\"The area code that has spent the most money on legos is {highest_area_code}\")\n",
    "\n",
    "#The area code that has spent the most money on legos os 956."
   ]
  },
  {
   "cell_type": "code",
   "execution_count": 401,
   "id": "103b6d60-1a21-4d09-b3be-1580856b605a",
   "metadata": {},
   "outputs": [
    {
     "data": {
      "text/html": [
       "<div>\n",
       "<style scoped>\n",
       "    .dataframe tbody tr th:only-of-type {\n",
       "        vertical-align: middle;\n",
       "    }\n",
       "\n",
       "    .dataframe tbody tr th {\n",
       "        vertical-align: top;\n",
       "    }\n",
       "\n",
       "    .dataframe thead th {\n",
       "        text-align: right;\n",
       "    }\n",
       "</style>\n",
       "<table border=\"1\" class=\"dataframe\">\n",
       "  <thead>\n",
       "    <tr style=\"text-align: right;\">\n",
       "      <th></th>\n",
       "      <th>money_spent</th>\n",
       "      <th>average_spent</th>\n",
       "    </tr>\n",
       "    <tr>\n",
       "      <th>area_code</th>\n",
       "      <th></th>\n",
       "      <th></th>\n",
       "    </tr>\n",
       "  </thead>\n",
       "  <tbody>\n",
       "    <tr>\n",
       "      <th>647</th>\n",
       "      <td>79.95</td>\n",
       "      <td>359.980000</td>\n",
       "    </tr>\n",
       "    <tr>\n",
       "      <th>802</th>\n",
       "      <td>79.98</td>\n",
       "      <td>169.980000</td>\n",
       "    </tr>\n",
       "    <tr>\n",
       "      <th>305</th>\n",
       "      <td>79.96</td>\n",
       "      <td>144.990000</td>\n",
       "    </tr>\n",
       "    <tr>\n",
       "      <th>856</th>\n",
       "      <td>79.96</td>\n",
       "      <td>124.990000</td>\n",
       "    </tr>\n",
       "    <tr>\n",
       "      <th>952</th>\n",
       "      <td>65.97</td>\n",
       "      <td>114.985000</td>\n",
       "    </tr>\n",
       "    <tr>\n",
       "      <th>...</th>\n",
       "      <td>...</td>\n",
       "      <td>...</td>\n",
       "    </tr>\n",
       "    <tr>\n",
       "      <th>760</th>\n",
       "      <td>99.98</td>\n",
       "      <td>8.323333</td>\n",
       "    </tr>\n",
       "    <tr>\n",
       "      <th>918</th>\n",
       "      <td>49.98</td>\n",
       "      <td>7.490000</td>\n",
       "    </tr>\n",
       "    <tr>\n",
       "      <th>212</th>\n",
       "      <td>24.99</td>\n",
       "      <td>5.490000</td>\n",
       "    </tr>\n",
       "    <tr>\n",
       "      <th>716</th>\n",
       "      <td>19.98</td>\n",
       "      <td>4.990000</td>\n",
       "    </tr>\n",
       "    <tr>\n",
       "      <th>671</th>\n",
       "      <td>25.98</td>\n",
       "      <td>4.990000</td>\n",
       "    </tr>\n",
       "  </tbody>\n",
       "</table>\n",
       "<p>156 rows × 2 columns</p>\n",
       "</div>"
      ],
      "text/plain": [
       "           money_spent  average_spent\n",
       "area_code                            \n",
       "647              79.95     359.980000\n",
       "802              79.98     169.980000\n",
       "305              79.96     144.990000\n",
       "856              79.96     124.990000\n",
       "952              65.97     114.985000\n",
       "...                ...            ...\n",
       "760              99.98       8.323333\n",
       "918              49.98       7.490000\n",
       "212              24.99       5.490000\n",
       "716              19.98       4.990000\n",
       "671              25.98       4.990000\n",
       "\n",
       "[156 rows x 2 columns]"
      ]
     },
     "execution_count": 401,
     "metadata": {},
     "output_type": "execute_result"
    }
   ],
   "source": [
    "#9 Use a for loop calculate the average money spent per customer for each area code.\n",
    "customers = DF['area_code'].value_counts()\n",
    "#This tells us how many customers are in an area. Now all we need to get is how much each area code spent (which we got) and divide that\n",
    "# by customers. I could not figure out how to do this so I really took time to understand the code provided in the solution. \n",
    "\n",
    "area_code_spent= DF[focal_column_3].groupby('area_code').sum().sort_values('money_spent', ascending=False)\n",
    "\n",
    "#Average_spent is like a bucket where we will put average values we get. The for loop loops through our area code and customers. \n",
    "average_spent = []\n",
    "for c in customers.items():\n",
    "    average_spent.append(area_code_spent.loc[c[0]]['money_spent']/c[1]) #This code is adding to our list by looking at a specific area code and their\n",
    "                                                                         #total spending and dividng it my customers\n",
    "\n",
    "\n",
    "area_code_spent['average_spent'] = average_spent\n",
    "area_code_spent.sort_values('average_spent',ascending=False)\n",
    "\n",
    "#The Area code that has spent the most money on Legos is 956. The average amount spent on legos is on the table below \n"
   ]
  },
  {
   "cell_type": "markdown",
   "id": "3577b95b-2f2f-429e-8fe3-85c9c61f4f07",
   "metadata": {},
   "source": [
    "## 10) My Own Question: Does the number of pieces result in a higher price? \n",
    "I will be visualizing my data to explore this question"
   ]
  },
  {
   "cell_type": "code",
   "execution_count": 404,
   "id": "7a6ccb4c-da53-4238-98ca-109493b25da7",
   "metadata": {},
   "outputs": [
    {
     "data": {
      "application/vnd.plotly.v1+json": {
       "config": {
        "plotlyServerURL": "https://plot.ly"
       },
       "data": [
        {
         "hovertemplate": "theme=DC Comics Super Heroes<br>pieces=%{x}<br>us_price=%{y}<br>quantity=%{marker.size}<extra></extra>",
         "legendgroup": "DC Comics Super Heroes",
         "marker": {
          "color": "#636efa",
          "size": [
           1,
           3,
           2,
           1,
           3,
           1,
           1,
           1,
           1,
           2,
           2,
           1,
           1,
           2,
           1,
           3,
           1,
           1,
           1,
           1,
           3,
           2
          ],
          "sizemode": "area",
          "sizeref": 0.0125,
          "symbol": "circle"
         },
         "mode": "markers",
         "name": "DC Comics Super Heroes",
         "orientation": "v",
         "showlegend": true,
         "type": "scatter",
         "x": [
          77,
          77,
          563,
          517,
          224,
          224,
          92,
          79,
          92,
          88,
          63,
          759,
          92,
          92,
          63,
          92,
          77,
          563,
          63,
          63,
          88,
          88
         ],
         "xaxis": "x",
         "y": [
          9.99,
          9.99,
          59.99,
          59.99,
          19.99,
          19.99,
          12.99,
          9.99,
          12.99,
          9.99,
          3.99,
          79.99,
          12.99,
          12.99,
          3.99,
          12.99,
          9.99,
          59.99,
          3.99,
          3.99,
          9.99,
          9.99
         ],
         "yaxis": "y"
        },
        {
         "hovertemplate": "theme=Ninjago<br>pieces=%{x}<br>us_price=%{y}<br>quantity=%{marker.size}<extra></extra>",
         "legendgroup": "Ninjago",
         "marker": {
          "color": "#EF553B",
          "size": [
           1,
           1,
           1,
           2,
           1,
           3,
           1,
           1,
           2,
           2,
           1,
           1,
           4,
           1,
           2,
           2,
           1,
           1,
           3,
           1,
           1,
           1,
           2,
           1,
           2,
           1,
           1,
           1,
           2,
           4,
           2,
           1,
           1,
           1,
           1,
           1,
           2,
           2
          ],
          "sizemode": "area",
          "sizeref": 0.0125,
          "symbol": "circle"
         },
         "mode": "markers",
         "name": "Ninjago",
         "orientation": "v",
         "showlegend": true,
         "type": "scatter",
         "x": [
          1093,
          1093,
          1093,
          70,
          666,
          567,
          406,
          450,
          231,
          98,
          294,
          70,
          342,
          754,
          221,
          294,
          207,
          350,
          70,
          221,
          231,
          439,
          754,
          567,
          70,
          221,
          350,
          1253,
          70,
          231,
          439,
          567,
          294,
          221,
          567,
          567,
          221,
          1253
         ],
         "xaxis": "x",
         "y": [
          119.99,
          119.99,
          119.99,
          7.99,
          59.99,
          49.99,
          39.99,
          49.99,
          19.99,
          9.99,
          29.99,
          7.99,
          29.99,
          79.99,
          19.99,
          29.99,
          19.99,
          29.99,
          7.99,
          19.99,
          19.99,
          39.99,
          79.99,
          49.99,
          7.99,
          19.99,
          29.99,
          119.99,
          7.99,
          19.99,
          39.99,
          49.99,
          29.99,
          19.99,
          49.99,
          49.99,
          19.99,
          119.99
         ],
         "yaxis": "y"
        },
        {
         "hovertemplate": "theme=Architecture<br>pieces=%{x}<br>us_price=%{y}<br>quantity=%{marker.size}<extra></extra>",
         "legendgroup": "Architecture",
         "marker": {
          "color": "#00cc96",
          "size": [
           1,
           3,
           2,
           1,
           1,
           2,
           1,
           1,
           1,
           2
          ],
          "sizemode": "area",
          "sizeref": 0.0125,
          "symbol": "circle"
         },
         "mode": "markers",
         "name": "Architecture",
         "orientation": "v",
         "showlegend": true,
         "type": "scatter",
         "x": [
          333,
          333,
          598,
          598,
          333,
          212,
          289,
          212,
          289,
          289
         ],
         "xaxis": "x",
         "y": [
          39.99,
          39.99,
          59.99,
          59.99,
          39.99,
          29.99,
          29.99,
          29.99,
          29.99,
          29.99
         ],
         "yaxis": "y"
        },
        {
         "hovertemplate": "theme=Creator<br>pieces=%{x}<br>us_price=%{y}<br>quantity=%{marker.size}<extra></extra>",
         "legendgroup": "Creator",
         "marker": {
          "color": "#ab63fa",
          "size": [
           1,
           1,
           1,
           1,
           2,
           1,
           1,
           1,
           1,
           1,
           1,
           1,
           2,
           2,
           1,
           3,
           2,
           1,
           2,
           1,
           2,
           1,
           1,
           2,
           2
          ],
          "sizemode": "area",
          "sizeref": 0.0125,
          "symbol": "circle"
         },
         "mode": "markers",
         "name": "Creator",
         "orientation": "v",
         "showlegend": true,
         "type": "scatter",
         "x": [
          368,
          368,
          222,
          222,
          124,
          202,
          65,
          213,
          64,
          202,
          467,
          368,
          222,
          202,
          64,
          64,
          467,
          124,
          124,
          65,
          124,
          124,
          230,
          100,
          202
         ],
         "xaxis": "x",
         "y": [
          29.99,
          29.99,
          19.99,
          19.99,
          9.99,
          14.99,
          4.99,
          14.99,
          4.99,
          14.99,
          39.99,
          29.99,
          19.99,
          14.99,
          4.99,
          4.99,
          39.99,
          9.99,
          9.99,
          4.99,
          9.99,
          9.99,
          19.99,
          9.99,
          14.99
         ],
         "yaxis": "y"
        },
        {
         "hovertemplate": "theme=Duplo<br>pieces=%{x}<br>us_price=%{y}<br>quantity=%{marker.size}<extra></extra>",
         "legendgroup": "Duplo",
         "marker": {
          "color": "#FFA15A",
          "size": [
           1,
           1,
           1,
           1,
           2,
           1,
           1,
           1,
           1,
           1,
           1,
           1,
           1,
           1,
           1,
           1,
           3,
           2,
           3,
           2,
           1,
           2,
           1,
           1,
           1,
           1,
           2,
           2,
           1,
           2,
           1,
           1,
           2,
           1,
           4
          ],
          "sizemode": "area",
          "sizeref": 0.0125,
          "symbol": "circle"
         },
         "mode": "markers",
         "name": "Duplo",
         "orientation": "v",
         "showlegend": true,
         "type": "scatter",
         "x": [
          19,
          13,
          15,
          27,
          29,
          27,
          15,
          29,
          86,
          15,
          20,
          27,
          70,
          18,
          18,
          28,
          40,
          18,
          25,
          86,
          40,
          13,
          86,
          40,
          40,
          40,
          36,
          25,
          70,
          44,
          86,
          20,
          40,
          28,
          27
         ],
         "xaxis": "x",
         "y": [
          9.99,
          9.99,
          14.99,
          19.99,
          19.99,
          19.99,
          19.99,
          19.99,
          49.99,
          14.99,
          14.99,
          19.99,
          29.99,
          9.99,
          19.99,
          19.99,
          29.99,
          19.99,
          19.99,
          49.99,
          29.99,
          9.99,
          49.99,
          29.99,
          29.99,
          29.99,
          19.99,
          19.99,
          29.99,
          34.99,
          49.99,
          14.99,
          29.99,
          19.99,
          19.99
         ],
         "yaxis": "y"
        },
        {
         "hovertemplate": "theme=Star Wars<br>pieces=%{x}<br>us_price=%{y}<br>quantity=%{marker.size}<extra></extra>",
         "legendgroup": "Star Wars",
         "marker": {
          "color": "#19d3f3",
          "size": [
           1,
           1,
           2,
           1,
           2,
           1,
           1,
           3,
           1,
           1,
           1,
           1,
           1,
           1,
           2,
           1,
           2,
           2,
           1,
           2,
           1,
           1,
           2,
           3,
           1,
           4,
           1,
           2,
           1,
           1,
           1,
           3,
           1,
           2,
           1,
           2,
           1,
           1,
           1,
           2,
           3,
           1,
           1,
           2,
           2,
           1,
           1,
           1,
           1,
           1,
           2,
           2,
           2,
           2,
           1,
           1,
           2,
           3,
           1,
           1,
           2,
           1,
           4,
           1,
           1,
           2,
           1,
           1,
           1,
           3,
           1,
           2,
           1,
           4,
           1
          ],
          "sizemode": "area",
          "sizeref": 0.0125,
          "symbol": "circle"
         },
         "mode": "markers",
         "name": "Star Wars",
         "orientation": "v",
         "showlegend": true,
         "type": "scatter",
         "x": [
          233,
          409,
          101,
          903,
          91,
          98,
          2144,
          972,
          76,
          363,
          233,
          646,
          409,
          98,
          109,
          81,
          558,
          101,
          98,
          101,
          409,
          215,
          282,
          102,
          215,
          215,
          646,
          972,
          233,
          231,
          88,
          740,
          197,
          282,
          84,
          197,
          82,
          109,
          88,
          231,
          98,
          87,
          84,
          646,
          82,
          558,
          233,
          558,
          91,
          112,
          233,
          231,
          101,
          215,
          87,
          363,
          231,
          98,
          84,
          740,
          409,
          104,
          282,
          101,
          530,
          233,
          363,
          76,
          81,
          88,
          903,
          702,
          91,
          363,
          740
         ],
         "xaxis": "x",
         "y": [
          24.99,
          59.99,
          12.99,
          109.99,
          9.99,
          24.99,
          249.99,
          119.99,
          9.99,
          29.99,
          24.99,
          69.99,
          59.99,
          24.99,
          12.99,
          19.99,
          49.99,
          12.99,
          24.99,
          12.99,
          59.99,
          24.99,
          39.99,
          24.99,
          24.99,
          24.99,
          69.99,
          119.99,
          24.99,
          24.99,
          12.99,
          79.99,
          24.99,
          39.99,
          19.99,
          24.99,
          24.99,
          12.99,
          12.99,
          24.99,
          24.99,
          9.99,
          9.99,
          69.99,
          24.99,
          49.99,
          24.99,
          49.99,
          9.99,
          12.99,
          24.99,
          24.99,
          12.99,
          24.99,
          9.99,
          29.99,
          24.99,
          24.99,
          9.99,
          79.99,
          59.99,
          9.99,
          39.99,
          12.99,
          59.99,
          24.99,
          29.99,
          9.99,
          19.99,
          12.99,
          109.99,
          89.99,
          9.99,
          29.99,
          79.99
         ],
         "yaxis": "y"
        },
        {
         "hovertemplate": "theme=Friends<br>pieces=%{x}<br>us_price=%{y}<br>quantity=%{marker.size}<extra></extra>",
         "legendgroup": "Friends",
         "marker": {
          "color": "#FF6692",
          "size": [
           1,
           1,
           1,
           2,
           3,
           2,
           1,
           1,
           1,
           3,
           1,
           1,
           2,
           1,
           1,
           2,
           3,
           1,
           1,
           1,
           1,
           1,
           1,
           1,
           1,
           1,
           1,
           1,
           1,
           1,
           1,
           2,
           1,
           1,
           2,
           1,
           2,
           1,
           1,
           2,
           1,
           1
          ],
          "sizemode": "area",
          "sizeref": 0.0125,
          "symbol": "circle"
         },
         "mode": "markers",
         "name": "Friends",
         "orientation": "v",
         "showlegend": true,
         "type": "scatter",
         "x": [
          108,
          194,
          439,
          54,
          597,
          54,
          439,
          726,
          114,
          597,
          320,
          108,
          54,
          597,
          52,
          313,
          52,
          108,
          439,
          114,
          313,
          52,
          109,
          313,
          191,
          52,
          52,
          185,
          313,
          320,
          185,
          313,
          109,
          114,
          320,
          114,
          313,
          52,
          597,
          108,
          114,
          320
         ],
         "xaxis": "x",
         "y": [
          9.99,
          19.99,
          39.99,
          4.99,
          49.99,
          4.99,
          39.99,
          79.99,
          9.99,
          49.99,
          29.99,
          9.99,
          4.99,
          49.99,
          4.99,
          29.99,
          4.99,
          9.99,
          39.99,
          9.99,
          29.99,
          4.99,
          9.99,
          29.99,
          19.99,
          4.99,
          4.99,
          14.99,
          29.99,
          29.99,
          14.99,
          29.99,
          9.99,
          9.99,
          29.99,
          9.99,
          29.99,
          4.99,
          49.99,
          9.99,
          9.99,
          29.99
         ],
         "yaxis": "y"
        },
        {
         "hovertemplate": "theme=Minecraft<br>pieces=%{x}<br>us_price=%{y}<br>quantity=%{marker.size}<extra></extra>",
         "legendgroup": "Minecraft",
         "marker": {
          "color": "#B6E880",
          "size": [
           2,
           1,
           1,
           1,
           1,
           1,
           1,
           1,
           1
          ],
          "sizemode": "area",
          "sizeref": 0.0125,
          "symbol": "circle"
         },
         "mode": "markers",
         "name": "Minecraft",
         "orientation": "v",
         "showlegend": true,
         "type": "scatter",
         "x": [
          null,
          null,
          null,
          null,
          null,
          null,
          null,
          null,
          null
         ],
         "xaxis": "x",
         "y": [
          109.99,
          199.99,
          199.99,
          109.99,
          199.99,
          109.99,
          199.99,
          109.99,
          199.99
         ],
         "yaxis": "y"
        },
        {
         "hovertemplate": "theme=Nexo Knights<br>pieces=%{x}<br>us_price=%{y}<br>quantity=%{marker.size}<extra></extra>",
         "legendgroup": "Nexo Knights",
         "marker": {
          "color": "#FF97FF",
          "size": [
           2,
           1,
           1,
           2,
           1,
           1,
           1,
           1,
           1,
           1,
           1,
           2,
           2,
           1,
           2,
           2,
           2,
           2,
           1,
           1,
           1,
           1,
           4,
           1,
           2,
           1,
           1,
           1,
           1,
           1,
           2,
           2,
           1,
           2,
           1,
           1,
           1,
           1,
           2,
           1,
           1,
           2,
           3,
           2,
           2,
           1,
           1,
           2,
           1,
           1,
           1,
           1,
           2,
           1,
           1,
           2,
           3,
           1,
           1,
           2,
           1,
           2,
           2,
           1
          ],
          "sizemode": "area",
          "sizeref": 0.0125,
          "symbol": "circle"
         },
         "mode": "markers",
         "name": "Nexo Knights",
         "orientation": "v",
         "showlegend": true,
         "type": "scatter",
         "x": [
          69,
          375,
          76,
          72,
          658,
          202,
          202,
          75,
          187,
          101,
          237,
          530,
          82,
          301,
          237,
          76,
          314,
          82,
          95,
          253,
          76,
          530,
          202,
          75,
          67,
          75,
          237,
          76,
          69,
          75,
          65,
          187,
          375,
          301,
          93,
          76,
          288,
          367,
          72,
          75,
          1186,
          187,
          67,
          516,
          367,
          301,
          72,
          670,
          72,
          65,
          237,
          72,
          301,
          530,
          64,
          72,
          253,
          1140,
          1140,
          530,
          288,
          76,
          237,
          82
         ],
         "xaxis": "x",
         "y": [
          9.99,
          29.99,
          9.99,
          9.99,
          59.99,
          19.99,
          19.99,
          9.99,
          19.99,
          9.99,
          19.99,
          39.99,
          9.99,
          29.99,
          19.99,
          9.99,
          29.99,
          9.99,
          9.99,
          24.99,
          9.99,
          39.99,
          19.99,
          9.99,
          9.99,
          9.99,
          19.99,
          9.99,
          9.99,
          9.99,
          9.99,
          19.99,
          29.99,
          29.99,
          9.99,
          9.99,
          24.99,
          39.99,
          9.99,
          9.99,
          119.99,
          19.99,
          9.99,
          49.99,
          39.99,
          29.99,
          9.99,
          69.99,
          9.99,
          9.99,
          19.99,
          9.99,
          29.99,
          39.99,
          9.99,
          9.99,
          24.99,
          99.99,
          99.99,
          39.99,
          24.99,
          9.99,
          19.99,
          9.99
         ],
         "yaxis": "y"
        },
        {
         "hovertemplate": "theme=Dimensions<br>pieces=%{x}<br>us_price=%{y}<br>quantity=%{marker.size}<extra></extra>",
         "legendgroup": "Dimensions",
         "marker": {
          "color": "#FECB52",
          "size": [
           1,
           2,
           1,
           1,
           1,
           1,
           2,
           1,
           1,
           2,
           1,
           1,
           2,
           1,
           1,
           1,
           1,
           3
          ],
          "sizemode": "area",
          "sizeref": 0.0125,
          "symbol": "circle"
         },
         "mode": "markers",
         "name": "Dimensions",
         "orientation": "v",
         "showlegend": true,
         "type": "scatter",
         "x": [
          69,
          96,
          40,
          115,
          33,
          40,
          92,
          115,
          96,
          65,
          58,
          115,
          33,
          40,
          40,
          58,
          96,
          33
         ],
         "xaxis": "x",
         "y": [
          14.99,
          29.99,
          14.99,
          29.99,
          14.99,
          14.99,
          24.99,
          29.99,
          29.99,
          14.99,
          14.99,
          29.99,
          14.99,
          14.99,
          14.99,
          14.99,
          29.99,
          14.99
         ],
         "yaxis": "y"
        },
        {
         "hovertemplate": "theme=City<br>pieces=%{x}<br>us_price=%{y}<br>quantity=%{marker.size}<extra></extra>",
         "legendgroup": "City",
         "marker": {
          "color": "#636efa",
          "size": [
           1,
           1,
           2,
           1,
           1,
           1,
           1,
           1,
           1,
           1,
           1,
           1,
           1,
           2,
           2,
           1,
           1,
           2,
           2,
           1,
           5,
           2,
           1,
           2,
           1,
           1,
           1,
           2,
           2,
           1,
           1,
           4,
           1,
           1,
           1,
           2,
           1,
           1,
           3,
           1,
           1,
           1,
           1,
           1,
           2
          ],
          "sizemode": "area",
          "sizeref": 0.0125,
          "symbol": "circle"
         },
         "mode": "markers",
         "name": "City",
         "orientation": "v",
         "showlegend": true,
         "type": "scatter",
         "x": [
          376,
          248,
          257,
          47,
          53,
          53,
          412,
          248,
          104,
          53,
          64,
          412,
          368,
          412,
          250,
          200,
          64,
          183,
          53,
          53,
          47,
          250,
          214,
          754,
          244,
          200,
          200,
          90,
          26,
          26,
          754,
          368,
          92,
          257,
          92,
          368,
          412,
          183,
          754,
          301,
          90,
          376,
          95,
          176,
          412
         ],
         "xaxis": "x",
         "y": [
          49.99,
          19.99,
          39.99,
          3.99,
          3.99,
          3.99,
          79.99,
          19.99,
          9.99,
          3.99,
          6.99,
          79.99,
          39.99,
          79.99,
          19.99,
          49.99,
          6.99,
          19.99,
          3.99,
          3.99,
          3.99,
          19.99,
          24.99,
          89.99,
          29.99,
          49.99,
          49.99,
          9.99,
          14.99,
          14.99,
          89.99,
          39.99,
          9.99,
          39.99,
          9.99,
          39.99,
          79.99,
          19.99,
          89.99,
          29.99,
          9.99,
          49.99,
          9.99,
          19.99,
          79.99
         ],
         "yaxis": "y"
        },
        {
         "hovertemplate": "theme=Mixels<br>pieces=%{x}<br>us_price=%{y}<br>quantity=%{marker.size}<extra></extra>",
         "legendgroup": "Mixels",
         "marker": {
          "color": "#EF553B",
          "size": [
           1,
           1,
           2,
           1,
           1,
           2,
           1,
           2,
           1,
           1,
           1,
           1,
           1,
           2,
           1,
           1,
           1,
           5,
           2,
           1,
           2,
           1,
           1,
           1,
           1,
           2,
           2,
           1,
           1,
           4,
           1,
           1,
           1,
           2,
           2,
           2,
           1,
           2,
           1,
           1,
           2,
           2,
           1,
           1,
           2,
           4,
           1,
           1,
           1,
           2,
           1,
           1,
           1,
           2,
           2
          ],
          "sizemode": "area",
          "sizeref": 0.0125,
          "symbol": "circle"
         },
         "mode": "markers",
         "name": "Mixels",
         "orientation": "v",
         "showlegend": true,
         "type": "scatter",
         "x": [
          61,
          63,
          64,
          61,
          62,
          69,
          61,
          63,
          62,
          55,
          70,
          62,
          66,
          66,
          66,
          63,
          64,
          70,
          62,
          64,
          54,
          63,
          64,
          61,
          68,
          57,
          60,
          64,
          60,
          70,
          54,
          63,
          68,
          63,
          57,
          63,
          61,
          70,
          63,
          67,
          60,
          67,
          64,
          61,
          64,
          70,
          66,
          62,
          70,
          67,
          63,
          66,
          64,
          62,
          63
         ],
         "xaxis": "x",
         "y": [
          4.99,
          4.99,
          4.99,
          4.99,
          4.99,
          4.99,
          4.99,
          4.99,
          4.99,
          4.99,
          4.99,
          4.99,
          4.99,
          4.99,
          4.99,
          4.99,
          4.99,
          4.99,
          4.99,
          4.99,
          4.99,
          4.99,
          4.99,
          4.99,
          4.99,
          4.99,
          4.99,
          4.99,
          4.99,
          4.99,
          4.99,
          4.99,
          4.99,
          4.99,
          4.99,
          4.99,
          4.99,
          4.99,
          4.99,
          4.99,
          4.99,
          4.99,
          4.99,
          4.99,
          4.99,
          4.99,
          4.99,
          4.99,
          4.99,
          4.99,
          4.99,
          4.99,
          4.99,
          4.99,
          4.99
         ],
         "yaxis": "y"
        },
        {
         "hovertemplate": "theme=Advanced Models<br>pieces=%{x}<br>us_price=%{y}<br>quantity=%{marker.size}<extra></extra>",
         "legendgroup": "Advanced Models",
         "marker": {
          "color": "#00cc96",
          "size": [
           1,
           2,
           1,
           1
          ],
          "sizemode": "area",
          "sizeref": 0.0125,
          "symbol": "circle"
         },
         "mode": "markers",
         "name": "Advanced Models",
         "orientation": "v",
         "showlegend": true,
         "type": "scatter",
         "x": [
          2380,
          2380,
          2380,
          2380
         ],
         "xaxis": "x",
         "y": [
          169.99,
          169.99,
          169.99,
          169.99
         ],
         "yaxis": "y"
        },
        {
         "hovertemplate": "theme=Gear<br>pieces=%{x}<br>us_price=%{y}<br>quantity=%{marker.size}<extra></extra>",
         "legendgroup": "Gear",
         "marker": {
          "color": "#ab63fa",
          "size": [
           2,
           1,
           1,
           1,
           2,
           1,
           1,
           1,
           3,
           2,
           1,
           1,
           1,
           1,
           2,
           1,
           1,
           3,
           2,
           2,
           1,
           1,
           1,
           1,
           1,
           1,
           2,
           1,
           1,
           1,
           1,
           2,
           1,
           1,
           1,
           1,
           1,
           1,
           1,
           2,
           4,
           3,
           1,
           2,
           1,
           1,
           1,
           1,
           1,
           3,
           2,
           2,
           1,
           2,
           1
          ],
          "sizemode": "area",
          "sizeref": 0.0125,
          "symbol": "circle"
         },
         "mode": "markers",
         "name": "Gear",
         "orientation": "v",
         "showlegend": true,
         "type": "scatter",
         "x": [
          null,
          null,
          null,
          null,
          null,
          null,
          null,
          null,
          null,
          null,
          null,
          null,
          null,
          null,
          null,
          null,
          null,
          null,
          null,
          null,
          null,
          null,
          null,
          null,
          null,
          null,
          null,
          null,
          null,
          null,
          null,
          null,
          null,
          null,
          null,
          null,
          null,
          null,
          null,
          null,
          null,
          null,
          null,
          null,
          null,
          null,
          null,
          null,
          null,
          null,
          null,
          null,
          null,
          null,
          null
         ],
         "xaxis": "x",
         "y": [
          49.99,
          5.99,
          24.99,
          9.99,
          14.99,
          5.99,
          14.99,
          5.99,
          24.99,
          29.99,
          5.99,
          49.99,
          49.99,
          5.99,
          5.99,
          5.99,
          14.99,
          14.99,
          9.99,
          49.99,
          49.99,
          49.99,
          5.99,
          19.99,
          19.99,
          5.99,
          9.99,
          5.99,
          12.99,
          5.99,
          24.99,
          24.99,
          14.99,
          12.99,
          14.99,
          49.99,
          5.99,
          5.99,
          14.99,
          5.99,
          14.99,
          49.99,
          29.99,
          5.99,
          49.99,
          14.99,
          12.99,
          49.99,
          5.99,
          12.99,
          5.99,
          5.99,
          5.99,
          5.99,
          19.99
         ],
         "yaxis": "y"
        },
        {
         "hovertemplate": "theme=Elves<br>pieces=%{x}<br>us_price=%{y}<br>quantity=%{marker.size}<extra></extra>",
         "legendgroup": "Elves",
         "marker": {
          "color": "#FFA15A",
          "size": [
           1,
           1,
           1,
           1,
           1,
           3,
           1,
           1,
           1,
           1,
           1,
           1,
           2,
           1,
           1,
           1,
           1,
           1,
           3,
           2,
           1,
           1
          ],
          "sizemode": "area",
          "sizeref": 0.0125,
          "symbol": "circle"
         },
         "mode": "markers",
         "name": "Elves",
         "orientation": "v",
         "showlegend": true,
         "type": "scatter",
         "x": [
          212,
          212,
          585,
          343,
          585,
          691,
          212,
          212,
          833,
          343,
          441,
          273,
          230,
          691,
          343,
          691,
          80,
          80,
          833,
          273,
          343,
          585
         ],
         "xaxis": "x",
         "y": [
          19.99,
          19.99,
          49.99,
          29.99,
          49.99,
          59.99,
          19.99,
          19.99,
          69.99,
          29.99,
          39.99,
          29.99,
          19.99,
          59.99,
          29.99,
          59.99,
          9.99,
          9.99,
          69.99,
          29.99,
          29.99,
          49.99
         ],
         "yaxis": "y"
        },
        {
         "hovertemplate": "theme=Bionicle<br>pieces=%{x}<br>us_price=%{y}<br>quantity=%{marker.size}<extra></extra>",
         "legendgroup": "Bionicle",
         "marker": {
          "color": "#19d3f3",
          "size": [
           1,
           1,
           2,
           2,
           1,
           1,
           1,
           1,
           1,
           3,
           1,
           1,
           1,
           2,
           1,
           1,
           2,
           1,
           1,
           2,
           1,
           1,
           3,
           1,
           1,
           2,
           1,
           1,
           1,
           1,
           1,
           1,
           2,
           2
          ],
          "sizemode": "area",
          "sizeref": 0.0125,
          "symbol": "circle"
         },
         "mode": "markers",
         "name": "Bionicle",
         "orientation": "v",
         "showlegend": true,
         "type": "scatter",
         "x": [
          74,
          114,
          172,
          143,
          87,
          89,
          87,
          143,
          79,
          109,
          191,
          80,
          90,
          171,
          191,
          77,
          143,
          80,
          89,
          191,
          132,
          89,
          87,
          109,
          109,
          79,
          87,
          80,
          143,
          87,
          74,
          114,
          143,
          171
         ],
         "xaxis": "x",
         "y": [
          9.99,
          14.99,
          19.99,
          19.99,
          14.99,
          9.99,
          14.99,
          19.99,
          14.99,
          14.99,
          24.99,
          9.99,
          14.99,
          24.99,
          24.99,
          9.99,
          19.99,
          9.99,
          9.99,
          24.99,
          19.99,
          9.99,
          14.99,
          14.99,
          14.99,
          14.99,
          14.99,
          9.99,
          19.99,
          14.99,
          9.99,
          14.99,
          19.99,
          24.99
         ],
         "yaxis": "y"
        },
        {
         "hovertemplate": "theme=The Angry Birds Movie<br>pieces=%{x}<br>us_price=%{y}<br>quantity=%{marker.size}<extra></extra>",
         "legendgroup": "The Angry Birds Movie",
         "marker": {
          "color": "#FF6692",
          "size": [
           1,
           1,
           1,
           1,
           2,
           1,
           1,
           1,
           2,
           1,
           1
          ],
          "sizemode": "area",
          "sizeref": 0.0125,
          "symbol": "circle"
         },
         "mode": "markers",
         "name": "The Angry Birds Movie",
         "orientation": "v",
         "showlegend": true,
         "type": "scatter",
         "x": [
          168,
          386,
          168,
          168,
          74,
          620,
          74,
          386,
          859,
          168,
          386
         ],
         "xaxis": "x",
         "y": [
          19.99,
          39.99,
          19.99,
          19.99,
          12.99,
          59.99,
          12.99,
          39.99,
          89.99,
          19.99,
          39.99
         ],
         "yaxis": "y"
        },
        {
         "hovertemplate": "theme=Disney Princess<br>pieces=%{x}<br>us_price=%{y}<br>quantity=%{marker.size}<extra></extra>",
         "legendgroup": "Disney Princess",
         "marker": {
          "color": "#B6E880",
          "size": [
           3,
           1,
           2,
           1,
           1,
           2,
           1,
           1,
           2,
           1,
           1,
           1,
           1,
           1,
           1
          ],
          "sizemode": "area",
          "sizeref": 0.0125,
          "symbol": "circle"
         },
         "mode": "markers",
         "name": "Disney Princess",
         "orientation": "v",
         "showlegend": true,
         "type": "scatter",
         "x": [
          186,
          98,
          98,
          98,
          70,
          79,
          70,
          98,
          98,
          98,
          98,
          174,
          79,
          79,
          70
         ],
         "xaxis": "x",
         "y": [
          19.99,
          9.99,
          9.99,
          9.99,
          5.99,
          9.99,
          5.99,
          9.99,
          9.99,
          9.99,
          9.99,
          29.99,
          9.99,
          9.99,
          5.99
         ],
         "yaxis": "y"
        },
        {
         "hovertemplate": "theme=Marvel Super Heroes<br>pieces=%{x}<br>us_price=%{y}<br>quantity=%{marker.size}<extra></extra>",
         "legendgroup": "Marvel Super Heroes",
         "marker": {
          "color": "#FF97FF",
          "size": [
           1,
           1,
           1,
           1,
           1,
           2,
           2,
           3,
           2,
           1,
           1,
           3,
           3,
           1,
           1,
           1,
           1,
           3,
           1
          ],
          "sizemode": "area",
          "sizeref": 0.0125,
          "symbol": "circle"
         },
         "mode": "markers",
         "name": "Marvel Super Heroes",
         "orientation": "v",
         "showlegend": true,
         "type": "scatter",
         "x": [
          95,
          80,
          446,
          335,
          80,
          287,
          287,
          80,
          807,
          807,
          217,
          179,
          335,
          523,
          95,
          179,
          85,
          217,
          217
         ],
         "xaxis": "x",
         "y": [
          9.99,
          9.99,
          39.99,
          29.99,
          9.99,
          29.99,
          29.99,
          9.99,
          79.99,
          79.99,
          19.99,
          19.99,
          29.99,
          59.99,
          9.99,
          19.99,
          9.99,
          19.99,
          19.99
         ],
         "yaxis": "y"
        },
        {
         "hovertemplate": "theme=Ghostbusters<br>pieces=%{x}<br>us_price=%{y}<br>quantity=%{marker.size}<extra></extra>",
         "legendgroup": "Ghostbusters",
         "marker": {
          "color": "#FECB52",
          "size": [
           1,
           2,
           2
          ],
          "sizemode": "area",
          "sizeref": 0.0125,
          "symbol": "circle"
         },
         "mode": "markers",
         "name": "Ghostbusters",
         "orientation": "v",
         "showlegend": true,
         "type": "scatter",
         "x": [
          null,
          4634,
          null
         ],
         "xaxis": "x",
         "y": [
          59.99,
          349.99,
          59.99
         ],
         "yaxis": "y"
        },
        {
         "hovertemplate": "theme=Technic<br>pieces=%{x}<br>us_price=%{y}<br>quantity=%{marker.size}<extra></extra>",
         "legendgroup": "Technic",
         "marker": {
          "color": "#636efa",
          "size": [
           1,
           2,
           1,
           2,
           1,
           1,
           1,
           1,
           1,
           1
          ],
          "sizemode": "area",
          "sizeref": 0.0125,
          "symbol": "circle"
         },
         "mode": "markers",
         "name": "Technic",
         "orientation": "v",
         "showlegend": true,
         "type": "scatter",
         "x": [
          647,
          476,
          1042,
          345,
          113,
          170,
          345,
          345,
          185,
          647
         ],
         "xaxis": "x",
         "y": [
          79.99,
          49.99,
          139.99,
          29.99,
          12.99,
          19.99,
          29.99,
          29.99,
          19.99,
          79.99
         ],
         "yaxis": "y"
        },
        {
         "hovertemplate": "theme=Seasonal<br>pieces=%{x}<br>us_price=%{y}<br>quantity=%{marker.size}<extra></extra>",
         "legendgroup": "Seasonal",
         "marker": {
          "color": "#EF553B",
          "size": [
           1,
           1,
           2
          ],
          "sizemode": "area",
          "sizeref": 0.0125,
          "symbol": "circle"
         },
         "mode": "markers",
         "name": "Seasonal",
         "orientation": "v",
         "showlegend": true,
         "type": "scatter",
         "x": [
          111,
          150,
          111
         ],
         "xaxis": "x",
         "y": [
          9.99,
          9.99,
          9.99
         ],
         "yaxis": "y"
        },
        {
         "hovertemplate": "theme=Collectable Minifigures<br>pieces=%{x}<br>us_price=%{y}<br>quantity=%{marker.size}<extra></extra>",
         "legendgroup": "Collectable Minifigures",
         "marker": {
          "color": "#00cc96",
          "size": [
           1,
           1,
           1
          ],
          "sizemode": "area",
          "sizeref": 0.0125,
          "symbol": "circle"
         },
         "mode": "markers",
         "name": "Collectable Minifigures",
         "orientation": "v",
         "showlegend": true,
         "type": "scatter",
         "x": [
          null,
          null,
          null
         ],
         "xaxis": "x",
         "y": [
          3.99,
          3.99,
          3.99
         ],
         "yaxis": "y"
        },
        {
         "hovertemplate": "theme=Ideas<br>pieces=%{x}<br>us_price=%{y}<br>quantity=%{marker.size}<extra></extra>",
         "legendgroup": "Ideas",
         "marker": {
          "color": "#ab63fa",
          "size": [
           1,
           2
          ],
          "sizemode": "area",
          "sizeref": 0.0125,
          "symbol": "circle"
         },
         "mode": "markers",
         "name": "Ideas",
         "orientation": "v",
         "showlegend": true,
         "type": "scatter",
         "x": [
          769,
          769
         ],
         "xaxis": "x",
         "y": [
          69.99,
          69.99
         ],
         "yaxis": "y"
        },
        {
         "hovertemplate": "theme=Classic<br>pieces=%{x}<br>us_price=%{y}<br>quantity=%{marker.size}<extra></extra>",
         "legendgroup": "Classic",
         "marker": {
          "color": "#FFA15A",
          "size": [
           1
          ],
          "sizemode": "area",
          "sizeref": 0.0125,
          "symbol": "circle"
         },
         "mode": "markers",
         "name": "Classic",
         "orientation": "v",
         "showlegend": true,
         "type": "scatter",
         "x": [
          583
         ],
         "xaxis": "x",
         "y": [
          29.99
         ],
         "yaxis": "y"
        }
       ],
       "layout": {
        "autosize": true,
        "legend": {
         "itemsizing": "constant",
         "title": {
          "text": "theme"
         },
         "tracegroupgap": 0
        },
        "margin": {
         "t": 60
        },
        "template": {
         "data": {
          "bar": [
           {
            "error_x": {
             "color": "#2a3f5f"
            },
            "error_y": {
             "color": "#2a3f5f"
            },
            "marker": {
             "line": {
              "color": "#E5ECF6",
              "width": 0.5
             },
             "pattern": {
              "fillmode": "overlay",
              "size": 10,
              "solidity": 0.2
             }
            },
            "type": "bar"
           }
          ],
          "barpolar": [
           {
            "marker": {
             "line": {
              "color": "#E5ECF6",
              "width": 0.5
             },
             "pattern": {
              "fillmode": "overlay",
              "size": 10,
              "solidity": 0.2
             }
            },
            "type": "barpolar"
           }
          ],
          "carpet": [
           {
            "aaxis": {
             "endlinecolor": "#2a3f5f",
             "gridcolor": "white",
             "linecolor": "white",
             "minorgridcolor": "white",
             "startlinecolor": "#2a3f5f"
            },
            "baxis": {
             "endlinecolor": "#2a3f5f",
             "gridcolor": "white",
             "linecolor": "white",
             "minorgridcolor": "white",
             "startlinecolor": "#2a3f5f"
            },
            "type": "carpet"
           }
          ],
          "choropleth": [
           {
            "colorbar": {
             "outlinewidth": 0,
             "ticks": ""
            },
            "type": "choropleth"
           }
          ],
          "contour": [
           {
            "colorbar": {
             "outlinewidth": 0,
             "ticks": ""
            },
            "colorscale": [
             [
              0,
              "#0d0887"
             ],
             [
              0.1111111111111111,
              "#46039f"
             ],
             [
              0.2222222222222222,
              "#7201a8"
             ],
             [
              0.3333333333333333,
              "#9c179e"
             ],
             [
              0.4444444444444444,
              "#bd3786"
             ],
             [
              0.5555555555555556,
              "#d8576b"
             ],
             [
              0.6666666666666666,
              "#ed7953"
             ],
             [
              0.7777777777777778,
              "#fb9f3a"
             ],
             [
              0.8888888888888888,
              "#fdca26"
             ],
             [
              1,
              "#f0f921"
             ]
            ],
            "type": "contour"
           }
          ],
          "contourcarpet": [
           {
            "colorbar": {
             "outlinewidth": 0,
             "ticks": ""
            },
            "type": "contourcarpet"
           }
          ],
          "heatmap": [
           {
            "colorbar": {
             "outlinewidth": 0,
             "ticks": ""
            },
            "colorscale": [
             [
              0,
              "#0d0887"
             ],
             [
              0.1111111111111111,
              "#46039f"
             ],
             [
              0.2222222222222222,
              "#7201a8"
             ],
             [
              0.3333333333333333,
              "#9c179e"
             ],
             [
              0.4444444444444444,
              "#bd3786"
             ],
             [
              0.5555555555555556,
              "#d8576b"
             ],
             [
              0.6666666666666666,
              "#ed7953"
             ],
             [
              0.7777777777777778,
              "#fb9f3a"
             ],
             [
              0.8888888888888888,
              "#fdca26"
             ],
             [
              1,
              "#f0f921"
             ]
            ],
            "type": "heatmap"
           }
          ],
          "heatmapgl": [
           {
            "colorbar": {
             "outlinewidth": 0,
             "ticks": ""
            },
            "colorscale": [
             [
              0,
              "#0d0887"
             ],
             [
              0.1111111111111111,
              "#46039f"
             ],
             [
              0.2222222222222222,
              "#7201a8"
             ],
             [
              0.3333333333333333,
              "#9c179e"
             ],
             [
              0.4444444444444444,
              "#bd3786"
             ],
             [
              0.5555555555555556,
              "#d8576b"
             ],
             [
              0.6666666666666666,
              "#ed7953"
             ],
             [
              0.7777777777777778,
              "#fb9f3a"
             ],
             [
              0.8888888888888888,
              "#fdca26"
             ],
             [
              1,
              "#f0f921"
             ]
            ],
            "type": "heatmapgl"
           }
          ],
          "histogram": [
           {
            "marker": {
             "pattern": {
              "fillmode": "overlay",
              "size": 10,
              "solidity": 0.2
             }
            },
            "type": "histogram"
           }
          ],
          "histogram2d": [
           {
            "colorbar": {
             "outlinewidth": 0,
             "ticks": ""
            },
            "colorscale": [
             [
              0,
              "#0d0887"
             ],
             [
              0.1111111111111111,
              "#46039f"
             ],
             [
              0.2222222222222222,
              "#7201a8"
             ],
             [
              0.3333333333333333,
              "#9c179e"
             ],
             [
              0.4444444444444444,
              "#bd3786"
             ],
             [
              0.5555555555555556,
              "#d8576b"
             ],
             [
              0.6666666666666666,
              "#ed7953"
             ],
             [
              0.7777777777777778,
              "#fb9f3a"
             ],
             [
              0.8888888888888888,
              "#fdca26"
             ],
             [
              1,
              "#f0f921"
             ]
            ],
            "type": "histogram2d"
           }
          ],
          "histogram2dcontour": [
           {
            "colorbar": {
             "outlinewidth": 0,
             "ticks": ""
            },
            "colorscale": [
             [
              0,
              "#0d0887"
             ],
             [
              0.1111111111111111,
              "#46039f"
             ],
             [
              0.2222222222222222,
              "#7201a8"
             ],
             [
              0.3333333333333333,
              "#9c179e"
             ],
             [
              0.4444444444444444,
              "#bd3786"
             ],
             [
              0.5555555555555556,
              "#d8576b"
             ],
             [
              0.6666666666666666,
              "#ed7953"
             ],
             [
              0.7777777777777778,
              "#fb9f3a"
             ],
             [
              0.8888888888888888,
              "#fdca26"
             ],
             [
              1,
              "#f0f921"
             ]
            ],
            "type": "histogram2dcontour"
           }
          ],
          "mesh3d": [
           {
            "colorbar": {
             "outlinewidth": 0,
             "ticks": ""
            },
            "type": "mesh3d"
           }
          ],
          "parcoords": [
           {
            "line": {
             "colorbar": {
              "outlinewidth": 0,
              "ticks": ""
             }
            },
            "type": "parcoords"
           }
          ],
          "pie": [
           {
            "automargin": true,
            "type": "pie"
           }
          ],
          "scatter": [
           {
            "fillpattern": {
             "fillmode": "overlay",
             "size": 10,
             "solidity": 0.2
            },
            "type": "scatter"
           }
          ],
          "scatter3d": [
           {
            "line": {
             "colorbar": {
              "outlinewidth": 0,
              "ticks": ""
             }
            },
            "marker": {
             "colorbar": {
              "outlinewidth": 0,
              "ticks": ""
             }
            },
            "type": "scatter3d"
           }
          ],
          "scattercarpet": [
           {
            "marker": {
             "colorbar": {
              "outlinewidth": 0,
              "ticks": ""
             }
            },
            "type": "scattercarpet"
           }
          ],
          "scattergeo": [
           {
            "marker": {
             "colorbar": {
              "outlinewidth": 0,
              "ticks": ""
             }
            },
            "type": "scattergeo"
           }
          ],
          "scattergl": [
           {
            "marker": {
             "colorbar": {
              "outlinewidth": 0,
              "ticks": ""
             }
            },
            "type": "scattergl"
           }
          ],
          "scattermapbox": [
           {
            "marker": {
             "colorbar": {
              "outlinewidth": 0,
              "ticks": ""
             }
            },
            "type": "scattermapbox"
           }
          ],
          "scatterpolar": [
           {
            "marker": {
             "colorbar": {
              "outlinewidth": 0,
              "ticks": ""
             }
            },
            "type": "scatterpolar"
           }
          ],
          "scatterpolargl": [
           {
            "marker": {
             "colorbar": {
              "outlinewidth": 0,
              "ticks": ""
             }
            },
            "type": "scatterpolargl"
           }
          ],
          "scatterternary": [
           {
            "marker": {
             "colorbar": {
              "outlinewidth": 0,
              "ticks": ""
             }
            },
            "type": "scatterternary"
           }
          ],
          "surface": [
           {
            "colorbar": {
             "outlinewidth": 0,
             "ticks": ""
            },
            "colorscale": [
             [
              0,
              "#0d0887"
             ],
             [
              0.1111111111111111,
              "#46039f"
             ],
             [
              0.2222222222222222,
              "#7201a8"
             ],
             [
              0.3333333333333333,
              "#9c179e"
             ],
             [
              0.4444444444444444,
              "#bd3786"
             ],
             [
              0.5555555555555556,
              "#d8576b"
             ],
             [
              0.6666666666666666,
              "#ed7953"
             ],
             [
              0.7777777777777778,
              "#fb9f3a"
             ],
             [
              0.8888888888888888,
              "#fdca26"
             ],
             [
              1,
              "#f0f921"
             ]
            ],
            "type": "surface"
           }
          ],
          "table": [
           {
            "cells": {
             "fill": {
              "color": "#EBF0F8"
             },
             "line": {
              "color": "white"
             }
            },
            "header": {
             "fill": {
              "color": "#C8D4E3"
             },
             "line": {
              "color": "white"
             }
            },
            "type": "table"
           }
          ]
         },
         "layout": {
          "annotationdefaults": {
           "arrowcolor": "#2a3f5f",
           "arrowhead": 0,
           "arrowwidth": 1
          },
          "autotypenumbers": "strict",
          "coloraxis": {
           "colorbar": {
            "outlinewidth": 0,
            "ticks": ""
           }
          },
          "colorscale": {
           "diverging": [
            [
             0,
             "#8e0152"
            ],
            [
             0.1,
             "#c51b7d"
            ],
            [
             0.2,
             "#de77ae"
            ],
            [
             0.3,
             "#f1b6da"
            ],
            [
             0.4,
             "#fde0ef"
            ],
            [
             0.5,
             "#f7f7f7"
            ],
            [
             0.6,
             "#e6f5d0"
            ],
            [
             0.7,
             "#b8e186"
            ],
            [
             0.8,
             "#7fbc41"
            ],
            [
             0.9,
             "#4d9221"
            ],
            [
             1,
             "#276419"
            ]
           ],
           "sequential": [
            [
             0,
             "#0d0887"
            ],
            [
             0.1111111111111111,
             "#46039f"
            ],
            [
             0.2222222222222222,
             "#7201a8"
            ],
            [
             0.3333333333333333,
             "#9c179e"
            ],
            [
             0.4444444444444444,
             "#bd3786"
            ],
            [
             0.5555555555555556,
             "#d8576b"
            ],
            [
             0.6666666666666666,
             "#ed7953"
            ],
            [
             0.7777777777777778,
             "#fb9f3a"
            ],
            [
             0.8888888888888888,
             "#fdca26"
            ],
            [
             1,
             "#f0f921"
            ]
           ],
           "sequentialminus": [
            [
             0,
             "#0d0887"
            ],
            [
             0.1111111111111111,
             "#46039f"
            ],
            [
             0.2222222222222222,
             "#7201a8"
            ],
            [
             0.3333333333333333,
             "#9c179e"
            ],
            [
             0.4444444444444444,
             "#bd3786"
            ],
            [
             0.5555555555555556,
             "#d8576b"
            ],
            [
             0.6666666666666666,
             "#ed7953"
            ],
            [
             0.7777777777777778,
             "#fb9f3a"
            ],
            [
             0.8888888888888888,
             "#fdca26"
            ],
            [
             1,
             "#f0f921"
            ]
           ]
          },
          "colorway": [
           "#636efa",
           "#EF553B",
           "#00cc96",
           "#ab63fa",
           "#FFA15A",
           "#19d3f3",
           "#FF6692",
           "#B6E880",
           "#FF97FF",
           "#FECB52"
          ],
          "font": {
           "color": "#2a3f5f"
          },
          "geo": {
           "bgcolor": "white",
           "lakecolor": "white",
           "landcolor": "#E5ECF6",
           "showlakes": true,
           "showland": true,
           "subunitcolor": "white"
          },
          "hoverlabel": {
           "align": "left"
          },
          "hovermode": "closest",
          "mapbox": {
           "style": "light"
          },
          "paper_bgcolor": "white",
          "plot_bgcolor": "#E5ECF6",
          "polar": {
           "angularaxis": {
            "gridcolor": "white",
            "linecolor": "white",
            "ticks": ""
           },
           "bgcolor": "#E5ECF6",
           "radialaxis": {
            "gridcolor": "white",
            "linecolor": "white",
            "ticks": ""
           }
          },
          "scene": {
           "xaxis": {
            "backgroundcolor": "#E5ECF6",
            "gridcolor": "white",
            "gridwidth": 2,
            "linecolor": "white",
            "showbackground": true,
            "ticks": "",
            "zerolinecolor": "white"
           },
           "yaxis": {
            "backgroundcolor": "#E5ECF6",
            "gridcolor": "white",
            "gridwidth": 2,
            "linecolor": "white",
            "showbackground": true,
            "ticks": "",
            "zerolinecolor": "white"
           },
           "zaxis": {
            "backgroundcolor": "#E5ECF6",
            "gridcolor": "white",
            "gridwidth": 2,
            "linecolor": "white",
            "showbackground": true,
            "ticks": "",
            "zerolinecolor": "white"
           }
          },
          "shapedefaults": {
           "line": {
            "color": "#2a3f5f"
           }
          },
          "ternary": {
           "aaxis": {
            "gridcolor": "white",
            "linecolor": "white",
            "ticks": ""
           },
           "baxis": {
            "gridcolor": "white",
            "linecolor": "white",
            "ticks": ""
           },
           "bgcolor": "#E5ECF6",
           "caxis": {
            "gridcolor": "white",
            "linecolor": "white",
            "ticks": ""
           }
          },
          "title": {
           "x": 0.05
          },
          "xaxis": {
           "automargin": true,
           "gridcolor": "white",
           "linecolor": "white",
           "ticks": "",
           "title": {
            "standoff": 15
           },
           "zerolinecolor": "white",
           "zerolinewidth": 2
          },
          "yaxis": {
           "automargin": true,
           "gridcolor": "white",
           "linecolor": "white",
           "ticks": "",
           "title": {
            "standoff": 15
           },
           "zerolinecolor": "white",
           "zerolinewidth": 2
          }
         }
        },
        "title": {
         "text": "Lego pieces and the US Price"
        },
        "xaxis": {
         "anchor": "y",
         "autorange": true,
         "domain": [
          0,
          1
         ],
         "range": [
          -329.88701920996806,
          4963.882693948022
         ],
         "title": {
          "text": "pieces"
         },
         "type": "linear"
        },
        "yaxis": {
         "anchor": "x",
         "autorange": true,
         "domain": [
          0,
          1
         ],
         "range": [
          -49.885458199868,
          392.1879126743579
         ],
         "title": {
          "text": "us_price"
         },
         "type": "linear"
        }
       }
      },
      "image/png": "[encoded data removed]",
      "text/html": [
       "<div>                            <div id=\"33eb70c3-4e76-4839-b710-fc3a7894e528\" class=\"plotly-graph-div\" style=\"height:700px; width:100%;\"></div>            <script type=\"text/javascript\">                require([\"plotly\"], function(Plotly) {                    window.PLOTLYENV=window.PLOTLYENV || {};                                    if (document.getElementById(\"33eb70c3-4e76-4839-b710-fc3a7894e528\")) {                    Plotly.newPlot(                        \"33eb70c3-4e76-4839-b710-fc3a7894e528\",                        [{\"hovertemplate\":\"theme=DC Comics Super Heroes\\u003cbr\\u003epieces=%{x}\\u003cbr\\u003eus_price=%{y}\\u003cbr\\u003equantity=%{marker.size}\\u003cextra\\u003e\\u003c\\u002fextra\\u003e\",\"legendgroup\":\"DC Comics Super Heroes\",\"marker\":{\"color\":\"#636efa\",\"size\":[1,3,2,1,3,1,1,1,1,2,2,1,1,2,1,3,1,1,1,1,3,2],\"sizemode\":\"area\",\"sizeref\":0.0125,\"symbol\":\"circle\"},\"mode\":\"markers\",\"name\":\"DC Comics Super Heroes\",\"orientation\":\"v\",\"showlegend\":true,\"x\":[77.0,77.0,563.0,517.0,224.0,224.0,92.0,79.0,92.0,88.0,63.0,759.0,92.0,92.0,63.0,92.0,77.0,563.0,63.0,63.0,88.0,88.0],\"xaxis\":\"x\",\"y\":[9.99,9.99,59.99,59.99,19.99,19.99,12.99,9.99,12.99,9.99,3.99,79.99,12.99,12.99,3.99,12.99,9.99,59.99,3.99,3.99,9.99,9.99],\"yaxis\":\"y\",\"type\":\"scatter\"},{\"hovertemplate\":\"theme=Ninjago\\u003cbr\\u003epieces=%{x}\\u003cbr\\u003eus_price=%{y}\\u003cbr\\u003equantity=%{marker.size}\\u003cextra\\u003e\\u003c\\u002fextra\\u003e\",\"legendgroup\":\"Ninjago\",\"marker\":{\"color\":\"#EF553B\",\"size\":[1,1,1,2,1,3,1,1,2,2,1,1,4,1,2,2,1,1,3,1,1,1,2,1,2,1,1,1,2,4,2,1,1,1,1,1,2,2],\"sizemode\":\"area\",\"sizeref\":0.0125,\"symbol\":\"circle\"},\"mode\":\"markers\",\"name\":\"Ninjago\",\"orientation\":\"v\",\"showlegend\":true,\"x\":[1093.0,1093.0,1093.0,70.0,666.0,567.0,406.0,450.0,231.0,98.0,294.0,70.0,342.0,754.0,221.0,294.0,207.0,350.0,70.0,221.0,231.0,439.0,754.0,567.0,70.0,221.0,350.0,1253.0,70.0,231.0,439.0,567.0,294.0,221.0,567.0,567.0,221.0,1253.0],\"xaxis\":\"x\",\"y\":[119.99,119.99,119.99,7.99,59.99,49.99,39.99,49.99,19.99,9.99,29.99,7.99,29.99,79.99,19.99,29.99,19.99,29.99,7.99,19.99,19.99,39.99,79.99,49.99,7.99,19.99,29.99,119.99,7.99,19.99,39.99,49.99,29.99,19.99,49.99,49.99,19.99,119.99],\"yaxis\":\"y\",\"type\":\"scatter\"},{\"hovertemplate\":\"theme=Architecture\\u003cbr\\u003epieces=%{x}\\u003cbr\\u003eus_price=%{y}\\u003cbr\\u003equantity=%{marker.size}\\u003cextra\\u003e\\u003c\\u002fextra\\u003e\",\"legendgroup\":\"Architecture\",\"marker\":{\"color\":\"#00cc96\",\"size\":[1,3,2,1,1,2,1,1,1,2],\"sizemode\":\"area\",\"sizeref\":0.0125,\"symbol\":\"circle\"},\"mode\":\"markers\",\"name\":\"Architecture\",\"orientation\":\"v\",\"showlegend\":true,\"x\":[333.0,333.0,598.0,598.0,333.0,212.0,289.0,212.0,289.0,289.0],\"xaxis\":\"x\",\"y\":[39.99,39.99,59.99,59.99,39.99,29.99,29.99,29.99,29.99,29.99],\"yaxis\":\"y\",\"type\":\"scatter\"},{\"hovertemplate\":\"theme=Creator\\u003cbr\\u003epieces=%{x}\\u003cbr\\u003eus_price=%{y}\\u003cbr\\u003equantity=%{marker.size}\\u003cextra\\u003e\\u003c\\u002fextra\\u003e\",\"legendgroup\":\"Creator\",\"marker\":{\"color\":\"#ab63fa\",\"size\":[1,1,1,1,2,1,1,1,1,1,1,1,2,2,1,3,2,1,2,1,2,1,1,2,2],\"sizemode\":\"area\",\"sizeref\":0.0125,\"symbol\":\"circle\"},\"mode\":\"markers\",\"name\":\"Creator\",\"orientation\":\"v\",\"showlegend\":true,\"x\":[368.0,368.0,222.0,222.0,124.0,202.0,65.0,213.0,64.0,202.0,467.0,368.0,222.0,202.0,64.0,64.0,467.0,124.0,124.0,65.0,124.0,124.0,230.0,100.0,202.0],\"xaxis\":\"x\",\"y\":[29.99,29.99,19.99,19.99,9.99,14.99,4.99,14.99,4.99,14.99,39.99,29.99,19.99,14.99,4.99,4.99,39.99,9.99,9.99,4.99,9.99,9.99,19.99,9.99,14.99],\"yaxis\":\"y\",\"type\":\"scatter\"},{\"hovertemplate\":\"theme=Duplo\\u003cbr\\u003epieces=%{x}\\u003cbr\\u003eus_price=%{y}\\u003cbr\\u003equantity=%{marker.size}\\u003cextra\\u003e\\u003c\\u002fextra\\u003e\",\"legendgroup\":\"Duplo\",\"marker\":{\"color\":\"#FFA15A\",\"size\":[1,1,1,1,2,1,1,1,1,1,1,1,1,1,1,1,3,2,3,2,1,2,1,1,1,1,2,2,1,2,1,1,2,1,4],\"sizemode\":\"area\",\"sizeref\":0.0125,\"symbol\":\"circle\"},\"mode\":\"markers\",\"name\":\"Duplo\",\"orientation\":\"v\",\"showlegend\":true,\"x\":[19.0,13.0,15.0,27.0,29.0,27.0,15.0,29.0,86.0,15.0,20.0,27.0,70.0,18.0,18.0,28.0,40.0,18.0,25.0,86.0,40.0,13.0,86.0,40.0,40.0,40.0,36.0,25.0,70.0,44.0,86.0,20.0,40.0,28.0,27.0],\"xaxis\":\"x\",\"y\":[9.99,9.99,14.99,19.99,19.99,19.99,19.99,19.99,49.99,14.99,14.99,19.99,29.99,9.99,19.99,19.99,29.99,19.99,19.99,49.99,29.99,9.99,49.99,29.99,29.99,29.99,19.99,19.99,29.99,34.99,49.99,14.99,29.99,19.99,19.99],\"yaxis\":\"y\",\"type\":\"scatter\"},{\"hovertemplate\":\"theme=Star Wars\\u003cbr\\u003epieces=%{x}\\u003cbr\\u003eus_price=%{y}\\u003cbr\\u003equantity=%{marker.size}\\u003cextra\\u003e\\u003c\\u002fextra\\u003e\",\"legendgroup\":\"Star Wars\",\"marker\":{\"color\":\"#19d3f3\",\"size\":[1,1,2,1,2,1,1,3,1,1,1,1,1,1,2,1,2,2,1,2,1,1,2,3,1,4,1,2,1,1,1,3,1,2,1,2,1,1,1,2,3,1,1,2,2,1,1,1,1,1,2,2,2,2,1,1,2,3,1,1,2,1,4,1,1,2,1,1,1,3,1,2,1,4,1],\"sizemode\":\"area\",\"sizeref\":0.0125,\"symbol\":\"circle\"},\"mode\":\"markers\",\"name\":\"Star Wars\",\"orientation\":\"v\",\"showlegend\":true,\"x\":[233.0,409.0,101.0,903.0,91.0,98.0,2144.0,972.0,76.0,363.0,233.0,646.0,409.0,98.0,109.0,81.0,558.0,101.0,98.0,101.0,409.0,215.0,282.0,102.0,215.0,215.0,646.0,972.0,233.0,231.0,88.0,740.0,197.0,282.0,84.0,197.0,82.0,109.0,88.0,231.0,98.0,87.0,84.0,646.0,82.0,558.0,233.0,558.0,91.0,112.0,233.0,231.0,101.0,215.0,87.0,363.0,231.0,98.0,84.0,740.0,409.0,104.0,282.0,101.0,530.0,233.0,363.0,76.0,81.0,88.0,903.0,702.0,91.0,363.0,740.0],\"xaxis\":\"x\",\"y\":[24.99,59.99,12.99,109.99,9.99,24.99,249.99,119.99,9.99,29.99,24.99,69.99,59.99,24.99,12.99,19.99,49.99,12.99,24.99,12.99,59.99,24.99,39.99,24.99,24.99,24.99,69.99,119.99,24.99,24.99,12.99,79.99,24.99,39.99,19.99,24.99,24.99,12.99,12.99,24.99,24.99,9.99,9.99,69.99,24.99,49.99,24.99,49.99,9.99,12.99,24.99,24.99,12.99,24.99,9.99,29.99,24.99,24.99,9.99,79.99,59.99,9.99,39.99,12.99,59.99,24.99,29.99,9.99,19.99,12.99,109.99,89.99,9.99,29.99,79.99],\"yaxis\":\"y\",\"type\":\"scatter\"},{\"hovertemplate\":\"theme=Friends\\u003cbr\\u003epieces=%{x}\\u003cbr\\u003eus_price=%{y}\\u003cbr\\u003equantity=%{marker.size}\\u003cextra\\u003e\\u003c\\u002fextra\\u003e\",\"legendgroup\":\"Friends\",\"marker\":{\"color\":\"#FF6692\",\"size\":[1,1,1,2,3,2,1,1,1,3,1,1,2,1,1,2,3,1,1,1,1,1,1,1,1,1,1,1,1,1,1,2,1,1,2,1,2,1,1,2,1,1],\"sizemode\":\"area\",\"sizeref\":0.0125,\"symbol\":\"circle\"},\"mode\":\"markers\",\"name\":\"Friends\",\"orientation\":\"v\",\"showlegend\":true,\"x\":[108.0,194.0,439.0,54.0,597.0,54.0,439.0,726.0,114.0,597.0,320.0,108.0,54.0,597.0,52.0,313.0,52.0,108.0,439.0,114.0,313.0,52.0,109.0,313.0,191.0,52.0,52.0,185.0,313.0,320.0,185.0,313.0,109.0,114.0,320.0,114.0,313.0,52.0,597.0,108.0,114.0,320.0],\"xaxis\":\"x\",\"y\":[9.99,19.99,39.99,4.99,49.99,4.99,39.99,79.99,9.99,49.99,29.99,9.99,4.99,49.99,4.99,29.99,4.99,9.99,39.99,9.99,29.99,4.99,9.99,29.99,19.99,4.99,4.99,14.99,29.99,29.99,14.99,29.99,9.99,9.99,29.99,9.99,29.99,4.99,49.99,9.99,9.99,29.99],\"yaxis\":\"y\",\"type\":\"scatter\"},{\"hovertemplate\":\"theme=Minecraft\\u003cbr\\u003epieces=%{x}\\u003cbr\\u003eus_price=%{y}\\u003cbr\\u003equantity=%{marker.size}\\u003cextra\\u003e\\u003c\\u002fextra\\u003e\",\"legendgroup\":\"Minecraft\",\"marker\":{\"color\":\"#B6E880\",\"size\":[2,1,1,1,1,1,1,1,1],\"sizemode\":\"area\",\"sizeref\":0.0125,\"symbol\":\"circle\"},\"mode\":\"markers\",\"name\":\"Minecraft\",\"orientation\":\"v\",\"showlegend\":true,\"x\":[null,null,null,null,null,null,null,null,null],\"xaxis\":\"x\",\"y\":[109.99,199.99,199.99,109.99,199.99,109.99,199.99,109.99,199.99],\"yaxis\":\"y\",\"type\":\"scatter\"},{\"hovertemplate\":\"theme=Nexo Knights\\u003cbr\\u003epieces=%{x}\\u003cbr\\u003eus_price=%{y}\\u003cbr\\u003equantity=%{marker.size}\\u003cextra\\u003e\\u003c\\u002fextra\\u003e\",\"legendgroup\":\"Nexo Knights\",\"marker\":{\"color\":\"#FF97FF\",\"size\":[2,1,1,2,1,1,1,1,1,1,1,2,2,1,2,2,2,2,1,1,1,1,4,1,2,1,1,1,1,1,2,2,1,2,1,1,1,1,2,1,1,2,3,2,2,1,1,2,1,1,1,1,2,1,1,2,3,1,1,2,1,2,2,1],\"sizemode\":\"area\",\"sizeref\":0.0125,\"symbol\":\"circle\"},\"mode\":\"markers\",\"name\":\"Nexo Knights\",\"orientation\":\"v\",\"showlegend\":true,\"x\":[69.0,375.0,76.0,72.0,658.0,202.0,202.0,75.0,187.0,101.0,237.0,530.0,82.0,301.0,237.0,76.0,314.0,82.0,95.0,253.0,76.0,530.0,202.0,75.0,67.0,75.0,237.0,76.0,69.0,75.0,65.0,187.0,375.0,301.0,93.0,76.0,288.0,367.0,72.0,75.0,1186.0,187.0,67.0,516.0,367.0,301.0,72.0,670.0,72.0,65.0,237.0,72.0,301.0,530.0,64.0,72.0,253.0,1140.0,1140.0,530.0,288.0,76.0,237.0,82.0],\"xaxis\":\"x\",\"y\":[9.99,29.99,9.99,9.99,59.99,19.99,19.99,9.99,19.99,9.99,19.99,39.99,9.99,29.99,19.99,9.99,29.99,9.99,9.99,24.99,9.99,39.99,19.99,9.99,9.99,9.99,19.99,9.99,9.99,9.99,9.99,19.99,29.99,29.99,9.99,9.99,24.99,39.99,9.99,9.99,119.99,19.99,9.99,49.99,39.99,29.99,9.99,69.99,9.99,9.99,19.99,9.99,29.99,39.99,9.99,9.99,24.99,99.99,99.99,39.99,24.99,9.99,19.99,9.99],\"yaxis\":\"y\",\"type\":\"scatter\"},{\"hovertemplate\":\"theme=Dimensions\\u003cbr\\u003epieces=%{x}\\u003cbr\\u003eus_price=%{y}\\u003cbr\\u003equantity=%{marker.size}\\u003cextra\\u003e\\u003c\\u002fextra\\u003e\",\"legendgroup\":\"Dimensions\",\"marker\":{\"color\":\"#FECB52\",\"size\":[1,2,1,1,1,1,2,1,1,2,1,1,2,1,1,1,1,3],\"sizemode\":\"area\",\"sizeref\":0.0125,\"symbol\":\"circle\"},\"mode\":\"markers\",\"name\":\"Dimensions\",\"orientation\":\"v\",\"showlegend\":true,\"x\":[69.0,96.0,40.0,115.0,33.0,40.0,92.0,115.0,96.0,65.0,58.0,115.0,33.0,40.0,40.0,58.0,96.0,33.0],\"xaxis\":\"x\",\"y\":[14.99,29.99,14.99,29.99,14.99,14.99,24.99,29.99,29.99,14.99,14.99,29.99,14.99,14.99,14.99,14.99,29.99,14.99],\"yaxis\":\"y\",\"type\":\"scatter\"},{\"hovertemplate\":\"theme=City\\u003cbr\\u003epieces=%{x}\\u003cbr\\u003eus_price=%{y}\\u003cbr\\u003equantity=%{marker.size}\\u003cextra\\u003e\\u003c\\u002fextra\\u003e\",\"legendgroup\":\"City\",\"marker\":{\"color\":\"#636efa\",\"size\":[1,1,2,1,1,1,1,1,1,1,1,1,1,2,2,1,1,2,2,1,5,2,1,2,1,1,1,2,2,1,1,4,1,1,1,2,1,1,3,1,1,1,1,1,2],\"sizemode\":\"area\",\"sizeref\":0.0125,\"symbol\":\"circle\"},\"mode\":\"markers\",\"name\":\"City\",\"orientation\":\"v\",\"showlegend\":true,\"x\":[376.0,248.0,257.0,47.0,53.0,53.0,412.0,248.0,104.0,53.0,64.0,412.0,368.0,412.0,250.0,200.0,64.0,183.0,53.0,53.0,47.0,250.0,214.0,754.0,244.0,200.0,200.0,90.0,26.0,26.0,754.0,368.0,92.0,257.0,92.0,368.0,412.0,183.0,754.0,301.0,90.0,376.0,95.0,176.0,412.0],\"xaxis\":\"x\",\"y\":[49.99,19.99,39.99,3.99,3.99,3.99,79.99,19.99,9.99,3.99,6.99,79.99,39.99,79.99,19.99,49.99,6.99,19.99,3.99,3.99,3.99,19.99,24.99,89.99,29.99,49.99,49.99,9.99,14.99,14.99,89.99,39.99,9.99,39.99,9.99,39.99,79.99,19.99,89.99,29.99,9.99,49.99,9.99,19.99,79.99],\"yaxis\":\"y\",\"type\":\"scatter\"},{\"hovertemplate\":\"theme=Mixels\\u003cbr\\u003epieces=%{x}\\u003cbr\\u003eus_price=%{y}\\u003cbr\\u003equantity=%{marker.size}\\u003cextra\\u003e\\u003c\\u002fextra\\u003e\",\"legendgroup\":\"Mixels\",\"marker\":{\"color\":\"#EF553B\",\"size\":[1,1,2,1,1,2,1,2,1,1,1,1,1,2,1,1,1,5,2,1,2,1,1,1,1,2,2,1,1,4,1,1,1,2,2,2,1,2,1,1,2,2,1,1,2,4,1,1,1,2,1,1,1,2,2],\"sizemode\":\"area\",\"sizeref\":0.0125,\"symbol\":\"circle\"},\"mode\":\"markers\",\"name\":\"Mixels\",\"orientation\":\"v\",\"showlegend\":true,\"x\":[61.0,63.0,64.0,61.0,62.0,69.0,61.0,63.0,62.0,55.0,70.0,62.0,66.0,66.0,66.0,63.0,64.0,70.0,62.0,64.0,54.0,63.0,64.0,61.0,68.0,57.0,60.0,64.0,60.0,70.0,54.0,63.0,68.0,63.0,57.0,63.0,61.0,70.0,63.0,67.0,60.0,67.0,64.0,61.0,64.0,70.0,66.0,62.0,70.0,67.0,63.0,66.0,64.0,62.0,63.0],\"xaxis\":\"x\",\"y\":[4.99,4.99,4.99,4.99,4.99,4.99,4.99,4.99,4.99,4.99,4.99,4.99,4.99,4.99,4.99,4.99,4.99,4.99,4.99,4.99,4.99,4.99,4.99,4.99,4.99,4.99,4.99,4.99,4.99,4.99,4.99,4.99,4.99,4.99,4.99,4.99,4.99,4.99,4.99,4.99,4.99,4.99,4.99,4.99,4.99,4.99,4.99,4.99,4.99,4.99,4.99,4.99,4.99,4.99,4.99],\"yaxis\":\"y\",\"type\":\"scatter\"},{\"hovertemplate\":\"theme=Advanced Models\\u003cbr\\u003epieces=%{x}\\u003cbr\\u003eus_price=%{y}\\u003cbr\\u003equantity=%{marker.size}\\u003cextra\\u003e\\u003c\\u002fextra\\u003e\",\"legendgroup\":\"Advanced Models\",\"marker\":{\"color\":\"#00cc96\",\"size\":[1,2,1,1],\"sizemode\":\"area\",\"sizeref\":0.0125,\"symbol\":\"circle\"},\"mode\":\"markers\",\"name\":\"Advanced Models\",\"orientation\":\"v\",\"showlegend\":true,\"x\":[2380.0,2380.0,2380.0,2380.0],\"xaxis\":\"x\",\"y\":[169.99,169.99,169.99,169.99],\"yaxis\":\"y\",\"type\":\"scatter\"},{\"hovertemplate\":\"theme=Gear\\u003cbr\\u003epieces=%{x}\\u003cbr\\u003eus_price=%{y}\\u003cbr\\u003equantity=%{marker.size}\\u003cextra\\u003e\\u003c\\u002fextra\\u003e\",\"legendgroup\":\"Gear\",\"marker\":{\"color\":\"#ab63fa\",\"size\":[2,1,1,1,2,1,1,1,3,2,1,1,1,1,2,1,1,3,2,2,1,1,1,1,1,1,2,1,1,1,1,2,1,1,1,1,1,1,1,2,4,3,1,2,1,1,1,1,1,3,2,2,1,2,1],\"sizemode\":\"area\",\"sizeref\":0.0125,\"symbol\":\"circle\"},\"mode\":\"markers\",\"name\":\"Gear\",\"orientation\":\"v\",\"showlegend\":true,\"x\":[null,null,null,null,null,null,null,null,null,null,null,null,null,null,null,null,null,null,null,null,null,null,null,null,null,null,null,null,null,null,null,null,null,null,null,null,null,null,null,null,null,null,null,null,null,null,null,null,null,null,null,null,null,null,null],\"xaxis\":\"x\",\"y\":[49.99,5.99,24.99,9.99,14.99,5.99,14.99,5.99,24.99,29.99,5.99,49.99,49.99,5.99,5.99,5.99,14.99,14.99,9.99,49.99,49.99,49.99,5.99,19.99,19.99,5.99,9.99,5.99,12.99,5.99,24.99,24.99,14.99,12.99,14.99,49.99,5.99,5.99,14.99,5.99,14.99,49.99,29.99,5.99,49.99,14.99,12.99,49.99,5.99,12.99,5.99,5.99,5.99,5.99,19.99],\"yaxis\":\"y\",\"type\":\"scatter\"},{\"hovertemplate\":\"theme=Elves\\u003cbr\\u003epieces=%{x}\\u003cbr\\u003eus_price=%{y}\\u003cbr\\u003equantity=%{marker.size}\\u003cextra\\u003e\\u003c\\u002fextra\\u003e\",\"legendgroup\":\"Elves\",\"marker\":{\"color\":\"#FFA15A\",\"size\":[1,1,1,1,1,3,1,1,1,1,1,1,2,1,1,1,1,1,3,2,1,1],\"sizemode\":\"area\",\"sizeref\":0.0125,\"symbol\":\"circle\"},\"mode\":\"markers\",\"name\":\"Elves\",\"orientation\":\"v\",\"showlegend\":true,\"x\":[212.0,212.0,585.0,343.0,585.0,691.0,212.0,212.0,833.0,343.0,441.0,273.0,230.0,691.0,343.0,691.0,80.0,80.0,833.0,273.0,343.0,585.0],\"xaxis\":\"x\",\"y\":[19.99,19.99,49.99,29.99,49.99,59.99,19.99,19.99,69.99,29.99,39.99,29.99,19.99,59.99,29.99,59.99,9.99,9.99,69.99,29.99,29.99,49.99],\"yaxis\":\"y\",\"type\":\"scatter\"},{\"hovertemplate\":\"theme=Bionicle\\u003cbr\\u003epieces=%{x}\\u003cbr\\u003eus_price=%{y}\\u003cbr\\u003equantity=%{marker.size}\\u003cextra\\u003e\\u003c\\u002fextra\\u003e\",\"legendgroup\":\"Bionicle\",\"marker\":{\"color\":\"#19d3f3\",\"size\":[1,1,2,2,1,1,1,1,1,3,1,1,1,2,1,1,2,1,1,2,1,1,3,1,1,2,1,1,1,1,1,1,2,2],\"sizemode\":\"area\",\"sizeref\":0.0125,\"symbol\":\"circle\"},\"mode\":\"markers\",\"name\":\"Bionicle\",\"orientation\":\"v\",\"showlegend\":true,\"x\":[74.0,114.0,172.0,143.0,87.0,89.0,87.0,143.0,79.0,109.0,191.0,80.0,90.0,171.0,191.0,77.0,143.0,80.0,89.0,191.0,132.0,89.0,87.0,109.0,109.0,79.0,87.0,80.0,143.0,87.0,74.0,114.0,143.0,171.0],\"xaxis\":\"x\",\"y\":[9.99,14.99,19.99,19.99,14.99,9.99,14.99,19.99,14.99,14.99,24.99,9.99,14.99,24.99,24.99,9.99,19.99,9.99,9.99,24.99,19.99,9.99,14.99,14.99,14.99,14.99,14.99,9.99,19.99,14.99,9.99,14.99,19.99,24.99],\"yaxis\":\"y\",\"type\":\"scatter\"},{\"hovertemplate\":\"theme=The Angry Birds Movie\\u003cbr\\u003epieces=%{x}\\u003cbr\\u003eus_price=%{y}\\u003cbr\\u003equantity=%{marker.size}\\u003cextra\\u003e\\u003c\\u002fextra\\u003e\",\"legendgroup\":\"The Angry Birds Movie\",\"marker\":{\"color\":\"#FF6692\",\"size\":[1,1,1,1,2,1,1,1,2,1,1],\"sizemode\":\"area\",\"sizeref\":0.0125,\"symbol\":\"circle\"},\"mode\":\"markers\",\"name\":\"The Angry Birds Movie\",\"orientation\":\"v\",\"showlegend\":true,\"x\":[168.0,386.0,168.0,168.0,74.0,620.0,74.0,386.0,859.0,168.0,386.0],\"xaxis\":\"x\",\"y\":[19.99,39.99,19.99,19.99,12.99,59.99,12.99,39.99,89.99,19.99,39.99],\"yaxis\":\"y\",\"type\":\"scatter\"},{\"hovertemplate\":\"theme=Disney Princess\\u003cbr\\u003epieces=%{x}\\u003cbr\\u003eus_price=%{y}\\u003cbr\\u003equantity=%{marker.size}\\u003cextra\\u003e\\u003c\\u002fextra\\u003e\",\"legendgroup\":\"Disney Princess\",\"marker\":{\"color\":\"#B6E880\",\"size\":[3,1,2,1,1,2,1,1,2,1,1,1,1,1,1],\"sizemode\":\"area\",\"sizeref\":0.0125,\"symbol\":\"circle\"},\"mode\":\"markers\",\"name\":\"Disney Princess\",\"orientation\":\"v\",\"showlegend\":true,\"x\":[186.0,98.0,98.0,98.0,70.0,79.0,70.0,98.0,98.0,98.0,98.0,174.0,79.0,79.0,70.0],\"xaxis\":\"x\",\"y\":[19.99,9.99,9.99,9.99,5.99,9.99,5.99,9.99,9.99,9.99,9.99,29.99,9.99,9.99,5.99],\"yaxis\":\"y\",\"type\":\"scatter\"},{\"hovertemplate\":\"theme=Marvel Super Heroes\\u003cbr\\u003epieces=%{x}\\u003cbr\\u003eus_price=%{y}\\u003cbr\\u003equantity=%{marker.size}\\u003cextra\\u003e\\u003c\\u002fextra\\u003e\",\"legendgroup\":\"Marvel Super Heroes\",\"marker\":{\"color\":\"#FF97FF\",\"size\":[1,1,1,1,1,2,2,3,2,1,1,3,3,1,1,1,1,3,1],\"sizemode\":\"area\",\"sizeref\":0.0125,\"symbol\":\"circle\"},\"mode\":\"markers\",\"name\":\"Marvel Super Heroes\",\"orientation\":\"v\",\"showlegend\":true,\"x\":[95.0,80.0,446.0,335.0,80.0,287.0,287.0,80.0,807.0,807.0,217.0,179.0,335.0,523.0,95.0,179.0,85.0,217.0,217.0],\"xaxis\":\"x\",\"y\":[9.99,9.99,39.99,29.99,9.99,29.99,29.99,9.99,79.99,79.99,19.99,19.99,29.99,59.99,9.99,19.99,9.99,19.99,19.99],\"yaxis\":\"y\",\"type\":\"scatter\"},{\"hovertemplate\":\"theme=Ghostbusters\\u003cbr\\u003epieces=%{x}\\u003cbr\\u003eus_price=%{y}\\u003cbr\\u003equantity=%{marker.size}\\u003cextra\\u003e\\u003c\\u002fextra\\u003e\",\"legendgroup\":\"Ghostbusters\",\"marker\":{\"color\":\"#FECB52\",\"size\":[1,2,2],\"sizemode\":\"area\",\"sizeref\":0.0125,\"symbol\":\"circle\"},\"mode\":\"markers\",\"name\":\"Ghostbusters\",\"orientation\":\"v\",\"showlegend\":true,\"x\":[null,4634.0,null],\"xaxis\":\"x\",\"y\":[59.99,349.99,59.99],\"yaxis\":\"y\",\"type\":\"scatter\"},{\"hovertemplate\":\"theme=Technic\\u003cbr\\u003epieces=%{x}\\u003cbr\\u003eus_price=%{y}\\u003cbr\\u003equantity=%{marker.size}\\u003cextra\\u003e\\u003c\\u002fextra\\u003e\",\"legendgroup\":\"Technic\",\"marker\":{\"color\":\"#636efa\",\"size\":[1,2,1,2,1,1,1,1,1,1],\"sizemode\":\"area\",\"sizeref\":0.0125,\"symbol\":\"circle\"},\"mode\":\"markers\",\"name\":\"Technic\",\"orientation\":\"v\",\"showlegend\":true,\"x\":[647.0,476.0,1042.0,345.0,113.0,170.0,345.0,345.0,185.0,647.0],\"xaxis\":\"x\",\"y\":[79.99,49.99,139.99,29.99,12.99,19.99,29.99,29.99,19.99,79.99],\"yaxis\":\"y\",\"type\":\"scatter\"},{\"hovertemplate\":\"theme=Seasonal\\u003cbr\\u003epieces=%{x}\\u003cbr\\u003eus_price=%{y}\\u003cbr\\u003equantity=%{marker.size}\\u003cextra\\u003e\\u003c\\u002fextra\\u003e\",\"legendgroup\":\"Seasonal\",\"marker\":{\"color\":\"#EF553B\",\"size\":[1,1,2],\"sizemode\":\"area\",\"sizeref\":0.0125,\"symbol\":\"circle\"},\"mode\":\"markers\",\"name\":\"Seasonal\",\"orientation\":\"v\",\"showlegend\":true,\"x\":[111.0,150.0,111.0],\"xaxis\":\"x\",\"y\":[9.99,9.99,9.99],\"yaxis\":\"y\",\"type\":\"scatter\"},{\"hovertemplate\":\"theme=Collectable Minifigures\\u003cbr\\u003epieces=%{x}\\u003cbr\\u003eus_price=%{y}\\u003cbr\\u003equantity=%{marker.size}\\u003cextra\\u003e\\u003c\\u002fextra\\u003e\",\"legendgroup\":\"Collectable Minifigures\",\"marker\":{\"color\":\"#00cc96\",\"size\":[1,1,1],\"sizemode\":\"area\",\"sizeref\":0.0125,\"symbol\":\"circle\"},\"mode\":\"markers\",\"name\":\"Collectable Minifigures\",\"orientation\":\"v\",\"showlegend\":true,\"x\":[null,null,null],\"xaxis\":\"x\",\"y\":[3.99,3.99,3.99],\"yaxis\":\"y\",\"type\":\"scatter\"},{\"hovertemplate\":\"theme=Ideas\\u003cbr\\u003epieces=%{x}\\u003cbr\\u003eus_price=%{y}\\u003cbr\\u003equantity=%{marker.size}\\u003cextra\\u003e\\u003c\\u002fextra\\u003e\",\"legendgroup\":\"Ideas\",\"marker\":{\"color\":\"#ab63fa\",\"size\":[1,2],\"sizemode\":\"area\",\"sizeref\":0.0125,\"symbol\":\"circle\"},\"mode\":\"markers\",\"name\":\"Ideas\",\"orientation\":\"v\",\"showlegend\":true,\"x\":[769.0,769.0],\"xaxis\":\"x\",\"y\":[69.99,69.99],\"yaxis\":\"y\",\"type\":\"scatter\"},{\"hovertemplate\":\"theme=Classic\\u003cbr\\u003epieces=%{x}\\u003cbr\\u003eus_price=%{y}\\u003cbr\\u003equantity=%{marker.size}\\u003cextra\\u003e\\u003c\\u002fextra\\u003e\",\"legendgroup\":\"Classic\",\"marker\":{\"color\":\"#FFA15A\",\"size\":[1],\"sizemode\":\"area\",\"sizeref\":0.0125,\"symbol\":\"circle\"},\"mode\":\"markers\",\"name\":\"Classic\",\"orientation\":\"v\",\"showlegend\":true,\"x\":[583.0],\"xaxis\":\"x\",\"y\":[29.99],\"yaxis\":\"y\",\"type\":\"scatter\"}],                        {\"template\":{\"data\":{\"histogram2dcontour\":[{\"type\":\"histogram2dcontour\",\"colorbar\":{\"outlinewidth\":0,\"ticks\":\"\"},\"colorscale\":[[0.0,\"#0d0887\"],[0.1111111111111111,\"#46039f\"],[0.2222222222222222,\"#7201a8\"],[0.3333333333333333,\"#9c179e\"],[0.4444444444444444,\"#bd3786\"],[0.5555555555555556,\"#d8576b\"],[0.6666666666666666,\"#ed7953\"],[0.7777777777777778,\"#fb9f3a\"],[0.8888888888888888,\"#fdca26\"],[1.0,\"#f0f921\"]]}],\"choropleth\":[{\"type\":\"choropleth\",\"colorbar\":{\"outlinewidth\":0,\"ticks\":\"\"}}],\"histogram2d\":[{\"type\":\"histogram2d\",\"colorbar\":{\"outlinewidth\":0,\"ticks\":\"\"},\"colorscale\":[[0.0,\"#0d0887\"],[0.1111111111111111,\"#46039f\"],[0.2222222222222222,\"#7201a8\"],[0.3333333333333333,\"#9c179e\"],[0.4444444444444444,\"#bd3786\"],[0.5555555555555556,\"#d8576b\"],[0.6666666666666666,\"#ed7953\"],[0.7777777777777778,\"#fb9f3a\"],[0.8888888888888888,\"#fdca26\"],[1.0,\"#f0f921\"]]}],\"heatmap\":[{\"type\":\"heatmap\",\"colorbar\":{\"outlinewidth\":0,\"ticks\":\"\"},\"colorscale\":[[0.0,\"#0d0887\"],[0.1111111111111111,\"#46039f\"],[0.2222222222222222,\"#7201a8\"],[0.3333333333333333,\"#9c179e\"],[0.4444444444444444,\"#bd3786\"],[0.5555555555555556,\"#d8576b\"],[0.6666666666666666,\"#ed7953\"],[0.7777777777777778,\"#fb9f3a\"],[0.8888888888888888,\"#fdca26\"],[1.0,\"#f0f921\"]]}],\"heatmapgl\":[{\"type\":\"heatmapgl\",\"colorbar\":{\"outlinewidth\":0,\"ticks\":\"\"},\"colorscale\":[[0.0,\"#0d0887\"],[0.1111111111111111,\"#46039f\"],[0.2222222222222222,\"#7201a8\"],[0.3333333333333333,\"#9c179e\"],[0.4444444444444444,\"#bd3786\"],[0.5555555555555556,\"#d8576b\"],[0.6666666666666666,\"#ed7953\"],[0.7777777777777778,\"#fb9f3a\"],[0.8888888888888888,\"#fdca26\"],[1.0,\"#f0f921\"]]}],\"contourcarpet\":[{\"type\":\"contourcarpet\",\"colorbar\":{\"outlinewidth\":0,\"ticks\":\"\"}}],\"contour\":[{\"type\":\"contour\",\"colorbar\":{\"outlinewidth\":0,\"ticks\":\"\"},\"colorscale\":[[0.0,\"#0d0887\"],[0.1111111111111111,\"#46039f\"],[0.2222222222222222,\"#7201a8\"],[0.3333333333333333,\"#9c179e\"],[0.4444444444444444,\"#bd3786\"],[0.5555555555555556,\"#d8576b\"],[0.6666666666666666,\"#ed7953\"],[0.7777777777777778,\"#fb9f3a\"],[0.8888888888888888,\"#fdca26\"],[1.0,\"#f0f921\"]]}],\"surface\":[{\"type\":\"surface\",\"colorbar\":{\"outlinewidth\":0,\"ticks\":\"\"},\"colorscale\":[[0.0,\"#0d0887\"],[0.1111111111111111,\"#46039f\"],[0.2222222222222222,\"#7201a8\"],[0.3333333333333333,\"#9c179e\"],[0.4444444444444444,\"#bd3786\"],[0.5555555555555556,\"#d8576b\"],[0.6666666666666666,\"#ed7953\"],[0.7777777777777778,\"#fb9f3a\"],[0.8888888888888888,\"#fdca26\"],[1.0,\"#f0f921\"]]}],\"mesh3d\":[{\"type\":\"mesh3d\",\"colorbar\":{\"outlinewidth\":0,\"ticks\":\"\"}}],\"scatter\":[{\"fillpattern\":{\"fillmode\":\"overlay\",\"size\":10,\"solidity\":0.2},\"type\":\"scatter\"}],\"parcoords\":[{\"type\":\"parcoords\",\"line\":{\"colorbar\":{\"outlinewidth\":0,\"ticks\":\"\"}}}],\"scatterpolargl\":[{\"type\":\"scatterpolargl\",\"marker\":{\"colorbar\":{\"outlinewidth\":0,\"ticks\":\"\"}}}],\"bar\":[{\"error_x\":{\"color\":\"#2a3f5f\"},\"error_y\":{\"color\":\"#2a3f5f\"},\"marker\":{\"line\":{\"color\":\"#E5ECF6\",\"width\":0.5},\"pattern\":{\"fillmode\":\"overlay\",\"size\":10,\"solidity\":0.2}},\"type\":\"bar\"}],\"scattergeo\":[{\"type\":\"scattergeo\",\"marker\":{\"colorbar\":{\"outlinewidth\":0,\"ticks\":\"\"}}}],\"scatterpolar\":[{\"type\":\"scatterpolar\",\"marker\":{\"colorbar\":{\"outlinewidth\":0,\"ticks\":\"\"}}}],\"histogram\":[{\"marker\":{\"pattern\":{\"fillmode\":\"overlay\",\"size\":10,\"solidity\":0.2}},\"type\":\"histogram\"}],\"scattergl\":[{\"type\":\"scattergl\",\"marker\":{\"colorbar\":{\"outlinewidth\":0,\"ticks\":\"\"}}}],\"scatter3d\":[{\"type\":\"scatter3d\",\"line\":{\"colorbar\":{\"outlinewidth\":0,\"ticks\":\"\"}},\"marker\":{\"colorbar\":{\"outlinewidth\":0,\"ticks\":\"\"}}}],\"scattermapbox\":[{\"type\":\"scattermapbox\",\"marker\":{\"colorbar\":{\"outlinewidth\":0,\"ticks\":\"\"}}}],\"scatterternary\":[{\"type\":\"scatterternary\",\"marker\":{\"colorbar\":{\"outlinewidth\":0,\"ticks\":\"\"}}}],\"scattercarpet\":[{\"type\":\"scattercarpet\",\"marker\":{\"colorbar\":{\"outlinewidth\":0,\"ticks\":\"\"}}}],\"carpet\":[{\"aaxis\":{\"endlinecolor\":\"#2a3f5f\",\"gridcolor\":\"white\",\"linecolor\":\"white\",\"minorgridcolor\":\"white\",\"startlinecolor\":\"#2a3f5f\"},\"baxis\":{\"endlinecolor\":\"#2a3f5f\",\"gridcolor\":\"white\",\"linecolor\":\"white\",\"minorgridcolor\":\"white\",\"startlinecolor\":\"#2a3f5f\"},\"type\":\"carpet\"}],\"table\":[{\"cells\":{\"fill\":{\"color\":\"#EBF0F8\"},\"line\":{\"color\":\"white\"}},\"header\":{\"fill\":{\"color\":\"#C8D4E3\"},\"line\":{\"color\":\"white\"}},\"type\":\"table\"}],\"barpolar\":[{\"marker\":{\"line\":{\"color\":\"#E5ECF6\",\"width\":0.5},\"pattern\":{\"fillmode\":\"overlay\",\"size\":10,\"solidity\":0.2}},\"type\":\"barpolar\"}],\"pie\":[{\"automargin\":true,\"type\":\"pie\"}]},\"layout\":{\"autotypenumbers\":\"strict\",\"colorway\":[\"#636efa\",\"#EF553B\",\"#00cc96\",\"#ab63fa\",\"#FFA15A\",\"#19d3f3\",\"#FF6692\",\"#B6E880\",\"#FF97FF\",\"#FECB52\"],\"font\":{\"color\":\"#2a3f5f\"},\"hovermode\":\"closest\",\"hoverlabel\":{\"align\":\"left\"},\"paper_bgcolor\":\"white\",\"plot_bgcolor\":\"#E5ECF6\",\"polar\":{\"bgcolor\":\"#E5ECF6\",\"angularaxis\":{\"gridcolor\":\"white\",\"linecolor\":\"white\",\"ticks\":\"\"},\"radialaxis\":{\"gridcolor\":\"white\",\"linecolor\":\"white\",\"ticks\":\"\"}},\"ternary\":{\"bgcolor\":\"#E5ECF6\",\"aaxis\":{\"gridcolor\":\"white\",\"linecolor\":\"white\",\"ticks\":\"\"},\"baxis\":{\"gridcolor\":\"white\",\"linecolor\":\"white\",\"ticks\":\"\"},\"caxis\":{\"gridcolor\":\"white\",\"linecolor\":\"white\",\"ticks\":\"\"}},\"coloraxis\":{\"colorbar\":{\"outlinewidth\":0,\"ticks\":\"\"}},\"colorscale\":{\"sequential\":[[0.0,\"#0d0887\"],[0.1111111111111111,\"#46039f\"],[0.2222222222222222,\"#7201a8\"],[0.3333333333333333,\"#9c179e\"],[0.4444444444444444,\"#bd3786\"],[0.5555555555555556,\"#d8576b\"],[0.6666666666666666,\"#ed7953\"],[0.7777777777777778,\"#fb9f3a\"],[0.8888888888888888,\"#fdca26\"],[1.0,\"#f0f921\"]],\"sequentialminus\":[[0.0,\"#0d0887\"],[0.1111111111111111,\"#46039f\"],[0.2222222222222222,\"#7201a8\"],[0.3333333333333333,\"#9c179e\"],[0.4444444444444444,\"#bd3786\"],[0.5555555555555556,\"#d8576b\"],[0.6666666666666666,\"#ed7953\"],[0.7777777777777778,\"#fb9f3a\"],[0.8888888888888888,\"#fdca26\"],[1.0,\"#f0f921\"]],\"diverging\":[[0,\"#8e0152\"],[0.1,\"#c51b7d\"],[0.2,\"#de77ae\"],[0.3,\"#f1b6da\"],[0.4,\"#fde0ef\"],[0.5,\"#f7f7f7\"],[0.6,\"#e6f5d0\"],[0.7,\"#b8e186\"],[0.8,\"#7fbc41\"],[0.9,\"#4d9221\"],[1,\"#276419\"]]},\"xaxis\":{\"gridcolor\":\"white\",\"linecolor\":\"white\",\"ticks\":\"\",\"title\":{\"standoff\":15},\"zerolinecolor\":\"white\",\"automargin\":true,\"zerolinewidth\":2},\"yaxis\":{\"gridcolor\":\"white\",\"linecolor\":\"white\",\"ticks\":\"\",\"title\":{\"standoff\":15},\"zerolinecolor\":\"white\",\"automargin\":true,\"zerolinewidth\":2},\"scene\":{\"xaxis\":{\"backgroundcolor\":\"#E5ECF6\",\"gridcolor\":\"white\",\"linecolor\":\"white\",\"showbackground\":true,\"ticks\":\"\",\"zerolinecolor\":\"white\",\"gridwidth\":2},\"yaxis\":{\"backgroundcolor\":\"#E5ECF6\",\"gridcolor\":\"white\",\"linecolor\":\"white\",\"showbackground\":true,\"ticks\":\"\",\"zerolinecolor\":\"white\",\"gridwidth\":2},\"zaxis\":{\"backgroundcolor\":\"#E5ECF6\",\"gridcolor\":\"white\",\"linecolor\":\"white\",\"showbackground\":true,\"ticks\":\"\",\"zerolinecolor\":\"white\",\"gridwidth\":2}},\"shapedefaults\":{\"line\":{\"color\":\"#2a3f5f\"}},\"annotationdefaults\":{\"arrowcolor\":\"#2a3f5f\",\"arrowhead\":0,\"arrowwidth\":1},\"geo\":{\"bgcolor\":\"white\",\"landcolor\":\"#E5ECF6\",\"subunitcolor\":\"white\",\"showland\":true,\"showlakes\":true,\"lakecolor\":\"white\"},\"title\":{\"x\":0.05},\"mapbox\":{\"style\":\"light\"}}},\"xaxis\":{\"anchor\":\"y\",\"domain\":[0.0,1.0],\"title\":{\"text\":\"pieces\"}},\"yaxis\":{\"anchor\":\"x\",\"domain\":[0.0,1.0],\"title\":{\"text\":\"us_price\"}},\"legend\":{\"title\":{\"text\":\"theme\"},\"tracegroupgap\":0,\"itemsizing\":\"constant\"},\"margin\":{\"t\":60},\"title\":{\"text\":\"Lego pieces and the US Price\"},\"height\":700},                        {\"responsive\": true}                    ).then(function(){\n",
       "                            \n",
       "var gd = document.getElementById('33eb70c3-4e76-4839-b710-fc3a7894e528');\n",
       "var x = new MutationObserver(function (mutations, observer) {{\n",
       "        var display = window.getComputedStyle(gd).display;\n",
       "        if (!display || display === 'none') {{\n",
       "            console.log([gd, 'removed!']);\n",
       "            Plotly.purge(gd);\n",
       "            observer.disconnect();\n",
       "        }}\n",
       "}});\n",
       "\n",
       "// Listen for the removal of the full notebook cells\n",
       "var notebookContainer = gd.closest('#notebook-container');\n",
       "if (notebookContainer) {{\n",
       "    x.observe(notebookContainer, {childList: true});\n",
       "}}\n",
       "\n",
       "// Listen for the clearing of the current output cell\n",
       "var outputEl = gd.closest('.output');\n",
       "if (outputEl) {{\n",
       "    x.observe(outputEl, {childList: true});\n",
       "}}\n",
       "\n",
       "                        })                };                });            </script>        </div>"
      ]
     },
     "metadata": {},
     "output_type": "display_data"
    }
   ],
   "source": [
    "\n",
    "#10.  Come up with a question you want to answer using these data, and write it down. Then,\n",
    "#create a data visualization that answers the question, and explain how your visualization answers the question.\n",
    "\n",
    "#Step 1] Get rid of NaN values. Only pieces had NA values, US_price did not\n",
    "\n",
    "DF['pieces'].dropna()\n",
    "DF['theme'].dropna()\n",
    "DF['us_price'].dropna()\n",
    "DF.isna().sum()\n",
    "\n",
    "#Step 2] visualize your data \n",
    "    #I really liked a scatter plot from plotly and I wanted to try it for this project.\n",
    "    # Reference: https://plotly.com/python/line-and-scatter/\n",
    "\n",
    "import plotly.express as px\n",
    "fig = px.scatter(DF, x=\"pieces\", y=\"us_price\", color=\"theme\", size = 'quantity')  \n",
    "\n",
    "fig.update_layout (\n",
    "    title_text = \"Lego pieces and the US Price\",\n",
    "    height = 700\n",
    " )\n",
    "fig.show()\n",
    "\n"
   ]
  },
  {
   "cell_type": "markdown",
   "id": "3a3a6c9b-07af-4261-97ce-9c43eedfe4ad",
   "metadata": {},
   "source": [
    "### What makes this scatterplot worth trying is the fact that it is interactive. When you hover over a dot, which is sized up depending on the pieces, it shows you the exact amount of pieces and the US price. This is very convenient. It is also color coated so we can see which theme corresponds to which dot. \n",
    "\n",
    "This graph clearly reveals that the number of pieces results in a higher price. The trend is very upward. It could also be the case that lego builds which more pieces are just inherently more expensive, regardless of the theme. \n"
   ]
  }
 ],
 "metadata": {
  "kernelspec": {
   "display_name": "Python [conda env:base] *",
   "language": "python",
   "name": "conda-base-py"
  },
  "language_info": {
   "codemirror_mode": {
    "name": "ipython",
    "version": 3
   },
   "file_extension": ".py",
   "mimetype": "text/x-python",
   "name": "python",
   "nbconvert_exporter": "python",
   "pygments_lexer": "ipython3",
   "version": "3.12.2"
  }
 },
 "nbformat": 4,
 "nbformat_minor": 5
}
